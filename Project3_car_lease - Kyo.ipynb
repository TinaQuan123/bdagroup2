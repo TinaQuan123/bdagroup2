{
 "cells": [
  {
   "cell_type": "markdown",
   "id": "e4b1ee5c",
   "metadata": {},
   "source": [
    "## 1.Import python packages"
   ]
  },
  {
   "cell_type": "code",
   "execution_count": 1,
   "id": "79c2825d",
   "metadata": {},
   "outputs": [],
   "source": [
    "import pandas as pd\n",
    "import numpy as np\n",
    "import os\n",
    "from pathlib import Path\n",
    "\n",
    "import pyodbc\n",
    "import urllib\n",
    "import sqlalchemy\n",
    "'''destination databases'''\n",
    "params_datahub = urllib.parse.quote_plus(\"DRIVER={ODBC Driver 17 for SQL Server};\"\n",
    "                                 \"SERVER=localhost\\SQLEXPRESS;\"\n",
    "                                 \"DATABASE=datahub;\"\n",
    "                                 \"UID=sa;\"\n",
    "                                 \"PWD=user1\")\n",
    "engine_datahub = sqlalchemy.create_engine(\"mssql+pyodbc:///?odbc_connect={}\".format(params_datahub))"
   ]
  },
  {
   "cell_type": "code",
   "execution_count": 2,
   "id": "144b439e",
   "metadata": {},
   "outputs": [],
   "source": [
    "directoryPath=''\n",
    "df_dealer=pd.read_csv(directoryPath+'dealer.csv')"
   ]
  },
  {
   "cell_type": "code",
   "execution_count": 3,
   "id": "6e92f752",
   "metadata": {},
   "outputs": [
    {
     "data": {
      "text/html": [
       "<div>\n",
       "<style scoped>\n",
       "    .dataframe tbody tr th:only-of-type {\n",
       "        vertical-align: middle;\n",
       "    }\n",
       "\n",
       "    .dataframe tbody tr th {\n",
       "        vertical-align: top;\n",
       "    }\n",
       "\n",
       "    .dataframe thead th {\n",
       "        text-align: right;\n",
       "    }\n",
       "</style>\n",
       "<table border=\"1\" class=\"dataframe\">\n",
       "  <thead>\n",
       "    <tr style=\"text-align: right;\">\n",
       "      <th></th>\n",
       "      <th>dealer_key</th>\n",
       "      <th>DealerName</th>\n",
       "      <th>salesperson</th>\n",
       "    </tr>\n",
       "  </thead>\n",
       "  <tbody>\n",
       "    <tr>\n",
       "      <th>0</th>\n",
       "      <td>0</td>\n",
       "      <td>Motorcars Honda</td>\n",
       "      <td>Samin Gupta</td>\n",
       "    </tr>\n",
       "    <tr>\n",
       "      <th>1</th>\n",
       "      <td>1</td>\n",
       "      <td>A J Dohmann Chevrolet Cadillac</td>\n",
       "      <td>Rachel Arellano</td>\n",
       "    </tr>\n",
       "    <tr>\n",
       "      <th>2</th>\n",
       "      <td>2</td>\n",
       "      <td>Evert's Motor Sales</td>\n",
       "      <td>Samin Gupta</td>\n",
       "    </tr>\n",
       "    <tr>\n",
       "      <th>3</th>\n",
       "      <td>3</td>\n",
       "      <td>Walker Auto Group Inc</td>\n",
       "      <td>Jim Vogler</td>\n",
       "    </tr>\n",
       "    <tr>\n",
       "      <th>4</th>\n",
       "      <td>4</td>\n",
       "      <td>Simple Enterprises</td>\n",
       "      <td>Nora Palermo</td>\n",
       "    </tr>\n",
       "    <tr>\n",
       "      <th>...</th>\n",
       "      <td>...</td>\n",
       "      <td>...</td>\n",
       "      <td>...</td>\n",
       "    </tr>\n",
       "    <tr>\n",
       "      <th>100</th>\n",
       "      <td>100</td>\n",
       "      <td>Gorges Volvo</td>\n",
       "      <td>Jim Vogler</td>\n",
       "    </tr>\n",
       "    <tr>\n",
       "      <th>101</th>\n",
       "      <td>101</td>\n",
       "      <td>Hiller Ford Inc</td>\n",
       "      <td>Jim Vogler</td>\n",
       "    </tr>\n",
       "    <tr>\n",
       "      <th>102</th>\n",
       "      <td>102</td>\n",
       "      <td>Morrow Brothers Ford Inc</td>\n",
       "      <td>Samin Gupta</td>\n",
       "    </tr>\n",
       "    <tr>\n",
       "      <th>103</th>\n",
       "      <td>103</td>\n",
       "      <td>Frank Shirey Cadillac</td>\n",
       "      <td>Jim Vogler</td>\n",
       "    </tr>\n",
       "    <tr>\n",
       "      <th>104</th>\n",
       "      <td>104</td>\n",
       "      <td>Spitzer Motor City Inc</td>\n",
       "      <td>Jim Vogler</td>\n",
       "    </tr>\n",
       "  </tbody>\n",
       "</table>\n",
       "<p>105 rows × 3 columns</p>\n",
       "</div>"
      ],
      "text/plain": [
       "     dealer_key                      DealerName      salesperson\n",
       "0             0                 Motorcars Honda      Samin Gupta\n",
       "1             1  A J Dohmann Chevrolet Cadillac  Rachel Arellano\n",
       "2             2             Evert's Motor Sales      Samin Gupta\n",
       "3             3           Walker Auto Group Inc       Jim Vogler\n",
       "4             4              Simple Enterprises     Nora Palermo\n",
       "..          ...                             ...              ...\n",
       "100         100                    Gorges Volvo       Jim Vogler\n",
       "101         101                 Hiller Ford Inc       Jim Vogler\n",
       "102         102        Morrow Brothers Ford Inc      Samin Gupta\n",
       "103         103           Frank Shirey Cadillac       Jim Vogler\n",
       "104         104          Spitzer Motor City Inc       Jim Vogler\n",
       "\n",
       "[105 rows x 3 columns]"
      ]
     },
     "execution_count": 3,
     "metadata": {},
     "output_type": "execute_result"
    }
   ],
   "source": [
    "# correct name of sales persons\n",
    "fix_type = {'Jim Vegler':'Jim Vogler','Jim Voglr':'Jim Vogler','Mansor Naser':'Mansur Naser','MansurNaser':'Mansur Naser','Nora Palerno':'Nora Palermo','Norah Palarmo':'Nora Palermo','Norah Palermo':'Nora Palermo','Rachael Arellano':'Rachel Arellano','Rachel Arelleno':'Rachel Arellano','Samine Gupta':'Samin Gupta','Simin Gupta':'Samin Gupta'}\n",
    "df_dealer['salesperson']= df_dealer['salesperson'].replace(fix_type)\n",
    "df_dealer"
   ]
  },
  {
   "cell_type": "code",
   "execution_count": 4,
   "id": "ed8e4e05",
   "metadata": {},
   "outputs": [],
   "source": [
    "df_dealer.to_csv(directoryPath+'dealer2.csv',index=False)"
   ]
  },
  {
   "cell_type": "code",
   "execution_count": 5,
   "id": "17f01b20",
   "metadata": {},
   "outputs": [],
   "source": [
    "from datetime import datetime\n",
    "import datetime as dt\n",
    "from datetime import date\n",
    "def monthly(x):\n",
    "    return dt.datetime(x.year,x.month, 1)"
   ]
  },
  {
   "cell_type": "code",
   "execution_count": 6,
   "id": "61821e9f",
   "metadata": {},
   "outputs": [],
   "source": [
    "df_submission_history=pd.read_csv(directoryPath+'submission_history.csv')\n",
    "df_submission_history['submission_date'] = df_submission_history['submission_date'].apply(pd.to_datetime)"
   ]
  },
  {
   "cell_type": "code",
   "execution_count": 7,
   "id": "f82a5268",
   "metadata": {},
   "outputs": [
    {
     "name": "stdout",
     "output_type": "stream",
     "text": [
      "<class 'pandas.core.frame.DataFrame'>\n",
      "RangeIndex: 6883 entries, 0 to 6882\n",
      "Data columns (total 5 columns):\n",
      " #   Column           Non-Null Count  Dtype         \n",
      "---  ------           --------------  -----         \n",
      " 0   application_id   6883 non-null   int64         \n",
      " 1   submission_id    6883 non-null   int64         \n",
      " 2   submission_date  6883 non-null   datetime64[ns]\n",
      " 3   revenue          6883 non-null   int64         \n",
      " 4   submission_mth   6883 non-null   datetime64[ns]\n",
      "dtypes: datetime64[ns](2), int64(3)\n",
      "memory usage: 269.0 KB\n"
     ]
    }
   ],
   "source": [
    "df_submission_history['submission_mth'] = df_submission_history['submission_date'].apply(monthly)\n",
    "df_submission_history.info()"
   ]
  },
  {
   "cell_type": "code",
   "execution_count": 8,
   "id": "c59e49fa",
   "metadata": {},
   "outputs": [],
   "source": [
    "df_submission_history.to_csv(directoryPath+'submission_history2.csv',index = False)"
   ]
  },
  {
   "cell_type": "markdown",
   "id": "cc17e719",
   "metadata": {},
   "source": [
    "#### Update the file in the SQL from csv"
   ]
  },
  {
   "cell_type": "code",
   "execution_count": 9,
   "id": "545de99c",
   "metadata": {},
   "outputs": [
    {
     "name": "stdout",
     "output_type": "stream",
     "text": [
      "application\n",
      "dealer\n",
      "dealer2\n",
      "submission_history\n",
      "submission_history2\n"
     ]
    }
   ],
   "source": [
    "import glob\n",
    "directoryPath=r\"C:\\Users\\nim\\Documents\\ZZZ-Data Analysis Training\\Business_Data_Analysis\\Bizdata Analytics workshop 1\\Project_car_lease/\"\n",
    "\n",
    "for file_name in glob.glob(directoryPath+'*.csv'):\n",
    "        print(Path(file_name).stem)\n",
    "        x = pd.read_csv(file_name)\n",
    "        x.to_sql(Path(file_name).stem, engine_datahub,if_exists='replace',index=False)"
   ]
  },
  {
   "cell_type": "markdown",
   "id": "4b98d53b",
   "metadata": {},
   "source": [
    "#### refresh data models "
   ]
  },
  {
   "cell_type": "code",
   "execution_count": 10,
   "id": "11a0fb0f",
   "metadata": {},
   "outputs": [],
   "source": [
    "# directoryPath=r\"C:\\Users\\nim\\Documents\\ZZZ-Data Analysis Training\\Business_Data_Analysis\\Bizdata Analytics workshop 1\\Project_car_lease/\"\n",
    "# for file_name in glob.glob(directoryPath+'*.sql'):    \n",
    "#         with open(file_name, 'r') as sql_file:\n",
    "#             engine_datahub.execute(sql_file.read())\n",
    "#         print(Path(file_name).stem)\n",
    "#         print(file_name)"
   ]
  },
  {
   "cell_type": "code",
   "execution_count": 11,
   "id": "b39c4356",
   "metadata": {},
   "outputs": [
    {
     "data": {
      "text/html": [
       "<div>\n",
       "<style scoped>\n",
       "    .dataframe tbody tr th:only-of-type {\n",
       "        vertical-align: middle;\n",
       "    }\n",
       "\n",
       "    .dataframe tbody tr th {\n",
       "        vertical-align: top;\n",
       "    }\n",
       "\n",
       "    .dataframe thead th {\n",
       "        text-align: right;\n",
       "    }\n",
       "</style>\n",
       "<table border=\"1\" class=\"dataframe\">\n",
       "  <thead>\n",
       "    <tr style=\"text-align: right;\">\n",
       "      <th></th>\n",
       "      <th>application_id</th>\n",
       "      <th>submission_id</th>\n",
       "      <th>submission_date</th>\n",
       "      <th>revenue</th>\n",
       "      <th>submission_mth</th>\n",
       "    </tr>\n",
       "  </thead>\n",
       "  <tbody>\n",
       "    <tr>\n",
       "      <th>0</th>\n",
       "      <td>200000</td>\n",
       "      <td>1842</td>\n",
       "      <td>2022-04-20</td>\n",
       "      <td>1690</td>\n",
       "      <td>2022-04-01</td>\n",
       "    </tr>\n",
       "    <tr>\n",
       "      <th>1</th>\n",
       "      <td>200001</td>\n",
       "      <td>2458</td>\n",
       "      <td>2022-05-04</td>\n",
       "      <td>2490</td>\n",
       "      <td>2022-05-01</td>\n",
       "    </tr>\n",
       "    <tr>\n",
       "      <th>2</th>\n",
       "      <td>200001</td>\n",
       "      <td>4983</td>\n",
       "      <td>2022-05-04</td>\n",
       "      <td>2520</td>\n",
       "      <td>2022-05-01</td>\n",
       "    </tr>\n",
       "    <tr>\n",
       "      <th>3</th>\n",
       "      <td>200002</td>\n",
       "      <td>833</td>\n",
       "      <td>2022-07-09</td>\n",
       "      <td>1980</td>\n",
       "      <td>2022-07-01</td>\n",
       "    </tr>\n",
       "    <tr>\n",
       "      <th>4</th>\n",
       "      <td>200002</td>\n",
       "      <td>2299</td>\n",
       "      <td>2022-07-09</td>\n",
       "      <td>2010</td>\n",
       "      <td>2022-07-01</td>\n",
       "    </tr>\n",
       "    <tr>\n",
       "      <th>5</th>\n",
       "      <td>200002</td>\n",
       "      <td>4525</td>\n",
       "      <td>2022-07-08</td>\n",
       "      <td>2070</td>\n",
       "      <td>2022-07-01</td>\n",
       "    </tr>\n",
       "    <tr>\n",
       "      <th>6</th>\n",
       "      <td>200003</td>\n",
       "      <td>3749</td>\n",
       "      <td>2022-07-27</td>\n",
       "      <td>2030</td>\n",
       "      <td>2022-07-01</td>\n",
       "    </tr>\n",
       "    <tr>\n",
       "      <th>7</th>\n",
       "      <td>200004</td>\n",
       "      <td>615</td>\n",
       "      <td>2022-04-06</td>\n",
       "      <td>2180</td>\n",
       "      <td>2022-04-01</td>\n",
       "    </tr>\n",
       "    <tr>\n",
       "      <th>8</th>\n",
       "      <td>200004</td>\n",
       "      <td>4947</td>\n",
       "      <td>2022-04-08</td>\n",
       "      <td>2060</td>\n",
       "      <td>2022-04-01</td>\n",
       "    </tr>\n",
       "    <tr>\n",
       "      <th>9</th>\n",
       "      <td>200005</td>\n",
       "      <td>735</td>\n",
       "      <td>2022-05-14</td>\n",
       "      <td>1330</td>\n",
       "      <td>2022-05-01</td>\n",
       "    </tr>\n",
       "  </tbody>\n",
       "</table>\n",
       "</div>"
      ],
      "text/plain": [
       "   application_id  submission_id submission_date  revenue submission_mth\n",
       "0          200000           1842      2022-04-20     1690     2022-04-01\n",
       "1          200001           2458      2022-05-04     2490     2022-05-01\n",
       "2          200001           4983      2022-05-04     2520     2022-05-01\n",
       "3          200002            833      2022-07-09     1980     2022-07-01\n",
       "4          200002           2299      2022-07-09     2010     2022-07-01\n",
       "5          200002           4525      2022-07-08     2070     2022-07-01\n",
       "6          200003           3749      2022-07-27     2030     2022-07-01\n",
       "7          200004            615      2022-04-06     2180     2022-04-01\n",
       "8          200004           4947      2022-04-08     2060     2022-04-01\n",
       "9          200005            735      2022-05-14     1330     2022-05-01"
      ]
     },
     "execution_count": 11,
     "metadata": {},
     "output_type": "execute_result"
    }
   ],
   "source": [
    "df_submission_history.head(10)"
   ]
  },
  {
   "cell_type": "code",
   "execution_count": 12,
   "id": "0c762246",
   "metadata": {},
   "outputs": [
    {
     "name": "stdout",
     "output_type": "stream",
     "text": [
      "<class 'pandas.core.frame.DataFrame'>\n",
      "RangeIndex: 3423 entries, 0 to 3422\n",
      "Data columns (total 3 columns):\n",
      " #   Column          Non-Null Count  Dtype \n",
      "---  ------          --------------  ----- \n",
      " 0   application_id  3423 non-null   int64 \n",
      " 1   dealer_key      3423 non-null   int64 \n",
      " 2   status          3423 non-null   object\n",
      "dtypes: int64(2), object(1)\n",
      "memory usage: 80.4+ KB\n"
     ]
    }
   ],
   "source": [
    "directoryPath=r\"C:\\Users\\nim\\Documents\\ZZZ-Data Analysis Training\\Business_Data_Analysis\\Bizdata Analytics workshop 1\\Project_car_lease/\"\n",
    "df_application=pd.read_csv(directoryPath+'application.csv')\n",
    "df_application.info()"
   ]
  },
  {
   "cell_type": "code",
   "execution_count": 194,
   "id": "5be75aac",
   "metadata": {},
   "outputs": [],
   "source": [
    "df_application_dealer_sales = pd.merge(df_application,df_dealer,on = 'dealer_key',how = 'left')"
   ]
  },
  {
   "cell_type": "code",
   "execution_count": 195,
   "id": "48de45fc",
   "metadata": {},
   "outputs": [],
   "source": [
    "df_submission_application = pd.merge(df_submission_history,df_application_dealer_sales,on = 'application_id',how = 'left')\n",
    "# df_submission_application"
   ]
  },
  {
   "cell_type": "code",
   "execution_count": 141,
   "id": "67e522ea",
   "metadata": {},
   "outputs": [
    {
     "data": {
      "text/html": [
       "<div>\n",
       "<style scoped>\n",
       "    .dataframe tbody tr th:only-of-type {\n",
       "        vertical-align: middle;\n",
       "    }\n",
       "\n",
       "    .dataframe tbody tr th {\n",
       "        vertical-align: top;\n",
       "    }\n",
       "\n",
       "    .dataframe thead th {\n",
       "        text-align: right;\n",
       "    }\n",
       "</style>\n",
       "<table border=\"1\" class=\"dataframe\">\n",
       "  <thead>\n",
       "    <tr style=\"text-align: right;\">\n",
       "      <th>submission_id</th>\n",
       "      <th>salesperson</th>\n",
       "      <th>one_sub</th>\n",
       "      <th>double_sub</th>\n",
       "      <th>triple_sub</th>\n",
       "      <th>total_sub</th>\n",
       "      <th>sub_rate</th>\n",
       "    </tr>\n",
       "  </thead>\n",
       "  <tbody>\n",
       "    <tr>\n",
       "      <th>0</th>\n",
       "      <td>Jim Vogler</td>\n",
       "      <td>243</td>\n",
       "      <td>270</td>\n",
       "      <td>260</td>\n",
       "      <td>773</td>\n",
       "      <td>0.112306</td>\n",
       "    </tr>\n",
       "    <tr>\n",
       "      <th>1</th>\n",
       "      <td>Mansur Naser</td>\n",
       "      <td>229</td>\n",
       "      <td>234</td>\n",
       "      <td>228</td>\n",
       "      <td>691</td>\n",
       "      <td>0.100392</td>\n",
       "    </tr>\n",
       "    <tr>\n",
       "      <th>2</th>\n",
       "      <td>Nora Palermo</td>\n",
       "      <td>179</td>\n",
       "      <td>196</td>\n",
       "      <td>203</td>\n",
       "      <td>578</td>\n",
       "      <td>0.083975</td>\n",
       "    </tr>\n",
       "    <tr>\n",
       "      <th>3</th>\n",
       "      <td>Rachel Arellano</td>\n",
       "      <td>214</td>\n",
       "      <td>206</td>\n",
       "      <td>202</td>\n",
       "      <td>622</td>\n",
       "      <td>0.090368</td>\n",
       "    </tr>\n",
       "    <tr>\n",
       "      <th>4</th>\n",
       "      <td>Samin Gupta</td>\n",
       "      <td>253</td>\n",
       "      <td>244</td>\n",
       "      <td>262</td>\n",
       "      <td>759</td>\n",
       "      <td>0.110272</td>\n",
       "    </tr>\n",
       "  </tbody>\n",
       "</table>\n",
       "</div>"
      ],
      "text/plain": [
       "submission_id      salesperson  one_sub  double_sub  triple_sub  total_sub  \\\n",
       "0                   Jim Vogler      243         270         260        773   \n",
       "1                 Mansur Naser      229         234         228        691   \n",
       "2                 Nora Palermo      179         196         203        578   \n",
       "3              Rachel Arellano      214         206         202        622   \n",
       "4                  Samin Gupta      253         244         262        759   \n",
       "\n",
       "submission_id  sub_rate  \n",
       "0              0.112306  \n",
       "1              0.100392  \n",
       "2              0.083975  \n",
       "3              0.090368  \n",
       "4              0.110272  "
      ]
     },
     "execution_count": 141,
     "metadata": {},
     "output_type": "execute_result"
    }
   ],
   "source": [
    "df_submission_times = pd.DataFrame(df_submission_application.groupby(['salesperson','application_id'])['submission_id'].count()).reset_index()\n",
    "df_submission_times2 = pd.DataFrame(df_submission_times.groupby(['salesperson','submission_id'])['application_id'].nunique().unstack().fillna(0)).reset_index()\n",
    "df_submission_times3 = df_submission_times2.rename({1:'one_sub',2:'double_sub',3:'triple_sub'},axis=1)\n",
    "df_submission_times3['total_sub']=df_submission_times3['one_sub']+df_submission_times3['double_sub']+df_submission_times3['triple_sub']\n",
    "df_submission_times3['sub_rate']= df_submission_times3['total_sub']/len(df_submission_application['submission_id'])\n",
    "df_submission_times3"
   ]
  },
  {
   "cell_type": "code",
   "execution_count": 193,
   "id": "bdbe11ed",
   "metadata": {},
   "outputs": [
    {
     "data": {
      "image/png": "[encoded data removed]",
      "text/plain": [
       "<Figure size 1080x432 with 1 Axes>"
      ]
     },
     "metadata": {
      "needs_background": "light"
     },
     "output_type": "display_data"
    }
   ],
   "source": [
    "import numpy as np\n",
    "import matplotlib.pyplot as plt\n",
    "  \n",
    "N = 5\n",
    "ind = np.arange(N) \n",
    "width = 0.25\n",
    "fig = plt.figure(figsize=(15,6))\n",
    "ax = fig.add_subplot(111)\n",
    "  \n",
    "one_sub_list = df_submission_times3['one_sub'].to_list()\n",
    "rects1 = ax.bar(ind, one_sub_list, width, color = 'g')\n",
    "\n",
    "two_sub_list = df_submission_times3['double_sub'].to_list()\n",
    "rects2 = ax.bar(ind+width,two_sub_list,width,color = 'b')\n",
    "\n",
    "three_sub_list = df_submission_times3['triple_sub'].to_list()\n",
    "rects3 = ax.bar(ind+width*2,three_sub_list,width,color = 'r')\n",
    "\n",
    "ax.set_ylabel('Number of submissions')\n",
    "ax.set_xticks(ind+width)\n",
    "ax.set_xticklabels( ('Jim Vogler', 'Mansur Naser', 'Nora Palermo', 'Rachel Arellano', 'Samin Gupta') )\n",
    "ax.legend( (rects1[0],rects2[0], rects3[0]), ('one_sub','double_sub', 'triple_sub') )\n",
    "\n",
    "def autolabel(rects):\n",
    "    for rect in rects:\n",
    "        h = rect.get_height()\n",
    "        ax.text(rect.get_x()+rect.get_width()/2., 1.01*h, '%d'%int(h),\n",
    "                ha='center', va='bottom')\n",
    "autolabel(rects1)\n",
    "autolabel(rects2)\n",
    "autolabel(rects3)\n",
    "\n",
    "plt.show()\n",
    "\n",
    "# plt.bar(x_axis-0.1,one_sub_list,0.4,label = df_submission_times3.columns[1])\n",
    "# plt.bar(x_axis+0.1,two_sub_list,0.4,label = df_submission_times3.columns[2])\n",
    "# plt.bar(x_axis+0.1,two_sub_list,0.4,label = df_submission_times3.columns[3])"
   ]
  },
  {
   "cell_type": "code",
   "execution_count": 15,
   "id": "c3640b32",
   "metadata": {},
   "outputs": [
    {
     "data": {
      "text/html": [
       "<div>\n",
       "<style scoped>\n",
       "    .dataframe tbody tr th:only-of-type {\n",
       "        vertical-align: middle;\n",
       "    }\n",
       "\n",
       "    .dataframe tbody tr th {\n",
       "        vertical-align: top;\n",
       "    }\n",
       "\n",
       "    .dataframe thead th {\n",
       "        text-align: right;\n",
       "    }\n",
       "</style>\n",
       "<table border=\"1\" class=\"dataframe\">\n",
       "  <thead>\n",
       "    <tr style=\"text-align: right;\">\n",
       "      <th></th>\n",
       "      <th>submission_mth</th>\n",
       "      <th>2022-04-01</th>\n",
       "      <th>2022-05-01</th>\n",
       "      <th>2022-06-01</th>\n",
       "      <th>2022-07-01</th>\n",
       "    </tr>\n",
       "    <tr>\n",
       "      <th>DealerName</th>\n",
       "      <th>salesperson</th>\n",
       "      <th></th>\n",
       "      <th></th>\n",
       "      <th></th>\n",
       "      <th></th>\n",
       "    </tr>\n",
       "  </thead>\n",
       "  <tbody>\n",
       "    <tr>\n",
       "      <th>A J Dohmann Chevrolet Cadillac</th>\n",
       "      <th>Rachel Arellano</th>\n",
       "      <td>8.0</td>\n",
       "      <td>5.0</td>\n",
       "      <td>3.0</td>\n",
       "      <td>10.0</td>\n",
       "    </tr>\n",
       "    <tr>\n",
       "      <th>American Service Center Associates</th>\n",
       "      <th>Rachel Arellano</th>\n",
       "      <td>11.0</td>\n",
       "      <td>5.0</td>\n",
       "      <td>8.0</td>\n",
       "      <td>4.0</td>\n",
       "    </tr>\n",
       "    <tr>\n",
       "      <th>Art Kuzma Motors Inc</th>\n",
       "      <th>Mansur Naser</th>\n",
       "      <td>16.0</td>\n",
       "      <td>19.0</td>\n",
       "      <td>18.0</td>\n",
       "      <td>20.0</td>\n",
       "    </tr>\n",
       "    <tr>\n",
       "      <th>Audubon Chrysler Ctr</th>\n",
       "      <th>Samin Gupta</th>\n",
       "      <td>9.0</td>\n",
       "      <td>12.0</td>\n",
       "      <td>10.0</td>\n",
       "      <td>14.0</td>\n",
       "    </tr>\n",
       "    <tr>\n",
       "      <th>Auto One Express Inc</th>\n",
       "      <th>Mansur Naser</th>\n",
       "      <td>16.0</td>\n",
       "      <td>21.0</td>\n",
       "      <td>21.0</td>\n",
       "      <td>16.0</td>\n",
       "    </tr>\n",
       "    <tr>\n",
       "      <th>...</th>\n",
       "      <th>...</th>\n",
       "      <td>...</td>\n",
       "      <td>...</td>\n",
       "      <td>...</td>\n",
       "      <td>...</td>\n",
       "    </tr>\n",
       "    <tr>\n",
       "      <th>Used Car Store Inc</th>\n",
       "      <th>Mansur Naser</th>\n",
       "      <td>10.0</td>\n",
       "      <td>9.0</td>\n",
       "      <td>12.0</td>\n",
       "      <td>13.0</td>\n",
       "    </tr>\n",
       "    <tr>\n",
       "      <th>Walker Auto Group Inc</th>\n",
       "      <th>Jim Vogler</th>\n",
       "      <td>20.0</td>\n",
       "      <td>13.0</td>\n",
       "      <td>20.0</td>\n",
       "      <td>11.0</td>\n",
       "    </tr>\n",
       "    <tr>\n",
       "      <th>Weakley County Motors</th>\n",
       "      <th>Samin Gupta</th>\n",
       "      <td>11.0</td>\n",
       "      <td>6.0</td>\n",
       "      <td>10.0</td>\n",
       "      <td>7.0</td>\n",
       "    </tr>\n",
       "    <tr>\n",
       "      <th>Why Pay More Motors</th>\n",
       "      <th>Nora Palermo</th>\n",
       "      <td>7.0</td>\n",
       "      <td>9.0</td>\n",
       "      <td>6.0</td>\n",
       "      <td>7.0</td>\n",
       "    </tr>\n",
       "    <tr>\n",
       "      <th>Wilson Motor Co</th>\n",
       "      <th>Samin Gupta</th>\n",
       "      <td>7.0</td>\n",
       "      <td>9.0</td>\n",
       "      <td>6.0</td>\n",
       "      <td>8.0</td>\n",
       "    </tr>\n",
       "  </tbody>\n",
       "</table>\n",
       "<p>90 rows × 4 columns</p>\n",
       "</div>"
      ],
      "text/plain": [
       "submission_mth                                      2022-04-01  2022-05-01  \\\n",
       "DealerName                         salesperson                               \n",
       "A J Dohmann Chevrolet Cadillac     Rachel Arellano         8.0         5.0   \n",
       "American Service Center Associates Rachel Arellano        11.0         5.0   \n",
       "Art Kuzma Motors Inc               Mansur Naser           16.0        19.0   \n",
       "Audubon Chrysler Ctr               Samin Gupta             9.0        12.0   \n",
       "Auto One Express Inc               Mansur Naser           16.0        21.0   \n",
       "...                                                        ...         ...   \n",
       "Used Car Store Inc                 Mansur Naser           10.0         9.0   \n",
       "Walker Auto Group Inc              Jim Vogler             20.0        13.0   \n",
       "Weakley County Motors              Samin Gupta            11.0         6.0   \n",
       "Why Pay More Motors                Nora Palermo            7.0         9.0   \n",
       "Wilson Motor Co                    Samin Gupta             7.0         9.0   \n",
       "\n",
       "submission_mth                                      2022-06-01  2022-07-01  \n",
       "DealerName                         salesperson                              \n",
       "A J Dohmann Chevrolet Cadillac     Rachel Arellano         3.0        10.0  \n",
       "American Service Center Associates Rachel Arellano         8.0         4.0  \n",
       "Art Kuzma Motors Inc               Mansur Naser           18.0        20.0  \n",
       "Audubon Chrysler Ctr               Samin Gupta            10.0        14.0  \n",
       "Auto One Express Inc               Mansur Naser           21.0        16.0  \n",
       "...                                                        ...         ...  \n",
       "Used Car Store Inc                 Mansur Naser           12.0        13.0  \n",
       "Walker Auto Group Inc              Jim Vogler             20.0        11.0  \n",
       "Weakley County Motors              Samin Gupta            10.0         7.0  \n",
       "Why Pay More Motors                Nora Palermo            6.0         7.0  \n",
       "Wilson Motor Co                    Samin Gupta             6.0         8.0  \n",
       "\n",
       "[90 rows x 4 columns]"
      ]
     },
     "execution_count": 15,
     "metadata": {},
     "output_type": "execute_result"
    }
   ],
   "source": [
    "#nunique() is count unique function\n",
    "df_submission_application_mth = df_submission_application.groupby(['DealerName','salesperson','submission_mth',])['application_id'].nunique().unstack()\n",
    "df_submission_application_mth"
   ]
  },
  {
   "cell_type": "code",
   "execution_count": 17,
   "id": "9e4f1439",
   "metadata": {},
   "outputs": [
    {
     "data": {
      "text/plain": [
       "5.0"
      ]
     },
     "execution_count": 17,
     "metadata": {},
     "output_type": "execute_result"
    }
   ],
   "source": [
    "df_submission_application_mth[df_submission_application_mth.columns[1]].values[0] "
   ]
  },
  {
   "cell_type": "code",
   "execution_count": 18,
   "id": "96926629",
   "metadata": {},
   "outputs": [
    {
     "data": {
      "text/plain": [
       "90"
      ]
     },
     "execution_count": 18,
     "metadata": {},
     "output_type": "execute_result"
    }
   ],
   "source": [
    "len(df_submission_application_mth.index)"
   ]
  },
  {
   "cell_type": "code",
   "execution_count": 19,
   "id": "4787a218",
   "metadata": {},
   "outputs": [
    {
     "name": "stdout",
     "output_type": "stream",
     "text": [
      "['consistently active', 'consistently active', 'consistently active', 'consistently active', 'consistently active', 'consistently active', 'consistently active', 'consistently active', 'not active', 'not active', 'consistently active', 'consistently active', 'consistently active', 'consistently active', 'consistently active', 'not active', 'consistently active', 'consistently active', 'consistently active', 'consistently active', 'not active', 'not active', 'not active', 'consistently active', 'consistently active', 'consistently active', 'consistently active', 'consistently active', 'consistently active', 'not active', 'consistently active', 'consistently active', 'consistently active', 'consistently active', 'consistently active', 'not active', 'consistently active', 'consistently active', 'consistently active', 'consistently active', 'consistently active', 'not active', 'not active', 'consistently active', 'consistently active', 'not active', 'consistently active', 'consistently active', 'consistently active', 'not active', 'not active', 'consistently active', 'consistently active', 'consistently active', 'not active', 'not active', 'consistently active', 'consistently active', 'consistently active', 'not active', 'consistently active', 'consistently active', 'consistently active', 'consistently active', 'not active', 'consistently active', 'not active', 'consistently active', 'not active', 'consistently active', 'consistently active', 'consistently active', 'not active', 'consistently active', 'consistently active', 'consistently active', 'consistently active', 'consistently active', 'consistently active', 'not active', 'not active', 'consistently active', 'not active', 'consistently active', 'consistently active', 'consistently active', 'consistently active', 'consistently active', 'consistently active', 'consistently active']\n"
     ]
    }
   ],
   "source": [
    "status = []\n",
    "\n",
    "for i in range(len(df_submission_application_mth.index)):\n",
    "    if df_submission_application_mth[df_submission_application_mth.columns[1]].values[i] >=3 and df_submission_application_mth[df_submission_application_mth.columns[2]].values[i]>=3 and df_submission_application_mth[df_submission_application_mth.columns[3]].values[i]>=3:\n",
    "        status.append('consistently active')\n",
    "    elif df_submission_application_mth[df_submission_application_mth.columns[1]].values[i] ==0 and df_submission_application_mth[df_submission_application_mth.columns[2]].values[i]==0 and df_submission_application_mth[df_submission_application_mth.columns[3]].values[i]==0 and df_submission_application_mth[df_submission_application_mth.columns[4]].values[i]==0:\n",
    "        status.append('dormant')\n",
    "    else:\n",
    "        status.append('not active')\n",
    "    i = i + 1\n",
    "print(status)"
   ]
  },
  {
   "cell_type": "code",
   "execution_count": 20,
   "id": "c4594fcd",
   "metadata": {},
   "outputs": [
    {
     "data": {
      "text/html": [
       "<div>\n",
       "<style scoped>\n",
       "    .dataframe tbody tr th:only-of-type {\n",
       "        vertical-align: middle;\n",
       "    }\n",
       "\n",
       "    .dataframe tbody tr th {\n",
       "        vertical-align: top;\n",
       "    }\n",
       "\n",
       "    .dataframe thead th {\n",
       "        text-align: right;\n",
       "    }\n",
       "</style>\n",
       "<table border=\"1\" class=\"dataframe\">\n",
       "  <thead>\n",
       "    <tr style=\"text-align: right;\">\n",
       "      <th></th>\n",
       "      <th>DealerName</th>\n",
       "      <th>salesperson</th>\n",
       "      <th>sales_status</th>\n",
       "    </tr>\n",
       "  </thead>\n",
       "  <tbody>\n",
       "    <tr>\n",
       "      <th>0</th>\n",
       "      <td>A J Dohmann Chevrolet Cadillac</td>\n",
       "      <td>Rachel Arellano</td>\n",
       "      <td>consistently active</td>\n",
       "    </tr>\n",
       "    <tr>\n",
       "      <th>1</th>\n",
       "      <td>American Service Center Associates</td>\n",
       "      <td>Rachel Arellano</td>\n",
       "      <td>consistently active</td>\n",
       "    </tr>\n",
       "    <tr>\n",
       "      <th>2</th>\n",
       "      <td>Art Kuzma Motors Inc</td>\n",
       "      <td>Mansur Naser</td>\n",
       "      <td>consistently active</td>\n",
       "    </tr>\n",
       "    <tr>\n",
       "      <th>3</th>\n",
       "      <td>Audubon Chrysler Ctr</td>\n",
       "      <td>Samin Gupta</td>\n",
       "      <td>consistently active</td>\n",
       "    </tr>\n",
       "    <tr>\n",
       "      <th>4</th>\n",
       "      <td>Auto One Express Inc</td>\n",
       "      <td>Mansur Naser</td>\n",
       "      <td>consistently active</td>\n",
       "    </tr>\n",
       "    <tr>\n",
       "      <th>...</th>\n",
       "      <td>...</td>\n",
       "      <td>...</td>\n",
       "      <td>...</td>\n",
       "    </tr>\n",
       "    <tr>\n",
       "      <th>85</th>\n",
       "      <td>Used Car Store Inc</td>\n",
       "      <td>Mansur Naser</td>\n",
       "      <td>consistently active</td>\n",
       "    </tr>\n",
       "    <tr>\n",
       "      <th>86</th>\n",
       "      <td>Walker Auto Group Inc</td>\n",
       "      <td>Jim Vogler</td>\n",
       "      <td>consistently active</td>\n",
       "    </tr>\n",
       "    <tr>\n",
       "      <th>87</th>\n",
       "      <td>Weakley County Motors</td>\n",
       "      <td>Samin Gupta</td>\n",
       "      <td>consistently active</td>\n",
       "    </tr>\n",
       "    <tr>\n",
       "      <th>88</th>\n",
       "      <td>Why Pay More Motors</td>\n",
       "      <td>Nora Palermo</td>\n",
       "      <td>consistently active</td>\n",
       "    </tr>\n",
       "    <tr>\n",
       "      <th>89</th>\n",
       "      <td>Wilson Motor Co</td>\n",
       "      <td>Samin Gupta</td>\n",
       "      <td>consistently active</td>\n",
       "    </tr>\n",
       "  </tbody>\n",
       "</table>\n",
       "<p>90 rows × 3 columns</p>\n",
       "</div>"
      ],
      "text/plain": [
       "                            DealerName      salesperson         sales_status\n",
       "0       A J Dohmann Chevrolet Cadillac  Rachel Arellano  consistently active\n",
       "1   American Service Center Associates  Rachel Arellano  consistently active\n",
       "2                 Art Kuzma Motors Inc     Mansur Naser  consistently active\n",
       "3                 Audubon Chrysler Ctr      Samin Gupta  consistently active\n",
       "4                 Auto One Express Inc     Mansur Naser  consistently active\n",
       "..                                 ...              ...                  ...\n",
       "85                  Used Car Store Inc     Mansur Naser  consistently active\n",
       "86               Walker Auto Group Inc       Jim Vogler  consistently active\n",
       "87               Weakley County Motors      Samin Gupta  consistently active\n",
       "88                 Why Pay More Motors     Nora Palermo  consistently active\n",
       "89                     Wilson Motor Co      Samin Gupta  consistently active\n",
       "\n",
       "[90 rows x 3 columns]"
      ]
     },
     "execution_count": 20,
     "metadata": {},
     "output_type": "execute_result"
    }
   ],
   "source": [
    "df_submission_application_mth['sales_status']=status\n",
    "df_dealer_sales_status = pd.DataFrame(df_submission_application_mth['sales_status']).reset_index()\n",
    "df_dealer_sales_status"
   ]
  },
  {
   "cell_type": "code",
   "execution_count": 196,
   "id": "17351bfb",
   "metadata": {},
   "outputs": [],
   "source": [
    "df_sales_active_dealer_count = pd.DataFrame(df_dealer_sales_status.query(\"sales_status =='consistently active'\").groupby('salesperson')['sales_status'].count())\n",
    "# df_sales_active_dealer_count"
   ]
  },
  {
   "cell_type": "code",
   "execution_count": 197,
   "id": "17502fae",
   "metadata": {},
   "outputs": [],
   "source": [
    "df_sales_total_dealer_count = pd.DataFrame(df_dealer.groupby('salesperson')['DealerName'].count())\n",
    "# df_sales_total_dealer_count"
   ]
  },
  {
   "cell_type": "code",
   "execution_count": 24,
   "id": "aced9a43",
   "metadata": {},
   "outputs": [
    {
     "data": {
      "text/html": [
       "<div>\n",
       "<style scoped>\n",
       "    .dataframe tbody tr th:only-of-type {\n",
       "        vertical-align: middle;\n",
       "    }\n",
       "\n",
       "    .dataframe tbody tr th {\n",
       "        vertical-align: top;\n",
       "    }\n",
       "\n",
       "    .dataframe thead th {\n",
       "        text-align: right;\n",
       "    }\n",
       "</style>\n",
       "<table border=\"1\" class=\"dataframe\">\n",
       "  <thead>\n",
       "    <tr style=\"text-align: right;\">\n",
       "      <th></th>\n",
       "      <th>active_dealer_count</th>\n",
       "      <th>total_dealer_count</th>\n",
       "      <th>active_dealer_percent</th>\n",
       "      <th>inactive_dealer_percent</th>\n",
       "    </tr>\n",
       "    <tr>\n",
       "      <th>salesperson</th>\n",
       "      <th></th>\n",
       "      <th></th>\n",
       "      <th></th>\n",
       "      <th></th>\n",
       "    </tr>\n",
       "  </thead>\n",
       "  <tbody>\n",
       "    <tr>\n",
       "      <th>Jim Vogler</th>\n",
       "      <td>14</td>\n",
       "      <td>21</td>\n",
       "      <td>0.67</td>\n",
       "      <td>0.33</td>\n",
       "    </tr>\n",
       "    <tr>\n",
       "      <th>Mansur Naser</th>\n",
       "      <td>14</td>\n",
       "      <td>20</td>\n",
       "      <td>0.70</td>\n",
       "      <td>0.30</td>\n",
       "    </tr>\n",
       "    <tr>\n",
       "      <th>Nora Palermo</th>\n",
       "      <td>12</td>\n",
       "      <td>17</td>\n",
       "      <td>0.71</td>\n",
       "      <td>0.29</td>\n",
       "    </tr>\n",
       "    <tr>\n",
       "      <th>Rachel Arellano</th>\n",
       "      <td>12</td>\n",
       "      <td>22</td>\n",
       "      <td>0.55</td>\n",
       "      <td>0.45</td>\n",
       "    </tr>\n",
       "    <tr>\n",
       "      <th>Samin Gupta</th>\n",
       "      <td>15</td>\n",
       "      <td>25</td>\n",
       "      <td>0.60</td>\n",
       "      <td>0.40</td>\n",
       "    </tr>\n",
       "  </tbody>\n",
       "</table>\n",
       "</div>"
      ],
      "text/plain": [
       "                 active_dealer_count  total_dealer_count  \\\n",
       "salesperson                                                \n",
       "Jim Vogler                        14                  21   \n",
       "Mansur Naser                      14                  20   \n",
       "Nora Palermo                      12                  17   \n",
       "Rachel Arellano                   12                  22   \n",
       "Samin Gupta                       15                  25   \n",
       "\n",
       "                 active_dealer_percent  inactive_dealer_percent  \n",
       "salesperson                                                      \n",
       "Jim Vogler                        0.67                     0.33  \n",
       "Mansur Naser                      0.70                     0.30  \n",
       "Nora Palermo                      0.71                     0.29  \n",
       "Rachel Arellano                   0.55                     0.45  \n",
       "Samin Gupta                       0.60                     0.40  "
      ]
     },
     "execution_count": 24,
     "metadata": {},
     "output_type": "execute_result"
    }
   ],
   "source": [
    "df_active_dealer_stat = pd.merge(df_sales_active_dealer_count,df_sales_total_dealer_count,on='salesperson',how = 'inner')\n",
    "df_active_dealer_stat1= df_active_dealer_stat.rename({'sales_status':'active_dealer_count','DealerName':'total_dealer_count'},axis=1)\n",
    "df_active_dealer_stat1['active_dealer_percent'] = round(df_active_dealer_stat1['active_dealer_count']/df_active_dealer_stat1['total_dealer_count'],2)\n",
    "df_active_dealer_stat1['inactive_dealer_percent']= round(1-df_active_dealer_stat1['active_dealer_percent'],2)\n",
    "df_active_dealer_stat1"
   ]
  },
  {
   "cell_type": "code",
   "execution_count": 25,
   "id": "7793919d",
   "metadata": {},
   "outputs": [
    {
     "data": {
      "text/plain": [
       "<matplotlib.legend.Legend at 0x19586c5bd60>"
      ]
     },
     "execution_count": 25,
     "metadata": {},
     "output_type": "execute_result"
    },
    {
     "data": {
      "image/png": "[encoded data removed]",
      "text/plain": [
       "<Figure size 720x360 with 1 Axes>"
      ]
     },
     "metadata": {
      "needs_background": "light"
     },
     "output_type": "display_data"
    }
   ],
   "source": [
    "import matplotlib.pyplot as plt\n",
    "df_active_dealer_stat2 = df_active_dealer_stat1.drop(['active_dealer_count','total_dealer_count'],axis=1)\n",
    "df_active_dealer_stat3 = df_active_dealer_stat2.iloc[:,[1,0]] #reverse sequence of columns to plot active on top\n",
    "\n",
    "ax = df_active_dealer_stat3.plot(kind='bar', stacked=True, figsize=(10, 5), rot=0, xlabel='salesperson', ylabel='status percentage',title = 'Dealer Status per Sales person')\n",
    "for c in ax.containers:\n",
    "    labels = [v.get_height() if v.get_height() > 0 else '' for v in c]\n",
    "    ax.bar_label(c, fmt='%0.2f', label_type='center')\n",
    "\n",
    "plt.legend(['inactive_dealer_percent','active_dealer_percent'],loc='center left', bbox_to_anchor=(1.02, 0.5))"
   ]
  },
  {
   "cell_type": "code",
   "execution_count": 26,
   "id": "5a5e0148",
   "metadata": {},
   "outputs": [
    {
     "name": "stdout",
     "output_type": "stream",
     "text": [
      "['no visit', 'no visit', 'no visit', 'no visit', 'no visit', 'no visit', 'no visit', 'no visit', 'no visit', 'no visit', 'no visit', 'no visit', 'no visit', 'no visit', 'no visit', 'no visit', 'no visit', 'no visit', 'no visit', 'no visit', 'no visit', 'no visit', 'in-person visit', 'no visit', 'no visit', 'no visit', 'no visit', 'no visit', 'no visit', 'no visit', 'no visit', 'no visit', 'no visit', 'no visit', 'no visit', 'no visit', 'no visit', 'no visit', 'no visit', 'no visit', 'no visit', 'no visit', 'no visit', 'no visit', 'no visit', 'no visit', 'no visit', 'no visit', 'no visit', 'no visit', 'no visit', 'no visit', 'no visit', 'no visit', 'no visit', 'no visit', 'no visit', 'no visit', 'no visit', 'no visit', 'no visit', 'no visit', 'no visit', 'no visit', 'no visit', 'no visit', 'no visit', 'no visit', 'no visit', 'no visit', 'no visit', 'no visit', 'no visit', 'no visit', 'no visit', 'no visit', 'no visit', 'no visit', 'no visit', 'no visit', 'no visit', 'no visit', 'no visit', 'no visit', 'no visit', 'no visit', 'no visit', 'no visit', 'no visit', 'no visit']\n"
     ]
    }
   ],
   "source": [
    "visit = []\n",
    "for n in range(len(df_submission_application_mth.index)):\n",
    "    if df_submission_application_mth[df_submission_application_mth.columns[1]].values[n] >=5 and df_submission_application_mth[df_submission_application_mth.columns[2]].values[n]>=5 and df_submission_application_mth[df_submission_application_mth.columns[3]].values[n]<3:\n",
    "        visit.append('in-person visit')\n",
    "    else:\n",
    "        visit.append('no visit')\n",
    "    n = n + 1\n",
    "print(visit)"
   ]
  },
  {
   "cell_type": "code",
   "execution_count": 27,
   "id": "128fa034",
   "metadata": {},
   "outputs": [],
   "source": [
    "df_submission_application_mth['visit_status'] = visit"
   ]
  },
  {
   "cell_type": "code",
   "execution_count": 28,
   "id": "e90be0e2",
   "metadata": {},
   "outputs": [
    {
     "data": {
      "text/html": [
       "<div>\n",
       "<style scoped>\n",
       "    .dataframe tbody tr th:only-of-type {\n",
       "        vertical-align: middle;\n",
       "    }\n",
       "\n",
       "    .dataframe tbody tr th {\n",
       "        vertical-align: top;\n",
       "    }\n",
       "\n",
       "    .dataframe thead th {\n",
       "        text-align: right;\n",
       "    }\n",
       "</style>\n",
       "<table border=\"1\" class=\"dataframe\">\n",
       "  <thead>\n",
       "    <tr style=\"text-align: right;\">\n",
       "      <th></th>\n",
       "      <th>submission_mth</th>\n",
       "      <th>2022-04-01 00:00:00</th>\n",
       "      <th>2022-05-01 00:00:00</th>\n",
       "      <th>2022-06-01 00:00:00</th>\n",
       "      <th>2022-07-01 00:00:00</th>\n",
       "      <th>sales_status</th>\n",
       "      <th>visit_status</th>\n",
       "    </tr>\n",
       "    <tr>\n",
       "      <th>DealerName</th>\n",
       "      <th>salesperson</th>\n",
       "      <th></th>\n",
       "      <th></th>\n",
       "      <th></th>\n",
       "      <th></th>\n",
       "      <th></th>\n",
       "      <th></th>\n",
       "    </tr>\n",
       "  </thead>\n",
       "  <tbody>\n",
       "    <tr>\n",
       "      <th>Dynamic Ink Design</th>\n",
       "      <th>Nora Palermo</th>\n",
       "      <td>3.0</td>\n",
       "      <td>6.0</td>\n",
       "      <td>5.0</td>\n",
       "      <td>2.0</td>\n",
       "      <td>not active</td>\n",
       "      <td>in-person visit</td>\n",
       "    </tr>\n",
       "  </tbody>\n",
       "</table>\n",
       "</div>"
      ],
      "text/plain": [
       "submission_mth                   2022-04-01 00:00:00  2022-05-01 00:00:00  \\\n",
       "DealerName         salesperson                                              \n",
       "Dynamic Ink Design Nora Palermo                  3.0                  6.0   \n",
       "\n",
       "submission_mth                   2022-06-01 00:00:00  2022-07-01 00:00:00  \\\n",
       "DealerName         salesperson                                              \n",
       "Dynamic Ink Design Nora Palermo                  5.0                  2.0   \n",
       "\n",
       "submission_mth                  sales_status     visit_status  \n",
       "DealerName         salesperson                                 \n",
       "Dynamic Ink Design Nora Palermo   not active  in-person visit  "
      ]
     },
     "execution_count": 28,
     "metadata": {},
     "output_type": "execute_result"
    }
   ],
   "source": [
    "df_submission_application_mth.query(\"visit_status == 'in-person visit'\")"
   ]
  },
  {
   "cell_type": "code",
   "execution_count": 29,
   "id": "4ae6274b",
   "metadata": {},
   "outputs": [],
   "source": [
    "df_valid_submission_date = df_submission_history.groupby('application_id').agg({'submission_date':'max'}).reset_index()\n",
    "df_measure_submission_history0=pd.merge(df_submission_history,df_valid_submission_date,on=['application_id','submission_date'],how='inner')"
   ]
  },
  {
   "cell_type": "code",
   "execution_count": 30,
   "id": "a9beb0d1",
   "metadata": {},
   "outputs": [],
   "source": [
    "# df_measure_submission_history0.head(10)"
   ]
  },
  {
   "cell_type": "code",
   "execution_count": 31,
   "id": "de6789ad",
   "metadata": {},
   "outputs": [],
   "source": [
    "df_valid_submission_id = df_measure_submission_history0.groupby('application_id').agg({'submission_id':'max'}).reset_index()\n",
    "df_measure_submission_history = pd.merge(df_measure_submission_history0,df_valid_submission_id,on=['application_id','submission_id'],how='inner')"
   ]
  },
  {
   "cell_type": "code",
   "execution_count": 32,
   "id": "8088e146",
   "metadata": {},
   "outputs": [],
   "source": [
    "# df_measure_submission_history.head(10)"
   ]
  },
  {
   "cell_type": "code",
   "execution_count": 33,
   "id": "779d6e0d",
   "metadata": {},
   "outputs": [],
   "source": [
    "df_dealer_rev = pd.merge(df_measure_submission_history,df_application,on = 'application_id',how = 'inner')\n",
    "df_salesperson_rev = pd.merge(df_dealer_rev,df_dealer,on = 'dealer_key',how = 'left')\n",
    "# df_salesperson_rev"
   ]
  },
  {
   "cell_type": "code",
   "execution_count": 34,
   "id": "b6bbf716",
   "metadata": {},
   "outputs": [],
   "source": [
    "df_salesperson_rev_valid = df_salesperson_rev.query(\"status == 'Approved'\")\n",
    "# df_salesperson_rev_valid\n",
    "# sales_person_list = df_salesperson_rev_valid['salesperson'].unique()\n",
    "# df_salesperson_rev_valid.query(\"salesperson == @sales_person_list[2]\").sort_values('submission_date').head(20)"
   ]
  },
  {
   "cell_type": "code",
   "execution_count": 35,
   "id": "26e79fc9",
   "metadata": {},
   "outputs": [
    {
     "data": {
      "text/plain": [
       "salesperson\n",
       "Samin Gupta        1999.038760\n",
       "Mansur Naser       1995.462185\n",
       "Nora Palermo       1963.211382\n",
       "Rachel Arellano    1963.121597\n",
       "Jim Vogler         1946.717557\n",
       "Name: revenue, dtype: float64"
      ]
     },
     "execution_count": 35,
     "metadata": {},
     "output_type": "execute_result"
    }
   ],
   "source": [
    "df_salesperson_avg_rev =pd.DataFrame(df_salesperson_rev_valid.groupby('salesperson')['revenue'].mean())\n",
    "df_salesperson_avg_rev1= df_salesperson_avg_rev['revenue'].sort_values(ascending = False)\n",
    "df_salesperson_avg_rev1"
   ]
  },
  {
   "cell_type": "code",
   "execution_count": 36,
   "id": "bf2200ee",
   "metadata": {},
   "outputs": [
    {
     "data": {
      "image/png": "[encoded data removed]",
      "text/plain": [
       "<Figure size 720x360 with 1 Axes>"
      ]
     },
     "metadata": {
      "needs_background": "light"
     },
     "output_type": "display_data"
    }
   ],
   "source": [
    "import matplotlib.pyplot as plt\n",
    "# fig, ax = plt.subplots(figsize=(10, 5))\n",
    "# sns.barplot(x=df_salesperson_avg_rev.index,y = 'revenue', data = df_salesperson_avg_rev)\n",
    "ax = df_salesperson_avg_rev1.plot(kind='bar', figsize=(10,5), rot=0, title='Averge Revenue per Salesperson',\n",
    "             xlabel='Salesperson', ylabel='Average Rev', legend=False)\n",
    "\n",
    "# annotate\n",
    "ax.bar_label(ax.containers[0], label_type='edge')\n",
    "\n",
    "# pad the spacing between the number and the edge of the figure\n",
    "ax.margins(y=0.1)"
   ]
  },
  {
   "cell_type": "markdown",
   "id": "25eff071",
   "metadata": {},
   "source": [
    "Average monthly sales performance is pretty much same accross the board. Samin Gupta leads a bit with Jim Vogler at the bottom"
   ]
  },
  {
   "cell_type": "code",
   "execution_count": 37,
   "id": "48fcf929",
   "metadata": {},
   "outputs": [],
   "source": [
    "df_salesperson_mth_rev = pd.DataFrame(df_salesperson_rev_valid.groupby(['salesperson','submission_mth'])['revenue'].mean()).reset_index()\n",
    "df_salesperson_mth_rev['submission_mth'] = df_salesperson_mth_rev['submission_mth'].astype(str)\n",
    "# df_salesperson_mth_rev"
   ]
  },
  {
   "cell_type": "code",
   "execution_count": 38,
   "id": "a359d28d",
   "metadata": {},
   "outputs": [],
   "source": [
    "salesperson_list = df_salesperson_mth_rev['salesperson'].unique()"
   ]
  },
  {
   "cell_type": "code",
   "execution_count": 39,
   "id": "44d4d5c7",
   "metadata": {},
   "outputs": [
    {
     "data": {
      "text/plain": [
       "'Jim Vogler'"
      ]
     },
     "execution_count": 39,
     "metadata": {},
     "output_type": "execute_result"
    }
   ],
   "source": [
    "label = salesperson_list[0]\n",
    "label"
   ]
  },
  {
   "cell_type": "code",
   "execution_count": 40,
   "id": "711d0c3b",
   "metadata": {},
   "outputs": [
    {
     "data": {
      "image/png": "[encoded data removed]",
      "text/plain": [
       "<Figure size 720x432 with 1 Axes>"
      ]
     },
     "metadata": {
      "needs_background": "light"
     },
     "output_type": "display_data"
    }
   ],
   "source": [
    "import matplotlib.pyplot as plt\n",
    "plt.figure(figsize=(10, 6))\n",
    "\n",
    "x=df_salesperson_mth_rev['submission_mth'][0:4].to_list()\n",
    "y1=df_salesperson_mth_rev.query(\"salesperson==@salesperson_list[0]\")['revenue'].to_list()\n",
    "y2=df_salesperson_mth_rev.query(\"salesperson==@salesperson_list[1]\")['revenue'].to_list()\n",
    "y3=df_salesperson_mth_rev.query(\"salesperson==@salesperson_list[2]\")['revenue'].to_list()\n",
    "y4=df_salesperson_mth_rev.query(\"salesperson==@salesperson_list[3]\")['revenue'].to_list()\n",
    "\n",
    "plt.plot(x, y1, label = salesperson_list[0], linestyle=\"--\",linewidth=3)\n",
    "plt.plot(x, y2, label = salesperson_list[1], linestyle=\"--\",linewidth=3)\n",
    "plt.plot(x, y3, label = salesperson_list[2], linestyle=\"--\",linewidth=3)\n",
    "plt.plot(x, y4, label = salesperson_list[3], linestyle=\"--\",linewidth=3)\n",
    "plt.legend()\n",
    "plt.show()"
   ]
  },
  {
   "cell_type": "markdown",
   "id": "162c2a16",
   "metadata": {},
   "source": [
    "Jim Vogler and Rachel Allellano are improving their sales performance while Mansur Naser and Nora's performance are declining"
   ]
  },
  {
   "cell_type": "code",
   "execution_count": 41,
   "id": "643eecb6",
   "metadata": {},
   "outputs": [
    {
     "data": {
      "image/png": "[encoded data removed]",
      "text/plain": [
       "<Figure size 720x360 with 1 Axes>"
      ]
     },
     "metadata": {
      "needs_background": "light"
     },
     "output_type": "display_data"
    }
   ],
   "source": [
    "revenue_sum = df_salesperson_rev_valid.groupby('salesperson')['revenue'].sum()\n",
    "df_saleperson_profitability = pd.DataFrame(df_salesperson_rev_valid.groupby('salesperson')['revenue'].sum())\n",
    "\n",
    "import seaborn as sns\n",
    "import matplotlib.pyplot as plt\n",
    "fig, ax = plt.subplots(figsize=(10, 5))\n",
    "\n",
    "bar = sns.barplot(data = df_saleperson_profitability,x=df_saleperson_profitability.index,y = 'revenue')\n",
    "bar.set(title='Total Revenue per Salesperson')\n",
    "for i in range(len(revenue_sum)):\n",
    "    bar.text(i,revenue_sum[i]/2,str(round(revenue_sum[i],2)),\n",
    "             fontdict = dict(color='white',fontsize=10),\n",
    "             horizontalalignment = 'center')"
   ]
  },
  {
   "cell_type": "code",
   "execution_count": 42,
   "id": "d611f6ad",
   "metadata": {},
   "outputs": [
    {
     "data": {
      "text/html": [
       "<div>\n",
       "<style scoped>\n",
       "    .dataframe tbody tr th:only-of-type {\n",
       "        vertical-align: middle;\n",
       "    }\n",
       "\n",
       "    .dataframe tbody tr th {\n",
       "        vertical-align: top;\n",
       "    }\n",
       "\n",
       "    .dataframe thead th {\n",
       "        text-align: right;\n",
       "    }\n",
       "</style>\n",
       "<table border=\"1\" class=\"dataframe\">\n",
       "  <thead>\n",
       "    <tr style=\"text-align: right;\">\n",
       "      <th></th>\n",
       "      <th>revenue</th>\n",
       "      <th>rev_percentage</th>\n",
       "    </tr>\n",
       "    <tr>\n",
       "      <th>salesperson</th>\n",
       "      <th></th>\n",
       "      <th></th>\n",
       "    </tr>\n",
       "  </thead>\n",
       "  <tbody>\n",
       "    <tr>\n",
       "      <th>Jim Vogler</th>\n",
       "      <td>1275100</td>\n",
       "      <td>0.219869</td>\n",
       "    </tr>\n",
       "    <tr>\n",
       "      <th>Mansur Naser</th>\n",
       "      <td>1187300</td>\n",
       "      <td>0.204729</td>\n",
       "    </tr>\n",
       "    <tr>\n",
       "      <th>Nora Palermo</th>\n",
       "      <td>965900</td>\n",
       "      <td>0.166553</td>\n",
       "    </tr>\n",
       "    <tr>\n",
       "      <th>Rachel Arellano</th>\n",
       "      <td>1081680</td>\n",
       "      <td>0.186517</td>\n",
       "    </tr>\n",
       "    <tr>\n",
       "      <th>Samin Gupta</th>\n",
       "      <td>1289380</td>\n",
       "      <td>0.222331</td>\n",
       "    </tr>\n",
       "  </tbody>\n",
       "</table>\n",
       "</div>"
      ],
      "text/plain": [
       "                 revenue  rev_percentage\n",
       "salesperson                             \n",
       "Jim Vogler       1275100        0.219869\n",
       "Mansur Naser     1187300        0.204729\n",
       "Nora Palermo      965900        0.166553\n",
       "Rachel Arellano  1081680        0.186517\n",
       "Samin Gupta      1289380        0.222331"
      ]
     },
     "execution_count": 42,
     "metadata": {},
     "output_type": "execute_result"
    }
   ],
   "source": [
    "total_revenue = df_salesperson_rev_valid['revenue'].sum()\n",
    "revenue_salesperson_list = df_salesperson_rev_valid.groupby('salesperson')['revenue'].sum().values\n",
    "\n",
    "rev_percentage = []\n",
    "for n in range(len(df_salesperson_rev_valid.groupby('salesperson')['revenue'].sum().index)):\n",
    "    rev_percentage.append(revenue_salesperson_list[n]/total_revenue)\n",
    "\n",
    "df_saleperson_profitability['rev_percentage'] = rev_percentage\n",
    "df_saleperson_profitability"
   ]
  },
  {
   "cell_type": "code",
   "execution_count": 43,
   "id": "0ac789c0",
   "metadata": {},
   "outputs": [
    {
     "data": {
      "image/png": "[encoded data removed]",
      "text/plain": [
       "<Figure size 720x432 with 1 Axes>"
      ]
     },
     "metadata": {},
     "output_type": "display_data"
    }
   ],
   "source": [
    "import matplotlib.pyplot as plt\n",
    "import seaborn\n",
    "\n",
    "plt.figure(figsize = (10,6))\n",
    "palette_color = seaborn.color_palette('bright')\n",
    "\n",
    "plt.pie(df_saleperson_profitability['rev_percentage'], labels=df_saleperson_profitability.index, colors=palette_color, autopct='%.2f%%')\n",
    "# plt.legend()\n",
    "plt.show()\n"
   ]
  },
  {
   "cell_type": "code",
   "execution_count": 44,
   "id": "d4fee4ad",
   "metadata": {},
   "outputs": [
    {
     "data": {
      "text/plain": [
       "4639488.0"
      ]
     },
     "execution_count": 44,
     "metadata": {},
     "output_type": "execute_result"
    }
   ],
   "source": [
    "total_revenue_80 = total_revenue * 0.8\n",
    "total_revenue_80"
   ]
  },
  {
   "cell_type": "code",
   "execution_count": 45,
   "id": "eaa43ed3",
   "metadata": {},
   "outputs": [
    {
     "data": {
      "text/plain": [
       "4638710"
      ]
     },
     "execution_count": 45,
     "metadata": {},
     "output_type": "execute_result"
    }
   ],
   "source": [
    "df_topsales_dealer = pd.DataFrame(df_salesperson_rev_valid.groupby(['salesperson','DealerName'])['revenue'].sum()).reset_index().sort_values('revenue',ascending=False)\n",
    "df_topsales_dealer_status = pd.merge(df_topsales_dealer,df_dealer_sales_status,on = 'DealerName',how = 'inner')\n",
    "df_topsales_dealer_status.index = df_topsales_dealer_status.index + 1\n",
    "df_topsales_dealer_status.head(50)['revenue'].sum()"
   ]
  },
  {
   "cell_type": "code",
   "execution_count": 46,
   "id": "d176670d",
   "metadata": {},
   "outputs": [
    {
     "data": {
      "text/plain": [
       "0.47619047619047616"
      ]
     },
     "execution_count": 46,
     "metadata": {},
     "output_type": "execute_result"
    }
   ],
   "source": [
    "50/(df_dealer['DealerName'].count())"
   ]
  },
  {
   "cell_type": "markdown",
   "id": "23f0a99f",
   "metadata": {},
   "source": [
    "About 50% of the dealers contributed 80% of the total revenue. Not exactly follow the 80-20 principle"
   ]
  },
  {
   "cell_type": "code",
   "execution_count": 47,
   "id": "a4bbb088",
   "metadata": {},
   "outputs": [],
   "source": [
    "dealer_with_submission_history = df_dealer_sales_status['DealerName'].unique()\n",
    "dealer_with_submission_history_count = len(df_dealer_sales_status['DealerName'].unique())\n",
    "#90"
   ]
  },
  {
   "cell_type": "code",
   "execution_count": 48,
   "id": "45a2e0a5",
   "metadata": {},
   "outputs": [],
   "source": [
    "submission_status_true_false = []\n",
    "for m in range(len(df_dealer['DealerName'].unique())):\n",
    "    if df_dealer['DealerName'][m] in dealer_with_submission_history:\n",
    "        submission_status_true_false.append('submission_status_true')\n",
    "    else:\n",
    "        submission_status_true_false.append('submission_status_false')"
   ]
  },
  {
   "cell_type": "code",
   "execution_count": 49,
   "id": "67648344",
   "metadata": {},
   "outputs": [],
   "source": [
    "df_dealer['submission_status_true_false'] = submission_status_true_false\n",
    "df_submission_status_true_false = pd.DataFrame(df_dealer.groupby('submission_status_true_false').DealerName.count())"
   ]
  },
  {
   "cell_type": "code",
   "execution_count": 50,
   "id": "7c3df7ea",
   "metadata": {},
   "outputs": [
    {
     "data": {
      "image/png": "[encoded data removed]",
      "text/plain": [
       "<Figure size 720x360 with 1 Axes>"
      ]
     },
     "metadata": {
      "needs_background": "light"
     },
     "output_type": "display_data"
    }
   ],
   "source": [
    "import matplotlib.pyplot as plt\n",
    "ax = df_submission_status_true_false.plot(kind='bar', figsize=(10,5), rot=0, title='Submission History per Dealership',\n",
    "             xlabel='Submission', ylabel='Count', legend=False)\n",
    "\n",
    "# annotate\n",
    "ax.bar_label(ax.containers[0], label_type='edge')\n",
    "\n",
    "# pad the spacing between the number and the edge of the figure\n",
    "ax.margins(y=0.1)"
   ]
  },
  {
   "cell_type": "code",
   "execution_count": 51,
   "id": "3a6a707a",
   "metadata": {},
   "outputs": [
    {
     "data": {
      "text/html": [
       "<div>\n",
       "<style scoped>\n",
       "    .dataframe tbody tr th:only-of-type {\n",
       "        vertical-align: middle;\n",
       "    }\n",
       "\n",
       "    .dataframe tbody tr th {\n",
       "        vertical-align: top;\n",
       "    }\n",
       "\n",
       "    .dataframe thead th {\n",
       "        text-align: right;\n",
       "    }\n",
       "</style>\n",
       "<table border=\"1\" class=\"dataframe\">\n",
       "  <thead>\n",
       "    <tr style=\"text-align: right;\">\n",
       "      <th></th>\n",
       "      <th>dealer_key</th>\n",
       "      <th>DealerName</th>\n",
       "      <th>salesperson</th>\n",
       "      <th>submission_status_true_false</th>\n",
       "    </tr>\n",
       "  </thead>\n",
       "  <tbody>\n",
       "    <tr>\n",
       "      <th>12</th>\n",
       "      <td>12</td>\n",
       "      <td>Bagott Motors</td>\n",
       "      <td>Jim Vogler</td>\n",
       "      <td>submission_status_false</td>\n",
       "    </tr>\n",
       "    <tr>\n",
       "      <th>16</th>\n",
       "      <td>16</td>\n",
       "      <td>Reed's Point Chrysler</td>\n",
       "      <td>Samin Gupta</td>\n",
       "      <td>submission_status_false</td>\n",
       "    </tr>\n",
       "    <tr>\n",
       "      <th>26</th>\n",
       "      <td>26</td>\n",
       "      <td>Lee Truck Broker Inc</td>\n",
       "      <td>Samin Gupta</td>\n",
       "      <td>submission_status_false</td>\n",
       "    </tr>\n",
       "    <tr>\n",
       "      <th>27</th>\n",
       "      <td>27</td>\n",
       "      <td>Woodhouse Nissan</td>\n",
       "      <td>Rachel Arellano</td>\n",
       "      <td>submission_status_false</td>\n",
       "    </tr>\n",
       "    <tr>\n",
       "      <th>29</th>\n",
       "      <td>29</td>\n",
       "      <td>Parkway Mitsibushi</td>\n",
       "      <td>Mansur Naser</td>\n",
       "      <td>submission_status_false</td>\n",
       "    </tr>\n",
       "    <tr>\n",
       "      <th>35</th>\n",
       "      <td>35</td>\n",
       "      <td>Henry's Motor Sales</td>\n",
       "      <td>Nora Palermo</td>\n",
       "      <td>submission_status_false</td>\n",
       "    </tr>\n",
       "    <tr>\n",
       "      <th>36</th>\n",
       "      <td>36</td>\n",
       "      <td>Julian's Auto Showcase</td>\n",
       "      <td>Nora Palermo</td>\n",
       "      <td>submission_status_false</td>\n",
       "    </tr>\n",
       "    <tr>\n",
       "      <th>39</th>\n",
       "      <td>39</td>\n",
       "      <td>Chapparal Motors</td>\n",
       "      <td>Samin Gupta</td>\n",
       "      <td>submission_status_false</td>\n",
       "    </tr>\n",
       "    <tr>\n",
       "      <th>41</th>\n",
       "      <td>41</td>\n",
       "      <td>Rushville Chrysler Dodge Jeep</td>\n",
       "      <td>Nora Palermo</td>\n",
       "      <td>submission_status_false</td>\n",
       "    </tr>\n",
       "    <tr>\n",
       "      <th>44</th>\n",
       "      <td>44</td>\n",
       "      <td>Holiday Ford Lincoln Mercury</td>\n",
       "      <td>Mansur Naser</td>\n",
       "      <td>submission_status_false</td>\n",
       "    </tr>\n",
       "    <tr>\n",
       "      <th>46</th>\n",
       "      <td>46</td>\n",
       "      <td>Ron's Used Cars Inc</td>\n",
       "      <td>Jim Vogler</td>\n",
       "      <td>submission_status_false</td>\n",
       "    </tr>\n",
       "    <tr>\n",
       "      <th>54</th>\n",
       "      <td>54</td>\n",
       "      <td>Flemington Porsche Audi</td>\n",
       "      <td>Samin Gupta</td>\n",
       "      <td>submission_status_false</td>\n",
       "    </tr>\n",
       "    <tr>\n",
       "      <th>75</th>\n",
       "      <td>75</td>\n",
       "      <td>Lash Auto Sales</td>\n",
       "      <td>Mansur Naser</td>\n",
       "      <td>submission_status_false</td>\n",
       "    </tr>\n",
       "    <tr>\n",
       "      <th>98</th>\n",
       "      <td>98</td>\n",
       "      <td>Courtesy Toyota-Scion</td>\n",
       "      <td>Rachel Arellano</td>\n",
       "      <td>submission_status_false</td>\n",
       "    </tr>\n",
       "    <tr>\n",
       "      <th>104</th>\n",
       "      <td>104</td>\n",
       "      <td>Spitzer Motor City Inc</td>\n",
       "      <td>Jim Vogler</td>\n",
       "      <td>submission_status_false</td>\n",
       "    </tr>\n",
       "  </tbody>\n",
       "</table>\n",
       "</div>"
      ],
      "text/plain": [
       "     dealer_key                     DealerName      salesperson  \\\n",
       "12           12                  Bagott Motors       Jim Vogler   \n",
       "16           16          Reed's Point Chrysler      Samin Gupta   \n",
       "26           26           Lee Truck Broker Inc      Samin Gupta   \n",
       "27           27               Woodhouse Nissan  Rachel Arellano   \n",
       "29           29             Parkway Mitsibushi     Mansur Naser   \n",
       "35           35            Henry's Motor Sales     Nora Palermo   \n",
       "36           36         Julian's Auto Showcase     Nora Palermo   \n",
       "39           39               Chapparal Motors      Samin Gupta   \n",
       "41           41  Rushville Chrysler Dodge Jeep     Nora Palermo   \n",
       "44           44   Holiday Ford Lincoln Mercury     Mansur Naser   \n",
       "46           46            Ron's Used Cars Inc       Jim Vogler   \n",
       "54           54        Flemington Porsche Audi      Samin Gupta   \n",
       "75           75                Lash Auto Sales     Mansur Naser   \n",
       "98           98          Courtesy Toyota-Scion  Rachel Arellano   \n",
       "104         104         Spitzer Motor City Inc       Jim Vogler   \n",
       "\n",
       "    submission_status_true_false  \n",
       "12       submission_status_false  \n",
       "16       submission_status_false  \n",
       "26       submission_status_false  \n",
       "27       submission_status_false  \n",
       "29       submission_status_false  \n",
       "35       submission_status_false  \n",
       "36       submission_status_false  \n",
       "39       submission_status_false  \n",
       "41       submission_status_false  \n",
       "44       submission_status_false  \n",
       "46       submission_status_false  \n",
       "54       submission_status_false  \n",
       "75       submission_status_false  \n",
       "98       submission_status_false  \n",
       "104      submission_status_false  "
      ]
     },
     "execution_count": 51,
     "metadata": {},
     "output_type": "execute_result"
    }
   ],
   "source": [
    "df_dealer.query(\"DealerName not in @dealer_with_submission_history\")"
   ]
  },
  {
   "cell_type": "code",
   "execution_count": 57,
   "id": "15d4cc0c",
   "metadata": {},
   "outputs": [
    {
     "data": {
      "text/plain": [
       "status\n",
       "Approved    5799360\n",
       "Rejected     966590\n",
       "Name: revenue, dtype: int64"
      ]
     },
     "execution_count": 57,
     "metadata": {},
     "output_type": "execute_result"
    },
    {
     "data": {
      "image/png": "[encoded data removed]",
      "text/plain": [
       "<Figure size 432x288 with 1 Axes>"
      ]
     },
     "metadata": {
      "needs_background": "light"
     },
     "output_type": "display_data"
    }
   ],
   "source": [
    "df_salesperson_rev.groupby('status')['revenue'].sum().plot(kind= 'bar',rot=0)\n",
    "df_salesperson_rev.groupby('status')['revenue'].sum()"
   ]
  },
  {
   "cell_type": "code",
   "execution_count": 68,
   "id": "465c91fe",
   "metadata": {},
   "outputs": [
    {
     "data": {
      "text/html": [
       "<div>\n",
       "<style scoped>\n",
       "    .dataframe tbody tr th:only-of-type {\n",
       "        vertical-align: middle;\n",
       "    }\n",
       "\n",
       "    .dataframe tbody tr th {\n",
       "        vertical-align: top;\n",
       "    }\n",
       "\n",
       "    .dataframe thead th {\n",
       "        text-align: right;\n",
       "    }\n",
       "</style>\n",
       "<table border=\"1\" class=\"dataframe\">\n",
       "  <thead>\n",
       "    <tr style=\"text-align: right;\">\n",
       "      <th></th>\n",
       "      <th>status</th>\n",
       "      <th>Approved</th>\n",
       "      <th>Rejected</th>\n",
       "    </tr>\n",
       "    <tr>\n",
       "      <th>salesperson</th>\n",
       "      <th>DealerName</th>\n",
       "      <th></th>\n",
       "      <th></th>\n",
       "    </tr>\n",
       "  </thead>\n",
       "  <tbody>\n",
       "    <tr>\n",
       "      <th rowspan=\"5\" valign=\"top\">Jim Vogler</th>\n",
       "      <th>Bud Weiser Chevrolet-Cadillac</th>\n",
       "      <td>22.0</td>\n",
       "      <td>3.0</td>\n",
       "    </tr>\n",
       "    <tr>\n",
       "      <th>Concours Auto Sales Inc</th>\n",
       "      <td>55.0</td>\n",
       "      <td>8.0</td>\n",
       "    </tr>\n",
       "    <tr>\n",
       "      <th>Cooper Buick Pontiac GMC Inc</th>\n",
       "      <td>33.0</td>\n",
       "      <td>8.0</td>\n",
       "    </tr>\n",
       "    <tr>\n",
       "      <th>F F Fisher Sales &amp; Leasing</th>\n",
       "      <td>17.0</td>\n",
       "      <td>9.0</td>\n",
       "    </tr>\n",
       "    <tr>\n",
       "      <th>Frank Shirey Cadillac</th>\n",
       "      <td>45.0</td>\n",
       "      <td>7.0</td>\n",
       "    </tr>\n",
       "    <tr>\n",
       "      <th>...</th>\n",
       "      <th>...</th>\n",
       "      <td>...</td>\n",
       "      <td>...</td>\n",
       "    </tr>\n",
       "    <tr>\n",
       "      <th rowspan=\"5\" valign=\"top\">Samin Gupta</th>\n",
       "      <th>Payton Wells Chevrolet Inc</th>\n",
       "      <td>8.0</td>\n",
       "      <td>NaN</td>\n",
       "    </tr>\n",
       "    <tr>\n",
       "      <th>Richard Chevrolet Geo Inc</th>\n",
       "      <td>10.0</td>\n",
       "      <td>1.0</td>\n",
       "    </tr>\n",
       "    <tr>\n",
       "      <th>Twin Motors Ford Inc</th>\n",
       "      <td>29.0</td>\n",
       "      <td>3.0</td>\n",
       "    </tr>\n",
       "    <tr>\n",
       "      <th>Weakley County Motors</th>\n",
       "      <td>28.0</td>\n",
       "      <td>6.0</td>\n",
       "    </tr>\n",
       "    <tr>\n",
       "      <th>Wilson Motor Co</th>\n",
       "      <td>25.0</td>\n",
       "      <td>5.0</td>\n",
       "    </tr>\n",
       "  </tbody>\n",
       "</table>\n",
       "<p>90 rows × 2 columns</p>\n",
       "</div>"
      ],
      "text/plain": [
       "status                                     Approved  Rejected\n",
       "salesperson DealerName                                       \n",
       "Jim Vogler  Bud Weiser Chevrolet-Cadillac      22.0       3.0\n",
       "            Concours Auto Sales Inc            55.0       8.0\n",
       "            Cooper Buick Pontiac GMC Inc       33.0       8.0\n",
       "            F F Fisher Sales & Leasing         17.0       9.0\n",
       "            Frank Shirey Cadillac              45.0       7.0\n",
       "...                                             ...       ...\n",
       "Samin Gupta Payton Wells Chevrolet Inc          8.0       NaN\n",
       "            Richard Chevrolet Geo Inc          10.0       1.0\n",
       "            Twin Motors Ford Inc               29.0       3.0\n",
       "            Weakley County Motors              28.0       6.0\n",
       "            Wilson Motor Co                    25.0       5.0\n",
       "\n",
       "[90 rows x 2 columns]"
      ]
     },
     "execution_count": 68,
     "metadata": {},
     "output_type": "execute_result"
    }
   ],
   "source": [
    "df_approved_rejected = df_salesperson_rev.groupby(['salesperson','DealerName','status'])['DealerName'].count().unstack()\n",
    "df_approved_rejected"
   ]
  },
  {
   "cell_type": "code",
   "execution_count": 72,
   "id": "dbb5348e",
   "metadata": {},
   "outputs": [
    {
     "data": {
      "text/html": [
       "<div>\n",
       "<style scoped>\n",
       "    .dataframe tbody tr th:only-of-type {\n",
       "        vertical-align: middle;\n",
       "    }\n",
       "\n",
       "    .dataframe tbody tr th {\n",
       "        vertical-align: top;\n",
       "    }\n",
       "\n",
       "    .dataframe thead th {\n",
       "        text-align: right;\n",
       "    }\n",
       "</style>\n",
       "<table border=\"1\" class=\"dataframe\">\n",
       "  <thead>\n",
       "    <tr style=\"text-align: right;\">\n",
       "      <th></th>\n",
       "      <th>status</th>\n",
       "      <th>Approved</th>\n",
       "      <th>Rejected</th>\n",
       "      <th>percen_of_rejection</th>\n",
       "      <th>percent_of_rejection</th>\n",
       "    </tr>\n",
       "    <tr>\n",
       "      <th>salesperson</th>\n",
       "      <th>DealerName</th>\n",
       "      <th></th>\n",
       "      <th></th>\n",
       "      <th></th>\n",
       "      <th></th>\n",
       "    </tr>\n",
       "  </thead>\n",
       "  <tbody>\n",
       "    <tr>\n",
       "      <th>Jim Vogler</th>\n",
       "      <th>F F Fisher Sales &amp; Leasing</th>\n",
       "      <td>17.0</td>\n",
       "      <td>9.0</td>\n",
       "      <td>0.346154</td>\n",
       "      <td>0.35</td>\n",
       "    </tr>\n",
       "    <tr>\n",
       "      <th>Samin Gupta</th>\n",
       "      <th>Harvey's Chevrolet Oldsmobile</th>\n",
       "      <td>5.0</td>\n",
       "      <td>2.0</td>\n",
       "      <td>0.285714</td>\n",
       "      <td>0.29</td>\n",
       "    </tr>\n",
       "    <tr>\n",
       "      <th rowspan=\"2\" valign=\"top\">Rachel Arellano</th>\n",
       "      <th>American Service Center Associates</th>\n",
       "      <td>20.0</td>\n",
       "      <td>8.0</td>\n",
       "      <td>0.285714</td>\n",
       "      <td>0.29</td>\n",
       "    </tr>\n",
       "    <tr>\n",
       "      <th>Crown Chrysler Jeep</th>\n",
       "      <td>16.0</td>\n",
       "      <td>6.0</td>\n",
       "      <td>0.272727</td>\n",
       "      <td>0.27</td>\n",
       "    </tr>\n",
       "    <tr>\n",
       "      <th>Jim Vogler</th>\n",
       "      <th>Sweetwater Nissan</th>\n",
       "      <td>6.0</td>\n",
       "      <td>2.0</td>\n",
       "      <td>0.250000</td>\n",
       "      <td>0.25</td>\n",
       "    </tr>\n",
       "  </tbody>\n",
       "</table>\n",
       "</div>"
      ],
      "text/plain": [
       "status                                              Approved  Rejected  \\\n",
       "salesperson     DealerName                                               \n",
       "Jim Vogler      F F Fisher Sales & Leasing              17.0       9.0   \n",
       "Samin Gupta     Harvey's Chevrolet Oldsmobile            5.0       2.0   \n",
       "Rachel Arellano American Service Center Associates      20.0       8.0   \n",
       "                Crown Chrysler Jeep                     16.0       6.0   \n",
       "Jim Vogler      Sweetwater Nissan                        6.0       2.0   \n",
       "\n",
       "status                                              percen_of_rejection  \\\n",
       "salesperson     DealerName                                                \n",
       "Jim Vogler      F F Fisher Sales & Leasing                     0.346154   \n",
       "Samin Gupta     Harvey's Chevrolet Oldsmobile                  0.285714   \n",
       "Rachel Arellano American Service Center Associates             0.285714   \n",
       "                Crown Chrysler Jeep                            0.272727   \n",
       "Jim Vogler      Sweetwater Nissan                              0.250000   \n",
       "\n",
       "status                                              percent_of_rejection  \n",
       "salesperson     DealerName                                                \n",
       "Jim Vogler      F F Fisher Sales & Leasing                          0.35  \n",
       "Samin Gupta     Harvey's Chevrolet Oldsmobile                       0.29  \n",
       "Rachel Arellano American Service Center Associates                  0.29  \n",
       "                Crown Chrysler Jeep                                 0.27  \n",
       "Jim Vogler      Sweetwater Nissan                                   0.25  "
      ]
     },
     "execution_count": 72,
     "metadata": {},
     "output_type": "execute_result"
    }
   ],
   "source": [
    "df_approved_rejected['percent_of_rejection']=round(df_approved_rejected['Rejected']/(df_approved_rejected['Approved']+df_approved_rejected['Rejected']),2)\n",
    "df_approved_rejected.sort_values('percent_of_rejection',ascending = False).head(5)"
   ]
  },
  {
   "cell_type": "markdown",
   "id": "207e6ece",
   "metadata": {},
   "source": [
    "F F Fisher Sales & Leasing has the highest rejection rate - need a talk with Jim Vogler to investigate the reason"
   ]
  },
  {
   "cell_type": "code",
   "execution_count": 81,
   "id": "bbaa5334",
   "metadata": {},
   "outputs": [
    {
     "data": {
      "text/html": [
       "<div>\n",
       "<style scoped>\n",
       "    .dataframe tbody tr th:only-of-type {\n",
       "        vertical-align: middle;\n",
       "    }\n",
       "\n",
       "    .dataframe tbody tr th {\n",
       "        vertical-align: top;\n",
       "    }\n",
       "\n",
       "    .dataframe thead th {\n",
       "        text-align: right;\n",
       "    }\n",
       "</style>\n",
       "<table border=\"1\" class=\"dataframe\">\n",
       "  <thead>\n",
       "    <tr style=\"text-align: right;\">\n",
       "      <th></th>\n",
       "      <th>percent_of_rejection</th>\n",
       "    </tr>\n",
       "    <tr>\n",
       "      <th>salesperson</th>\n",
       "      <th></th>\n",
       "    </tr>\n",
       "  </thead>\n",
       "  <tbody>\n",
       "    <tr>\n",
       "      <th>Jim Vogler</th>\n",
       "      <td>0.165882</td>\n",
       "    </tr>\n",
       "    <tr>\n",
       "      <th>Samin Gupta</th>\n",
       "      <td>0.152500</td>\n",
       "    </tr>\n",
       "    <tr>\n",
       "      <th>Nora Palermo</th>\n",
       "      <td>0.146429</td>\n",
       "    </tr>\n",
       "    <tr>\n",
       "      <th>Mansur Naser</th>\n",
       "      <td>0.145000</td>\n",
       "    </tr>\n",
       "    <tr>\n",
       "      <th>Rachel Arellano</th>\n",
       "      <td>0.136875</td>\n",
       "    </tr>\n",
       "  </tbody>\n",
       "</table>\n",
       "</div>"
      ],
      "text/plain": [
       "                 percent_of_rejection\n",
       "salesperson                          \n",
       "Jim Vogler                   0.165882\n",
       "Samin Gupta                  0.152500\n",
       "Nora Palermo                 0.146429\n",
       "Mansur Naser                 0.145000\n",
       "Rachel Arellano              0.136875"
      ]
     },
     "execution_count": 81,
     "metadata": {},
     "output_type": "execute_result"
    }
   ],
   "source": [
    "df_approved_rejected_salesperson = df_approved_rejected.reset_index()\n",
    "df_approved_rejected_salesperson1 = pd.DataFrame(df_approved_rejected_salesperson.groupby('salesperson')['percent_of_rejection'].mean()).sort_values('percent_of_rejection',ascending=False)\n",
    "df_approved_rejected_salesperson1 "
   ]
  },
  {
   "cell_type": "code",
   "execution_count": 93,
   "id": "7612df7b",
   "metadata": {},
   "outputs": [
    {
     "data": {
      "image/png": "[encoded data removed]",
      "text/plain": [
       "<Figure size 720x360 with 1 Axes>"
      ]
     },
     "metadata": {
      "needs_background": "light"
     },
     "output_type": "display_data"
    }
   ],
   "source": [
    "average_rejection_rate = df_approved_rejected_salesperson.groupby('salesperson')['percent_of_rejection'].mean().sort_values(ascending=False)\n",
    "len(average_rejection_rate)\n",
    "import seaborn as sns\n",
    "import matplotlib.pyplot as plt\n",
    "fig, ax = plt.subplots(figsize=(10, 5))\n",
    "\n",
    "# sns.barplot(x=df_approved_rejected_salesperson1.index,y = 'percent_of_rejection', data = df_approved_rejected_salesperson1)\n",
    "bar = sns.barplot(data = df_approved_rejected_salesperson1,x=df_approved_rejected_salesperson1.index,y = 'percent_of_rejection')\n",
    "bar.set(title='Average rejection rate per Salesperson')\n",
    "for i in range(len(average_rejection_rate)):\n",
    "    bar.text(i,average_rejection_rate[i]/2,str(round(average_rejection_rate[i],3)),\n",
    "             fontdict = dict(color='white',fontsize=10),\n",
    "             horizontalalignment = 'center')"
   ]
  },
  {
   "cell_type": "markdown",
   "id": "640dd8fb",
   "metadata": {},
   "source": [
    "Jim Vogler's dealer base has the highest rejection rate. Might need a check with Jim Vogler on the reason"
   ]
  },
  {
   "cell_type": "code",
   "execution_count": null,
   "id": "5ef50b0b",
   "metadata": {},
   "outputs": [],
   "source": []
  }
 ],
 "metadata": {
  "kernelspec": {
   "display_name": "Python 3 (ipykernel)",
   "language": "python",
   "name": "python3"
  },
  "language_info": {
   "codemirror_mode": {
    "name": "ipython",
    "version": 3
   },
   "file_extension": ".py",
   "mimetype": "text/x-python",
   "name": "python",
   "nbconvert_exporter": "python",
   "pygments_lexer": "ipython3",
   "version": "3.9.7"
  }
 },
 "nbformat": 4,
 "nbformat_minor": 5
}
