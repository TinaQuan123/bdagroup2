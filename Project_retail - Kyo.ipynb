{
 "cells": [
  {
   "cell_type": "markdown",
   "id": "3c92eed7",
   "metadata": {},
   "source": [
    "###### ETL Process: \n",
    "--> Import Python Package \n",
    "--> Connect to source database and define destination database in SQL server \n",
    "--> read csv file\n",
    "--> concat existing data and new data\n",
    "--> populate SQL table"
   ]
  },
  {
   "cell_type": "code",
   "execution_count": 1,
   "id": "f04246d3",
   "metadata": {},
   "outputs": [],
   "source": [
    "import pandas as pd\n",
    "import numpy as np\n",
    "import os\n",
    "import statsmodels.api as sm\n",
    "import scipy.stats as st\n",
    "import matplotlib.pyplot as plt \n",
    "import seaborn as sns\n",
    "from sklearn.linear_model import LinearRegression\n",
    "%matplotlib inline\n",
    "file_path=' '"
   ]
  },
  {
   "cell_type": "code",
   "execution_count": 2,
   "id": "ea7e0d75",
   "metadata": {},
   "outputs": [],
   "source": [
    "import pyodbc\n",
    "import urllib\n",
    "import sqlalchemy\n",
    "\n",
    "'''sources databases'''\n",
    "params_p = urllib.parse.quote_plus(\"DRIVER={SQL Server Native Client 11.0};\"\n",
    "                                 \"SERVER=localhost\\SQLEXPRESS;\"\n",
    "                                 \"DATABASE=DataWarehouse1;\"\n",
    "                                 \"UID=sa;\"\n",
    "                                 \"PWD=user1\")\n",
    "\n",
    "engine_p = sqlalchemy.create_engine(\"mssql+pyodbc:///?odbc_connect={}\".format(params_p))\n",
    "\n",
    "\n",
    "params_s = urllib.parse.quote_plus(\"DRIVER={SQL Server Native Client 11.0};\"\n",
    "                                 \"SERVER=localhost\\SQLEXPRESS;\"\n",
    "                                 \"DATABASE=DataWarehouse2;\"\n",
    "                                 \"UID=sa;\"\n",
    "                                 \"PWD=user1\")\n",
    "\n",
    "engine_s = sqlalchemy.create_engine(\"mssql+pyodbc:///?odbc_connect={}\".format(params_s))\n",
    "\n",
    "\n",
    "\n",
    "'''destination databases'''\n",
    "\n",
    "params_datahub = urllib.parse.quote_plus(\"DRIVER={SQL Server Native Client 11.0};\"\n",
    "                                 \"SERVER=localhost\\SQLEXPRESS;\"\n",
    "                                 \"DATABASE=datahub;\"\n",
    "                                 \"UID=sa;\"\n",
    "                                 \"PWD=user1\")\n",
    "\n",
    "engine_datahub = sqlalchemy.create_engine(\"mssql+pyodbc:///?odbc_connect={}\".format(params_datahub))"
   ]
  },
  {
   "cell_type": "code",
   "execution_count": 3,
   "id": "ca4d629c",
   "metadata": {},
   "outputs": [
    {
     "data": {
      "text/html": [
       "<div>\n",
       "<style scoped>\n",
       "    .dataframe tbody tr th:only-of-type {\n",
       "        vertical-align: middle;\n",
       "    }\n",
       "\n",
       "    .dataframe tbody tr th {\n",
       "        vertical-align: top;\n",
       "    }\n",
       "\n",
       "    .dataframe thead th {\n",
       "        text-align: right;\n",
       "    }\n",
       "</style>\n",
       "<table border=\"1\" class=\"dataframe\">\n",
       "  <thead>\n",
       "    <tr style=\"text-align: right;\">\n",
       "      <th></th>\n",
       "      <th>Year</th>\n",
       "      <th>week number</th>\n",
       "      <th>Product</th>\n",
       "      <th>Price</th>\n",
       "      <th>On Flyer?</th>\n",
       "      <th>Discount</th>\n",
       "      <th>Units</th>\n",
       "      <th>Sales $</th>\n",
       "      <th>Gross Margin $</th>\n",
       "      <th># Transactions that contained the product</th>\n",
       "    </tr>\n",
       "  </thead>\n",
       "  <tbody>\n",
       "    <tr>\n",
       "      <th>0</th>\n",
       "      <td>2021</td>\n",
       "      <td>1</td>\n",
       "      <td>Pantene</td>\n",
       "      <td>7.99</td>\n",
       "      <td>No</td>\n",
       "      <td>0.00</td>\n",
       "      <td>8630</td>\n",
       "      <td>68953.70</td>\n",
       "      <td>33570.70</td>\n",
       "      <td>8460</td>\n",
       "    </tr>\n",
       "    <tr>\n",
       "      <th>1</th>\n",
       "      <td>2021</td>\n",
       "      <td>2</td>\n",
       "      <td>Pantene</td>\n",
       "      <td>7.29</td>\n",
       "      <td>Yes</td>\n",
       "      <td>0.10</td>\n",
       "      <td>10183</td>\n",
       "      <td>74234.07</td>\n",
       "      <td>32483.77</td>\n",
       "      <td>9983</td>\n",
       "    </tr>\n",
       "    <tr>\n",
       "      <th>2</th>\n",
       "      <td>2021</td>\n",
       "      <td>3</td>\n",
       "      <td>Pantene</td>\n",
       "      <td>5.49</td>\n",
       "      <td>Yes</td>\n",
       "      <td>0.30</td>\n",
       "      <td>21568</td>\n",
       "      <td>118408.32</td>\n",
       "      <td>29979.52</td>\n",
       "      <td>17117</td>\n",
       "    </tr>\n",
       "    <tr>\n",
       "      <th>3</th>\n",
       "      <td>2021</td>\n",
       "      <td>4</td>\n",
       "      <td>Pantene</td>\n",
       "      <td>7.49</td>\n",
       "      <td>Yes</td>\n",
       "      <td>0.05</td>\n",
       "      <td>9309</td>\n",
       "      <td>69724.41</td>\n",
       "      <td>31557.51</td>\n",
       "      <td>9038</td>\n",
       "    </tr>\n",
       "    <tr>\n",
       "      <th>4</th>\n",
       "      <td>2021</td>\n",
       "      <td>5</td>\n",
       "      <td>Pantene</td>\n",
       "      <td>7.99</td>\n",
       "      <td>No</td>\n",
       "      <td>0.00</td>\n",
       "      <td>8462</td>\n",
       "      <td>67611.38</td>\n",
       "      <td>32917.18</td>\n",
       "      <td>8379</td>\n",
       "    </tr>\n",
       "  </tbody>\n",
       "</table>\n",
       "</div>"
      ],
      "text/plain": [
       "   Year  week number  Product  Price On Flyer?  Discount  Units    Sales $  \\\n",
       "0  2021            1  Pantene   7.99        No      0.00   8630   68953.70   \n",
       "1  2021            2  Pantene   7.29       Yes      0.10  10183   74234.07   \n",
       "2  2021            3  Pantene   5.49       Yes      0.30  21568  118408.32   \n",
       "3  2021            4  Pantene   7.49       Yes      0.05   9309   69724.41   \n",
       "4  2021            5  Pantene   7.99        No      0.00   8462   67611.38   \n",
       "\n",
       "   Gross Margin $  # Transactions that contained the product  \n",
       "0        33570.70                                       8460  \n",
       "1        32483.77                                       9983  \n",
       "2        29979.52                                      17117  \n",
       "3        31557.51                                       9038  \n",
       "4        32917.18                                       8379  "
      ]
     },
     "execution_count": 3,
     "metadata": {},
     "output_type": "execute_result"
    }
   ],
   "source": [
    "df=pd.read_excel(file_path+'data - Promotional Effectiveness Analysis.xlsx')\n",
    "df.head()\n"
   ]
  },
  {
   "cell_type": "code",
   "execution_count": 4,
   "id": "7d615799",
   "metadata": {},
   "outputs": [
    {
     "name": "stdout",
     "output_type": "stream",
     "text": [
      "<class 'pandas.core.frame.DataFrame'>\n",
      "RangeIndex: 134 entries, 0 to 133\n",
      "Data columns (total 10 columns):\n",
      " #   Column                                     Non-Null Count  Dtype  \n",
      "---  ------                                     --------------  -----  \n",
      " 0   Year                                       134 non-null    int64  \n",
      " 1   week number                                134 non-null    int64  \n",
      " 2   Product                                    134 non-null    object \n",
      " 3   Price                                      134 non-null    float64\n",
      " 4   On Flyer?                                  134 non-null    object \n",
      " 5   Discount                                   134 non-null    float64\n",
      " 6   Units                                      134 non-null    int64  \n",
      " 7   Sales $                                    134 non-null    float64\n",
      " 8   Gross Margin $                             134 non-null    float64\n",
      " 9   # Transactions that contained the product  134 non-null    int64  \n",
      "dtypes: float64(4), int64(4), object(2)\n",
      "memory usage: 10.6+ KB\n"
     ]
    },
    {
     "data": {
      "text/plain": [
       "((134, 10), None)"
      ]
     },
     "execution_count": 4,
     "metadata": {},
     "output_type": "execute_result"
    }
   ],
   "source": [
    "df.shape,df.info()"
   ]
  },
  {
   "cell_type": "code",
   "execution_count": 5,
   "id": "3cfe74b4",
   "metadata": {},
   "outputs": [],
   "source": [
    "df.to_sql('retail',engine_datahub,if_exists='replace',index=False)"
   ]
  },
  {
   "cell_type": "code",
   "execution_count": 6,
   "id": "238e3ee1",
   "metadata": {},
   "outputs": [
    {
     "data": {
      "text/plain": [
       "(134, 10)"
      ]
     },
     "execution_count": 6,
     "metadata": {},
     "output_type": "execute_result"
    }
   ],
   "source": [
    "# drop duplicates - no duplicates\n",
    "df.drop_duplicates(keep='first', inplace=True)\n",
    "df.shape"
   ]
  },
  {
   "cell_type": "code",
   "execution_count": 7,
   "id": "22207be6",
   "metadata": {},
   "outputs": [
    {
     "data": {
      "text/plain": [
       "False"
      ]
     },
     "execution_count": 7,
     "metadata": {},
     "output_type": "execute_result"
    }
   ],
   "source": [
    "#check missing values - no missing values\n",
    "df.isnull().values.any()"
   ]
  },
  {
   "cell_type": "code",
   "execution_count": 8,
   "id": "0315f7ab",
   "metadata": {},
   "outputs": [
    {
     "data": {
      "text/html": [
       "<div>\n",
       "<style scoped>\n",
       "    .dataframe tbody tr th:only-of-type {\n",
       "        vertical-align: middle;\n",
       "    }\n",
       "\n",
       "    .dataframe tbody tr th {\n",
       "        vertical-align: top;\n",
       "    }\n",
       "\n",
       "    .dataframe thead th {\n",
       "        text-align: right;\n",
       "    }\n",
       "</style>\n",
       "<table border=\"1\" class=\"dataframe\">\n",
       "  <thead>\n",
       "    <tr style=\"text-align: right;\">\n",
       "      <th></th>\n",
       "      <th>Year</th>\n",
       "      <th>week</th>\n",
       "      <th>Product</th>\n",
       "      <th>Price</th>\n",
       "      <th>On Flyer?</th>\n",
       "      <th>Discount</th>\n",
       "      <th>Units</th>\n",
       "      <th>Sales $</th>\n",
       "      <th>Gross Margin $</th>\n",
       "      <th>Num_Transact</th>\n",
       "    </tr>\n",
       "  </thead>\n",
       "  <tbody>\n",
       "    <tr>\n",
       "      <th>0</th>\n",
       "      <td>2021</td>\n",
       "      <td>1</td>\n",
       "      <td>Pantene</td>\n",
       "      <td>7.99</td>\n",
       "      <td>No</td>\n",
       "      <td>0.00</td>\n",
       "      <td>8630</td>\n",
       "      <td>68953.70</td>\n",
       "      <td>33570.70</td>\n",
       "      <td>8460</td>\n",
       "    </tr>\n",
       "    <tr>\n",
       "      <th>1</th>\n",
       "      <td>2021</td>\n",
       "      <td>2</td>\n",
       "      <td>Pantene</td>\n",
       "      <td>7.29</td>\n",
       "      <td>Yes</td>\n",
       "      <td>0.10</td>\n",
       "      <td>10183</td>\n",
       "      <td>74234.07</td>\n",
       "      <td>32483.77</td>\n",
       "      <td>9983</td>\n",
       "    </tr>\n",
       "    <tr>\n",
       "      <th>2</th>\n",
       "      <td>2021</td>\n",
       "      <td>3</td>\n",
       "      <td>Pantene</td>\n",
       "      <td>5.49</td>\n",
       "      <td>Yes</td>\n",
       "      <td>0.30</td>\n",
       "      <td>21568</td>\n",
       "      <td>118408.32</td>\n",
       "      <td>29979.52</td>\n",
       "      <td>17117</td>\n",
       "    </tr>\n",
       "    <tr>\n",
       "      <th>3</th>\n",
       "      <td>2021</td>\n",
       "      <td>4</td>\n",
       "      <td>Pantene</td>\n",
       "      <td>7.49</td>\n",
       "      <td>Yes</td>\n",
       "      <td>0.05</td>\n",
       "      <td>9309</td>\n",
       "      <td>69724.41</td>\n",
       "      <td>31557.51</td>\n",
       "      <td>9038</td>\n",
       "    </tr>\n",
       "    <tr>\n",
       "      <th>4</th>\n",
       "      <td>2021</td>\n",
       "      <td>5</td>\n",
       "      <td>Pantene</td>\n",
       "      <td>7.99</td>\n",
       "      <td>No</td>\n",
       "      <td>0.00</td>\n",
       "      <td>8462</td>\n",
       "      <td>67611.38</td>\n",
       "      <td>32917.18</td>\n",
       "      <td>8379</td>\n",
       "    </tr>\n",
       "  </tbody>\n",
       "</table>\n",
       "</div>"
      ],
      "text/plain": [
       "   Year  week  Product  Price On Flyer?  Discount  Units    Sales $  \\\n",
       "0  2021     1  Pantene   7.99        No      0.00   8630   68953.70   \n",
       "1  2021     2  Pantene   7.29       Yes      0.10  10183   74234.07   \n",
       "2  2021     3  Pantene   5.49       Yes      0.30  21568  118408.32   \n",
       "3  2021     4  Pantene   7.49       Yes      0.05   9309   69724.41   \n",
       "4  2021     5  Pantene   7.99        No      0.00   8462   67611.38   \n",
       "\n",
       "   Gross Margin $  Num_Transact  \n",
       "0        33570.70          8460  \n",
       "1        32483.77          9983  \n",
       "2        29979.52         17117  \n",
       "3        31557.51          9038  \n",
       "4        32917.18          8379  "
      ]
     },
     "execution_count": 8,
     "metadata": {},
     "output_type": "execute_result"
    }
   ],
   "source": [
    "df_new = df.rename({'# Transactions that contained the product':'Num_Transact','week number':'week'},axis=1)\n",
    "df_new.head()"
   ]
  },
  {
   "cell_type": "code",
   "execution_count": 9,
   "id": "b9eb99db",
   "metadata": {},
   "outputs": [
    {
     "data": {
      "text/html": [
       "<div>\n",
       "<style scoped>\n",
       "    .dataframe tbody tr th:only-of-type {\n",
       "        vertical-align: middle;\n",
       "    }\n",
       "\n",
       "    .dataframe tbody tr th {\n",
       "        vertical-align: top;\n",
       "    }\n",
       "\n",
       "    .dataframe thead th {\n",
       "        text-align: right;\n",
       "    }\n",
       "</style>\n",
       "<table border=\"1\" class=\"dataframe\">\n",
       "  <thead>\n",
       "    <tr style=\"text-align: right;\">\n",
       "      <th></th>\n",
       "      <th>Year</th>\n",
       "      <th>week</th>\n",
       "      <th>Price</th>\n",
       "      <th>Discount</th>\n",
       "      <th>Units</th>\n",
       "      <th>Sales $</th>\n",
       "      <th>Gross Margin $</th>\n",
       "      <th>Num_Transact</th>\n",
       "    </tr>\n",
       "  </thead>\n",
       "  <tbody>\n",
       "    <tr>\n",
       "      <th>count</th>\n",
       "      <td>134.000000</td>\n",
       "      <td>134.000000</td>\n",
       "      <td>134.000000</td>\n",
       "      <td>134.000000</td>\n",
       "      <td>134.000000</td>\n",
       "      <td>134.000000</td>\n",
       "      <td>134.000000</td>\n",
       "      <td>134.000000</td>\n",
       "    </tr>\n",
       "    <tr>\n",
       "      <th>mean</th>\n",
       "      <td>2021.223881</td>\n",
       "      <td>22.358209</td>\n",
       "      <td>5.381045</td>\n",
       "      <td>0.168657</td>\n",
       "      <td>22475.373134</td>\n",
       "      <td>100484.140299</td>\n",
       "      <td>24477.665632</td>\n",
       "      <td>14527.977612</td>\n",
       "    </tr>\n",
       "    <tr>\n",
       "      <th>std</th>\n",
       "      <td>0.418407</td>\n",
       "      <td>15.500377</td>\n",
       "      <td>1.684358</td>\n",
       "      <td>0.175327</td>\n",
       "      <td>16891.686295</td>\n",
       "      <td>50213.865512</td>\n",
       "      <td>10730.292069</td>\n",
       "      <td>5824.488856</td>\n",
       "    </tr>\n",
       "    <tr>\n",
       "      <th>min</th>\n",
       "      <td>2021.000000</td>\n",
       "      <td>1.000000</td>\n",
       "      <td>2.490000</td>\n",
       "      <td>0.000000</td>\n",
       "      <td>8381.000000</td>\n",
       "      <td>47484.840000</td>\n",
       "      <td>-23932.000000</td>\n",
       "      <td>8216.000000</td>\n",
       "    </tr>\n",
       "    <tr>\n",
       "      <th>25%</th>\n",
       "      <td>2021.000000</td>\n",
       "      <td>9.000000</td>\n",
       "      <td>3.990000</td>\n",
       "      <td>0.000000</td>\n",
       "      <td>9701.000000</td>\n",
       "      <td>66589.775000</td>\n",
       "      <td>22974.742500</td>\n",
       "      <td>9261.250000</td>\n",
       "    </tr>\n",
       "    <tr>\n",
       "      <th>50%</th>\n",
       "      <td>2021.000000</td>\n",
       "      <td>19.000000</td>\n",
       "      <td>4.990000</td>\n",
       "      <td>0.150000</td>\n",
       "      <td>13118.000000</td>\n",
       "      <td>73012.860000</td>\n",
       "      <td>24993.375000</td>\n",
       "      <td>12071.000000</td>\n",
       "    </tr>\n",
       "    <tr>\n",
       "      <th>75%</th>\n",
       "      <td>2021.000000</td>\n",
       "      <td>35.750000</td>\n",
       "      <td>6.790000</td>\n",
       "      <td>0.300000</td>\n",
       "      <td>32441.750000</td>\n",
       "      <td>131230.107500</td>\n",
       "      <td>32921.070000</td>\n",
       "      <td>21111.000000</td>\n",
       "    </tr>\n",
       "    <tr>\n",
       "      <th>max</th>\n",
       "      <td>2022.000000</td>\n",
       "      <td>52.000000</td>\n",
       "      <td>7.990000</td>\n",
       "      <td>0.500000</td>\n",
       "      <td>77200.000000</td>\n",
       "      <td>232605.030000</td>\n",
       "      <td>35631.740000</td>\n",
       "      <td>26439.000000</td>\n",
       "    </tr>\n",
       "  </tbody>\n",
       "</table>\n",
       "</div>"
      ],
      "text/plain": [
       "              Year        week       Price    Discount         Units  \\\n",
       "count   134.000000  134.000000  134.000000  134.000000    134.000000   \n",
       "mean   2021.223881   22.358209    5.381045    0.168657  22475.373134   \n",
       "std       0.418407   15.500377    1.684358    0.175327  16891.686295   \n",
       "min    2021.000000    1.000000    2.490000    0.000000   8381.000000   \n",
       "25%    2021.000000    9.000000    3.990000    0.000000   9701.000000   \n",
       "50%    2021.000000   19.000000    4.990000    0.150000  13118.000000   \n",
       "75%    2021.000000   35.750000    6.790000    0.300000  32441.750000   \n",
       "max    2022.000000   52.000000    7.990000    0.500000  77200.000000   \n",
       "\n",
       "             Sales $  Gross Margin $  Num_Transact  \n",
       "count     134.000000      134.000000    134.000000  \n",
       "mean   100484.140299    24477.665632  14527.977612  \n",
       "std     50213.865512    10730.292069   5824.488856  \n",
       "min     47484.840000   -23932.000000   8216.000000  \n",
       "25%     66589.775000    22974.742500   9261.250000  \n",
       "50%     73012.860000    24993.375000  12071.000000  \n",
       "75%    131230.107500    32921.070000  21111.000000  \n",
       "max    232605.030000    35631.740000  26439.000000  "
      ]
     },
     "execution_count": 9,
     "metadata": {},
     "output_type": "execute_result"
    }
   ],
   "source": [
    "df_new.describe()"
   ]
  },
  {
   "cell_type": "code",
   "execution_count": 10,
   "id": "aa91a60b",
   "metadata": {},
   "outputs": [
    {
     "data": {
      "text/html": [
       "<div>\n",
       "<style scoped>\n",
       "    .dataframe tbody tr th:only-of-type {\n",
       "        vertical-align: middle;\n",
       "    }\n",
       "\n",
       "    .dataframe tbody tr th {\n",
       "        vertical-align: top;\n",
       "    }\n",
       "\n",
       "    .dataframe thead th {\n",
       "        text-align: right;\n",
       "    }\n",
       "</style>\n",
       "<table border=\"1\" class=\"dataframe\">\n",
       "  <thead>\n",
       "    <tr style=\"text-align: right;\">\n",
       "      <th></th>\n",
       "      <th>Year</th>\n",
       "      <th>week</th>\n",
       "      <th>Product</th>\n",
       "      <th>Price</th>\n",
       "      <th>On Flyer?</th>\n",
       "      <th>Discount</th>\n",
       "      <th>Units</th>\n",
       "      <th>Sales $</th>\n",
       "      <th>Gross Margin $</th>\n",
       "      <th>Num_Transact</th>\n",
       "      <th>Sales/Transact</th>\n",
       "      <th>Margin/Transact</th>\n",
       "      <th>Cost</th>\n",
       "    </tr>\n",
       "  </thead>\n",
       "  <tbody>\n",
       "    <tr>\n",
       "      <th>0</th>\n",
       "      <td>2021</td>\n",
       "      <td>1</td>\n",
       "      <td>Pantene</td>\n",
       "      <td>7.99</td>\n",
       "      <td>No</td>\n",
       "      <td>0.00</td>\n",
       "      <td>8630</td>\n",
       "      <td>68953.70</td>\n",
       "      <td>33570.700000</td>\n",
       "      <td>8460</td>\n",
       "      <td>8.150556</td>\n",
       "      <td>3.968168</td>\n",
       "      <td>4.100000</td>\n",
       "    </tr>\n",
       "    <tr>\n",
       "      <th>1</th>\n",
       "      <td>2021</td>\n",
       "      <td>2</td>\n",
       "      <td>Pantene</td>\n",
       "      <td>7.29</td>\n",
       "      <td>Yes</td>\n",
       "      <td>0.10</td>\n",
       "      <td>10183</td>\n",
       "      <td>74234.07</td>\n",
       "      <td>32483.770000</td>\n",
       "      <td>9983</td>\n",
       "      <td>7.436048</td>\n",
       "      <td>3.253909</td>\n",
       "      <td>4.100000</td>\n",
       "    </tr>\n",
       "    <tr>\n",
       "      <th>2</th>\n",
       "      <td>2021</td>\n",
       "      <td>3</td>\n",
       "      <td>Pantene</td>\n",
       "      <td>5.49</td>\n",
       "      <td>Yes</td>\n",
       "      <td>0.30</td>\n",
       "      <td>21568</td>\n",
       "      <td>118408.32</td>\n",
       "      <td>29979.520000</td>\n",
       "      <td>17117</td>\n",
       "      <td>6.917586</td>\n",
       "      <td>1.751447</td>\n",
       "      <td>4.100000</td>\n",
       "    </tr>\n",
       "    <tr>\n",
       "      <th>3</th>\n",
       "      <td>2021</td>\n",
       "      <td>4</td>\n",
       "      <td>Pantene</td>\n",
       "      <td>7.49</td>\n",
       "      <td>Yes</td>\n",
       "      <td>0.05</td>\n",
       "      <td>9309</td>\n",
       "      <td>69724.41</td>\n",
       "      <td>31557.510000</td>\n",
       "      <td>9038</td>\n",
       "      <td>7.714584</td>\n",
       "      <td>3.491647</td>\n",
       "      <td>4.100000</td>\n",
       "    </tr>\n",
       "    <tr>\n",
       "      <th>4</th>\n",
       "      <td>2021</td>\n",
       "      <td>5</td>\n",
       "      <td>Pantene</td>\n",
       "      <td>7.99</td>\n",
       "      <td>No</td>\n",
       "      <td>0.00</td>\n",
       "      <td>8462</td>\n",
       "      <td>67611.38</td>\n",
       "      <td>32917.180000</td>\n",
       "      <td>8379</td>\n",
       "      <td>8.069147</td>\n",
       "      <td>3.928533</td>\n",
       "      <td>4.100000</td>\n",
       "    </tr>\n",
       "    <tr>\n",
       "      <th>...</th>\n",
       "      <td>...</td>\n",
       "      <td>...</td>\n",
       "      <td>...</td>\n",
       "      <td>...</td>\n",
       "      <td>...</td>\n",
       "      <td>...</td>\n",
       "      <td>...</td>\n",
       "      <td>...</td>\n",
       "      <td>...</td>\n",
       "      <td>...</td>\n",
       "      <td>...</td>\n",
       "      <td>...</td>\n",
       "      <td>...</td>\n",
       "    </tr>\n",
       "    <tr>\n",
       "      <th>129</th>\n",
       "      <td>2022</td>\n",
       "      <td>11</td>\n",
       "      <td>Aussie</td>\n",
       "      <td>4.29</td>\n",
       "      <td>Yes</td>\n",
       "      <td>0.15</td>\n",
       "      <td>14757</td>\n",
       "      <td>63307.53</td>\n",
       "      <td>22239.353931</td>\n",
       "      <td>12315</td>\n",
       "      <td>5.140685</td>\n",
       "      <td>1.805875</td>\n",
       "      <td>2.782962</td>\n",
       "    </tr>\n",
       "    <tr>\n",
       "      <th>130</th>\n",
       "      <td>2022</td>\n",
       "      <td>12</td>\n",
       "      <td>Aussie</td>\n",
       "      <td>4.99</td>\n",
       "      <td>No</td>\n",
       "      <td>0.00</td>\n",
       "      <td>10873</td>\n",
       "      <td>54256.27</td>\n",
       "      <td>23811.870000</td>\n",
       "      <td>10556</td>\n",
       "      <td>5.139851</td>\n",
       "      <td>2.255766</td>\n",
       "      <td>2.800000</td>\n",
       "    </tr>\n",
       "    <tr>\n",
       "      <th>131</th>\n",
       "      <td>2022</td>\n",
       "      <td>13</td>\n",
       "      <td>Aussie</td>\n",
       "      <td>4.49</td>\n",
       "      <td>Yes</td>\n",
       "      <td>0.10</td>\n",
       "      <td>12630</td>\n",
       "      <td>56708.70</td>\n",
       "      <td>21339.947228</td>\n",
       "      <td>11254</td>\n",
       "      <td>5.038982</td>\n",
       "      <td>1.896210</td>\n",
       "      <td>2.800376</td>\n",
       "    </tr>\n",
       "    <tr>\n",
       "      <th>132</th>\n",
       "      <td>2022</td>\n",
       "      <td>14</td>\n",
       "      <td>Aussie</td>\n",
       "      <td>4.99</td>\n",
       "      <td>No</td>\n",
       "      <td>0.00</td>\n",
       "      <td>10767</td>\n",
       "      <td>53727.33</td>\n",
       "      <td>23579.730000</td>\n",
       "      <td>10556</td>\n",
       "      <td>5.089743</td>\n",
       "      <td>2.233775</td>\n",
       "      <td>2.800000</td>\n",
       "    </tr>\n",
       "    <tr>\n",
       "      <th>133</th>\n",
       "      <td>2022</td>\n",
       "      <td>15</td>\n",
       "      <td>Aussie</td>\n",
       "      <td>4.79</td>\n",
       "      <td>Yes</td>\n",
       "      <td>0.05</td>\n",
       "      <td>11529</td>\n",
       "      <td>55223.91</td>\n",
       "      <td>22942.710000</td>\n",
       "      <td>11303</td>\n",
       "      <td>4.885775</td>\n",
       "      <td>2.029789</td>\n",
       "      <td>2.800000</td>\n",
       "    </tr>\n",
       "  </tbody>\n",
       "</table>\n",
       "<p>134 rows × 13 columns</p>\n",
       "</div>"
      ],
      "text/plain": [
       "     Year  week  Product  Price On Flyer?  Discount  Units    Sales $  \\\n",
       "0    2021     1  Pantene   7.99        No      0.00   8630   68953.70   \n",
       "1    2021     2  Pantene   7.29       Yes      0.10  10183   74234.07   \n",
       "2    2021     3  Pantene   5.49       Yes      0.30  21568  118408.32   \n",
       "3    2021     4  Pantene   7.49       Yes      0.05   9309   69724.41   \n",
       "4    2021     5  Pantene   7.99        No      0.00   8462   67611.38   \n",
       "..    ...   ...      ...    ...       ...       ...    ...        ...   \n",
       "129  2022    11   Aussie   4.29       Yes      0.15  14757   63307.53   \n",
       "130  2022    12   Aussie   4.99        No      0.00  10873   54256.27   \n",
       "131  2022    13   Aussie   4.49       Yes      0.10  12630   56708.70   \n",
       "132  2022    14   Aussie   4.99        No      0.00  10767   53727.33   \n",
       "133  2022    15   Aussie   4.79       Yes      0.05  11529   55223.91   \n",
       "\n",
       "     Gross Margin $  Num_Transact  Sales/Transact  Margin/Transact      Cost  \n",
       "0      33570.700000          8460        8.150556         3.968168  4.100000  \n",
       "1      32483.770000          9983        7.436048         3.253909  4.100000  \n",
       "2      29979.520000         17117        6.917586         1.751447  4.100000  \n",
       "3      31557.510000          9038        7.714584         3.491647  4.100000  \n",
       "4      32917.180000          8379        8.069147         3.928533  4.100000  \n",
       "..              ...           ...             ...              ...       ...  \n",
       "129    22239.353931         12315        5.140685         1.805875  2.782962  \n",
       "130    23811.870000         10556        5.139851         2.255766  2.800000  \n",
       "131    21339.947228         11254        5.038982         1.896210  2.800376  \n",
       "132    23579.730000         10556        5.089743         2.233775  2.800000  \n",
       "133    22942.710000         11303        4.885775         2.029789  2.800000  \n",
       "\n",
       "[134 rows x 13 columns]"
      ]
     },
     "execution_count": 10,
     "metadata": {},
     "output_type": "execute_result"
    }
   ],
   "source": [
    "df_new['Sales/Transact'] = df_new['Sales $']/df_new['Num_Transact']\n",
    "df_new['Margin/Transact']= df_new['Gross Margin $']/df_new['Num_Transact']\n",
    "df_new['Cost'] = (df['Sales $']-df['Gross Margin $'])/df['Units']\n",
    "df_new"
   ]
  },
  {
   "cell_type": "code",
   "execution_count": 11,
   "id": "bdc08cb2",
   "metadata": {},
   "outputs": [
    {
     "data": {
      "text/plain": [
       "Product\n",
       "Aussie     192228.00\n",
       "Pantene    232605.03\n",
       "Name: Sales $, dtype: float64"
      ]
     },
     "execution_count": 11,
     "metadata": {},
     "output_type": "execute_result"
    }
   ],
   "source": [
    "df_new.groupby('Product')['Sales $'].max()"
   ]
  },
  {
   "cell_type": "code",
   "execution_count": 12,
   "id": "78ab31c2",
   "metadata": {},
   "outputs": [
    {
     "data": {
      "text/plain": [
       "Discount\n",
       "0.00    28\n",
       "0.05     3\n",
       "0.10     1\n",
       "0.15     7\n",
       "0.20     3\n",
       "0.30     7\n",
       "0.35     2\n",
       "0.40     5\n",
       "0.45     3\n",
       "0.50     8\n",
       "Name: week, dtype: int64"
      ]
     },
     "execution_count": 12,
     "metadata": {},
     "output_type": "execute_result"
    },
    {
     "data": {
      "image/png": "[encoded data removed]",
      "text/plain": [
       "<Figure size 432x288 with 1 Axes>"
      ]
     },
     "metadata": {
      "needs_background": "light"
     },
     "output_type": "display_data"
    }
   ],
   "source": [
    "df_new['Discount'].value_counts().plot(kind='bar')\n",
    "df_Pantene = df_new.query(\"Product=='Pantene'\")\n",
    "df_Pantene.groupby('Discount')['week'].count()"
   ]
  },
  {
   "cell_type": "markdown",
   "id": "1da8b185",
   "metadata": {},
   "source": [
    "###### 1.What price point is most effective at maximizing sales?"
   ]
  },
  {
   "cell_type": "code",
   "execution_count": 13,
   "id": "85370ed1",
   "metadata": {},
   "outputs": [
    {
     "data": {
      "text/plain": [
       "Year                    2021\n",
       "week                      12\n",
       "Product              Pantene\n",
       "Price                   3.99\n",
       "On Flyer?                Yes\n",
       "Discount                 0.5\n",
       "Units                  58297\n",
       "Sales $            232605.03\n",
       "Gross Margin $      -6412.67\n",
       "Num_Transact           26439\n",
       "Sales/Transact        8.7978\n",
       "Margin/Transact    -0.242546\n",
       "Cost                     4.1\n",
       "Name: 11, dtype: object"
      ]
     },
     "execution_count": 13,
     "metadata": {},
     "output_type": "execute_result"
    }
   ],
   "source": [
    "df_Pantene.loc[df_Pantene['Sales $'].idxmax()]\n",
    "# 3.99 which is 50% discount of the original price is the most effective price to maximize sales"
   ]
  },
  {
   "cell_type": "code",
   "execution_count": 14,
   "id": "bcb5b6d4",
   "metadata": {},
   "outputs": [
    {
     "data": {
      "text/plain": [
       "Year                   2021\n",
       "week                     39\n",
       "Product              Aussie\n",
       "Price                  2.49\n",
       "On Flyer?               Yes\n",
       "Discount                0.5\n",
       "Units                 77200\n",
       "Sales $            192228.0\n",
       "Gross Margin $     -23932.0\n",
       "Num_Transact          22396\n",
       "Sales/Transact      8.58314\n",
       "Margin/Transact   -1.068584\n",
       "Cost                    2.8\n",
       "Name: 105, dtype: object"
      ]
     },
     "execution_count": 14,
     "metadata": {},
     "output_type": "execute_result"
    }
   ],
   "source": [
    "df_Aussie = df_new.query(\"Product=='Aussie'\")\n",
    "df_Aussie.loc[df_Aussie['Sales $'].idxmax()]\n",
    "#2.49 which is 50% discount of the original price is the most effective price to maximize sales"
   ]
  },
  {
   "cell_type": "markdown",
   "id": "6264a18a",
   "metadata": {},
   "source": [
    "###### 2.What price point is most effective at maximizing gross margin?"
   ]
  },
  {
   "cell_type": "code",
   "execution_count": 15,
   "id": "6dc68d2d",
   "metadata": {},
   "outputs": [
    {
     "data": {
      "text/plain": [
       "Product\n",
       "Aussie     28248.22\n",
       "Pantene    35631.74\n",
       "Name: Gross Margin $, dtype: float64"
      ]
     },
     "execution_count": 15,
     "metadata": {},
     "output_type": "execute_result"
    }
   ],
   "source": [
    "df_new.groupby('Product')['Gross Margin $'].max()"
   ]
  },
  {
   "cell_type": "code",
   "execution_count": 16,
   "id": "92dd7f1b",
   "metadata": {},
   "outputs": [
    {
     "data": {
      "text/plain": [
       "Year                   2021\n",
       "week                     35\n",
       "Product             Pantene\n",
       "Price                  6.79\n",
       "On Flyer?               Yes\n",
       "Discount               0.15\n",
       "Units                 13246\n",
       "Sales $            89940.34\n",
       "Gross Margin $     35631.74\n",
       "Num_Transact          12130\n",
       "Sales/Transact     7.414702\n",
       "Margin/Transact    2.937489\n",
       "Cost                    4.1\n",
       "Name: 34, dtype: object"
      ]
     },
     "execution_count": 16,
     "metadata": {},
     "output_type": "execute_result"
    }
   ],
   "source": [
    "df_Pantene.loc[df_Pantene['Gross Margin $'].idxmax()]\n",
    "# 6.79 which is 15% discount of the original price is the most effective price point to maximize gross margin"
   ]
  },
  {
   "cell_type": "code",
   "execution_count": 17,
   "id": "b6f6ffb0",
   "metadata": {},
   "outputs": [
    {
     "data": {
      "text/plain": [
       "Year                   2021\n",
       "week                     18\n",
       "Product              Aussie\n",
       "Price                  3.99\n",
       "On Flyer?               Yes\n",
       "Discount                0.2\n",
       "Units                 23738\n",
       "Sales $            94714.62\n",
       "Gross Margin $     28248.22\n",
       "Num_Transact          17558\n",
       "Sales/Transact     5.394385\n",
       "Margin/Transact    1.608852\n",
       "Cost                    2.8\n",
       "Name: 84, dtype: object"
      ]
     },
     "execution_count": 17,
     "metadata": {},
     "output_type": "execute_result"
    }
   ],
   "source": [
    "df_Aussie.loc[df_Aussie['Gross Margin $'].idxmax()]\n",
    "# 3.99 which is 20% discount of the original price is the most effective price point to maximize gross margin"
   ]
  },
  {
   "cell_type": "markdown",
   "id": "087d3ad8",
   "metadata": {},
   "source": [
    "###### 3.Is Shampoo seasonal (influenced by time of year)? Explain why or why not.\n",
    "\n",
    "in this case, num of transactions might be more appropriate to use than sales units because Shampoo has several more brands, \n",
    "not only Aussie and Pantene.\n",
    "\n",
    "step 1: convert week number into day then into month.\n",
    "    \n",
    "step 2: reasearch the correlation of discount and number of transactions and look at both trends.\n",
    "    \n",
    "If the monthly variation of number of transactions is the same with discount variation, then there is no seasonality."
   ]
  },
  {
   "cell_type": "code",
   "execution_count": 18,
   "id": "1b8616c1",
   "metadata": {},
   "outputs": [
    {
     "data": {
      "text/plain": [
       "datetime.datetime(2021, 1, 4, 0, 0)"
      ]
     },
     "execution_count": 18,
     "metadata": {},
     "output_type": "execute_result"
    }
   ],
   "source": [
    "from datetime import datetime, timedelta\n",
    "df_new['Year'][0]\n",
    "df_new['week'][0]\n",
    "date = str(df_new['Year'][0]) + '-W' + str(df_new['week'][0])\n",
    "res = datetime.strptime(date + '-1', \"%Y-W%W-%w\")\n",
    "res"
   ]
  },
  {
   "cell_type": "code",
   "execution_count": 19,
   "id": "2130bfd8",
   "metadata": {},
   "outputs": [
    {
     "data": {
      "text/html": [
       "<div>\n",
       "<style scoped>\n",
       "    .dataframe tbody tr th:only-of-type {\n",
       "        vertical-align: middle;\n",
       "    }\n",
       "\n",
       "    .dataframe tbody tr th {\n",
       "        vertical-align: top;\n",
       "    }\n",
       "\n",
       "    .dataframe thead th {\n",
       "        text-align: right;\n",
       "    }\n",
       "</style>\n",
       "<table border=\"1\" class=\"dataframe\">\n",
       "  <thead>\n",
       "    <tr style=\"text-align: right;\">\n",
       "      <th></th>\n",
       "      <th>Year</th>\n",
       "      <th>week</th>\n",
       "      <th>Product</th>\n",
       "      <th>Price</th>\n",
       "      <th>On Flyer?</th>\n",
       "      <th>Discount</th>\n",
       "      <th>Units</th>\n",
       "      <th>Sales $</th>\n",
       "      <th>Gross Margin $</th>\n",
       "      <th>Num_Transact</th>\n",
       "      <th>Sales/Transact</th>\n",
       "      <th>Margin/Transact</th>\n",
       "      <th>Cost</th>\n",
       "      <th>Period</th>\n",
       "    </tr>\n",
       "  </thead>\n",
       "  <tbody>\n",
       "    <tr>\n",
       "      <th>0</th>\n",
       "      <td>2021</td>\n",
       "      <td>1</td>\n",
       "      <td>Pantene</td>\n",
       "      <td>7.99</td>\n",
       "      <td>No</td>\n",
       "      <td>0.00</td>\n",
       "      <td>8630</td>\n",
       "      <td>68953.70</td>\n",
       "      <td>33570.70</td>\n",
       "      <td>8460</td>\n",
       "      <td>8.150556</td>\n",
       "      <td>3.968168</td>\n",
       "      <td>4.1</td>\n",
       "      <td>2021-01-04</td>\n",
       "    </tr>\n",
       "    <tr>\n",
       "      <th>1</th>\n",
       "      <td>2021</td>\n",
       "      <td>2</td>\n",
       "      <td>Pantene</td>\n",
       "      <td>7.29</td>\n",
       "      <td>Yes</td>\n",
       "      <td>0.10</td>\n",
       "      <td>10183</td>\n",
       "      <td>74234.07</td>\n",
       "      <td>32483.77</td>\n",
       "      <td>9983</td>\n",
       "      <td>7.436048</td>\n",
       "      <td>3.253909</td>\n",
       "      <td>4.1</td>\n",
       "      <td>2021-01-11</td>\n",
       "    </tr>\n",
       "    <tr>\n",
       "      <th>2</th>\n",
       "      <td>2021</td>\n",
       "      <td>3</td>\n",
       "      <td>Pantene</td>\n",
       "      <td>5.49</td>\n",
       "      <td>Yes</td>\n",
       "      <td>0.30</td>\n",
       "      <td>21568</td>\n",
       "      <td>118408.32</td>\n",
       "      <td>29979.52</td>\n",
       "      <td>17117</td>\n",
       "      <td>6.917586</td>\n",
       "      <td>1.751447</td>\n",
       "      <td>4.1</td>\n",
       "      <td>2021-01-18</td>\n",
       "    </tr>\n",
       "    <tr>\n",
       "      <th>3</th>\n",
       "      <td>2021</td>\n",
       "      <td>4</td>\n",
       "      <td>Pantene</td>\n",
       "      <td>7.49</td>\n",
       "      <td>Yes</td>\n",
       "      <td>0.05</td>\n",
       "      <td>9309</td>\n",
       "      <td>69724.41</td>\n",
       "      <td>31557.51</td>\n",
       "      <td>9038</td>\n",
       "      <td>7.714584</td>\n",
       "      <td>3.491647</td>\n",
       "      <td>4.1</td>\n",
       "      <td>2021-01-25</td>\n",
       "    </tr>\n",
       "    <tr>\n",
       "      <th>4</th>\n",
       "      <td>2021</td>\n",
       "      <td>5</td>\n",
       "      <td>Pantene</td>\n",
       "      <td>7.99</td>\n",
       "      <td>No</td>\n",
       "      <td>0.00</td>\n",
       "      <td>8462</td>\n",
       "      <td>67611.38</td>\n",
       "      <td>32917.18</td>\n",
       "      <td>8379</td>\n",
       "      <td>8.069147</td>\n",
       "      <td>3.928533</td>\n",
       "      <td>4.1</td>\n",
       "      <td>2021-02-01</td>\n",
       "    </tr>\n",
       "  </tbody>\n",
       "</table>\n",
       "</div>"
      ],
      "text/plain": [
       "   Year  week  Product  Price On Flyer?  Discount  Units    Sales $  \\\n",
       "0  2021     1  Pantene   7.99        No      0.00   8630   68953.70   \n",
       "1  2021     2  Pantene   7.29       Yes      0.10  10183   74234.07   \n",
       "2  2021     3  Pantene   5.49       Yes      0.30  21568  118408.32   \n",
       "3  2021     4  Pantene   7.49       Yes      0.05   9309   69724.41   \n",
       "4  2021     5  Pantene   7.99        No      0.00   8462   67611.38   \n",
       "\n",
       "   Gross Margin $  Num_Transact  Sales/Transact  Margin/Transact  Cost  \\\n",
       "0        33570.70          8460        8.150556         3.968168   4.1   \n",
       "1        32483.77          9983        7.436048         3.253909   4.1   \n",
       "2        29979.52         17117        6.917586         1.751447   4.1   \n",
       "3        31557.51          9038        7.714584         3.491647   4.1   \n",
       "4        32917.18          8379        8.069147         3.928533   4.1   \n",
       "\n",
       "      Period  \n",
       "0 2021-01-04  \n",
       "1 2021-01-11  \n",
       "2 2021-01-18  \n",
       "3 2021-01-25  \n",
       "4 2021-02-01  "
      ]
     },
     "execution_count": 19,
     "metadata": {},
     "output_type": "execute_result"
    }
   ],
   "source": [
    "total_num = len(df_new['Year']) \n",
    "period = []\n",
    "for i in range(total_num):\n",
    "    df_new['Year'][i]\n",
    "    df_new['week'][i]\n",
    "    date = str(df_new['Year'][i]) + '-W' + str(df_new['week'][i])\n",
    "    res = datetime.strptime(date + '-1', \"%Y-W%W-%w\")\n",
    "    period.append(str(res))\n",
    "\n",
    "df_new['Period'] = period\n",
    "df_new['Period'] = df_new['Period'].apply(pd.to_datetime)\n",
    "df_new.head()"
   ]
  },
  {
   "cell_type": "code",
   "execution_count": 20,
   "id": "238c228e",
   "metadata": {},
   "outputs": [],
   "source": [
    "from datetime import datetime\n",
    "import datetime as dt\n",
    "from datetime import date\n",
    "def monthly(x):\n",
    "    return dt.datetime(x.year,x.month, 1)"
   ]
  },
  {
   "cell_type": "code",
   "execution_count": 21,
   "id": "7b8a8727",
   "metadata": {},
   "outputs": [
    {
     "data": {
      "text/html": [
       "<div>\n",
       "<style scoped>\n",
       "    .dataframe tbody tr th:only-of-type {\n",
       "        vertical-align: middle;\n",
       "    }\n",
       "\n",
       "    .dataframe tbody tr th {\n",
       "        vertical-align: top;\n",
       "    }\n",
       "\n",
       "    .dataframe thead th {\n",
       "        text-align: right;\n",
       "    }\n",
       "</style>\n",
       "<table border=\"1\" class=\"dataframe\">\n",
       "  <thead>\n",
       "    <tr style=\"text-align: right;\">\n",
       "      <th></th>\n",
       "      <th>Year</th>\n",
       "      <th>week</th>\n",
       "      <th>Product</th>\n",
       "      <th>Price</th>\n",
       "      <th>On Flyer?</th>\n",
       "      <th>Discount</th>\n",
       "      <th>Units</th>\n",
       "      <th>Sales $</th>\n",
       "      <th>Gross Margin $</th>\n",
       "      <th>Num_Transact</th>\n",
       "      <th>Sales/Transact</th>\n",
       "      <th>Margin/Transact</th>\n",
       "      <th>Cost</th>\n",
       "      <th>Period</th>\n",
       "      <th>Month</th>\n",
       "    </tr>\n",
       "  </thead>\n",
       "  <tbody>\n",
       "    <tr>\n",
       "      <th>0</th>\n",
       "      <td>2021</td>\n",
       "      <td>1</td>\n",
       "      <td>Pantene</td>\n",
       "      <td>7.99</td>\n",
       "      <td>No</td>\n",
       "      <td>0.00</td>\n",
       "      <td>8630</td>\n",
       "      <td>68953.70</td>\n",
       "      <td>33570.70</td>\n",
       "      <td>8460</td>\n",
       "      <td>8.150556</td>\n",
       "      <td>3.968168</td>\n",
       "      <td>4.1</td>\n",
       "      <td>2021-01-04</td>\n",
       "      <td>2021-01-01</td>\n",
       "    </tr>\n",
       "    <tr>\n",
       "      <th>1</th>\n",
       "      <td>2021</td>\n",
       "      <td>2</td>\n",
       "      <td>Pantene</td>\n",
       "      <td>7.29</td>\n",
       "      <td>Yes</td>\n",
       "      <td>0.10</td>\n",
       "      <td>10183</td>\n",
       "      <td>74234.07</td>\n",
       "      <td>32483.77</td>\n",
       "      <td>9983</td>\n",
       "      <td>7.436048</td>\n",
       "      <td>3.253909</td>\n",
       "      <td>4.1</td>\n",
       "      <td>2021-01-11</td>\n",
       "      <td>2021-01-01</td>\n",
       "    </tr>\n",
       "    <tr>\n",
       "      <th>2</th>\n",
       "      <td>2021</td>\n",
       "      <td>3</td>\n",
       "      <td>Pantene</td>\n",
       "      <td>5.49</td>\n",
       "      <td>Yes</td>\n",
       "      <td>0.30</td>\n",
       "      <td>21568</td>\n",
       "      <td>118408.32</td>\n",
       "      <td>29979.52</td>\n",
       "      <td>17117</td>\n",
       "      <td>6.917586</td>\n",
       "      <td>1.751447</td>\n",
       "      <td>4.1</td>\n",
       "      <td>2021-01-18</td>\n",
       "      <td>2021-01-01</td>\n",
       "    </tr>\n",
       "    <tr>\n",
       "      <th>3</th>\n",
       "      <td>2021</td>\n",
       "      <td>4</td>\n",
       "      <td>Pantene</td>\n",
       "      <td>7.49</td>\n",
       "      <td>Yes</td>\n",
       "      <td>0.05</td>\n",
       "      <td>9309</td>\n",
       "      <td>69724.41</td>\n",
       "      <td>31557.51</td>\n",
       "      <td>9038</td>\n",
       "      <td>7.714584</td>\n",
       "      <td>3.491647</td>\n",
       "      <td>4.1</td>\n",
       "      <td>2021-01-25</td>\n",
       "      <td>2021-01-01</td>\n",
       "    </tr>\n",
       "    <tr>\n",
       "      <th>4</th>\n",
       "      <td>2021</td>\n",
       "      <td>5</td>\n",
       "      <td>Pantene</td>\n",
       "      <td>7.99</td>\n",
       "      <td>No</td>\n",
       "      <td>0.00</td>\n",
       "      <td>8462</td>\n",
       "      <td>67611.38</td>\n",
       "      <td>32917.18</td>\n",
       "      <td>8379</td>\n",
       "      <td>8.069147</td>\n",
       "      <td>3.928533</td>\n",
       "      <td>4.1</td>\n",
       "      <td>2021-02-01</td>\n",
       "      <td>2021-02-01</td>\n",
       "    </tr>\n",
       "  </tbody>\n",
       "</table>\n",
       "</div>"
      ],
      "text/plain": [
       "   Year  week  Product  Price On Flyer?  Discount  Units    Sales $  \\\n",
       "0  2021     1  Pantene   7.99        No      0.00   8630   68953.70   \n",
       "1  2021     2  Pantene   7.29       Yes      0.10  10183   74234.07   \n",
       "2  2021     3  Pantene   5.49       Yes      0.30  21568  118408.32   \n",
       "3  2021     4  Pantene   7.49       Yes      0.05   9309   69724.41   \n",
       "4  2021     5  Pantene   7.99        No      0.00   8462   67611.38   \n",
       "\n",
       "   Gross Margin $  Num_Transact  Sales/Transact  Margin/Transact  Cost  \\\n",
       "0        33570.70          8460        8.150556         3.968168   4.1   \n",
       "1        32483.77          9983        7.436048         3.253909   4.1   \n",
       "2        29979.52         17117        6.917586         1.751447   4.1   \n",
       "3        31557.51          9038        7.714584         3.491647   4.1   \n",
       "4        32917.18          8379        8.069147         3.928533   4.1   \n",
       "\n",
       "      Period      Month  \n",
       "0 2021-01-04 2021-01-01  \n",
       "1 2021-01-11 2021-01-01  \n",
       "2 2021-01-18 2021-01-01  \n",
       "3 2021-01-25 2021-01-01  \n",
       "4 2021-02-01 2021-02-01  "
      ]
     },
     "execution_count": 21,
     "metadata": {},
     "output_type": "execute_result"
    }
   ],
   "source": [
    "df_new['Month']= df_new['Period'].apply(monthly)\n",
    "df_new.head()"
   ]
  },
  {
   "cell_type": "code",
   "execution_count": 22,
   "id": "21d98a79",
   "metadata": {},
   "outputs": [
    {
     "data": {
      "text/html": [
       "<div>\n",
       "<style scoped>\n",
       "    .dataframe tbody tr th:only-of-type {\n",
       "        vertical-align: middle;\n",
       "    }\n",
       "\n",
       "    .dataframe tbody tr th {\n",
       "        vertical-align: top;\n",
       "    }\n",
       "\n",
       "    .dataframe thead th {\n",
       "        text-align: right;\n",
       "    }\n",
       "</style>\n",
       "<table border=\"1\" class=\"dataframe\">\n",
       "  <thead>\n",
       "    <tr style=\"text-align: right;\">\n",
       "      <th></th>\n",
       "      <th>Num_Transact</th>\n",
       "      <th>Discount</th>\n",
       "    </tr>\n",
       "    <tr>\n",
       "      <th>Month</th>\n",
       "      <th></th>\n",
       "      <th></th>\n",
       "    </tr>\n",
       "  </thead>\n",
       "  <tbody>\n",
       "    <tr>\n",
       "      <th>2021-01-01</th>\n",
       "      <td>13192.000</td>\n",
       "      <td>0.13125</td>\n",
       "    </tr>\n",
       "    <tr>\n",
       "      <th>2021-02-01</th>\n",
       "      <td>14411.125</td>\n",
       "      <td>0.16250</td>\n",
       "    </tr>\n",
       "    <tr>\n",
       "      <th>2021-03-01</th>\n",
       "      <td>15849.400</td>\n",
       "      <td>0.19500</td>\n",
       "    </tr>\n",
       "    <tr>\n",
       "      <th>2021-04-01</th>\n",
       "      <td>12949.875</td>\n",
       "      <td>0.11250</td>\n",
       "    </tr>\n",
       "    <tr>\n",
       "      <th>2021-05-01</th>\n",
       "      <td>15945.800</td>\n",
       "      <td>0.21000</td>\n",
       "    </tr>\n",
       "    <tr>\n",
       "      <th>2021-06-01</th>\n",
       "      <td>15573.500</td>\n",
       "      <td>0.19375</td>\n",
       "    </tr>\n",
       "    <tr>\n",
       "      <th>2021-07-01</th>\n",
       "      <td>14534.250</td>\n",
       "      <td>0.17500</td>\n",
       "    </tr>\n",
       "    <tr>\n",
       "      <th>2021-08-01</th>\n",
       "      <td>15299.800</td>\n",
       "      <td>0.19500</td>\n",
       "    </tr>\n",
       "    <tr>\n",
       "      <th>2021-09-01</th>\n",
       "      <td>12841.875</td>\n",
       "      <td>0.13125</td>\n",
       "    </tr>\n",
       "    <tr>\n",
       "      <th>2021-10-01</th>\n",
       "      <td>15674.500</td>\n",
       "      <td>0.18750</td>\n",
       "    </tr>\n",
       "    <tr>\n",
       "      <th>2021-11-01</th>\n",
       "      <td>15782.500</td>\n",
       "      <td>0.20500</td>\n",
       "    </tr>\n",
       "    <tr>\n",
       "      <th>2021-12-01</th>\n",
       "      <td>16543.125</td>\n",
       "      <td>0.23125</td>\n",
       "    </tr>\n",
       "    <tr>\n",
       "      <th>2022-01-01</th>\n",
       "      <td>13265.100</td>\n",
       "      <td>0.15000</td>\n",
       "    </tr>\n",
       "    <tr>\n",
       "      <th>2022-02-01</th>\n",
       "      <td>14811.250</td>\n",
       "      <td>0.16875</td>\n",
       "    </tr>\n",
       "    <tr>\n",
       "      <th>2022-03-01</th>\n",
       "      <td>12069.375</td>\n",
       "      <td>0.09375</td>\n",
       "    </tr>\n",
       "    <tr>\n",
       "      <th>2022-04-01</th>\n",
       "      <td>11129.000</td>\n",
       "      <td>0.08750</td>\n",
       "    </tr>\n",
       "  </tbody>\n",
       "</table>\n",
       "</div>"
      ],
      "text/plain": [
       "            Num_Transact  Discount\n",
       "Month                             \n",
       "2021-01-01     13192.000   0.13125\n",
       "2021-02-01     14411.125   0.16250\n",
       "2021-03-01     15849.400   0.19500\n",
       "2021-04-01     12949.875   0.11250\n",
       "2021-05-01     15945.800   0.21000\n",
       "2021-06-01     15573.500   0.19375\n",
       "2021-07-01     14534.250   0.17500\n",
       "2021-08-01     15299.800   0.19500\n",
       "2021-09-01     12841.875   0.13125\n",
       "2021-10-01     15674.500   0.18750\n",
       "2021-11-01     15782.500   0.20500\n",
       "2021-12-01     16543.125   0.23125\n",
       "2022-01-01     13265.100   0.15000\n",
       "2022-02-01     14811.250   0.16875\n",
       "2022-03-01     12069.375   0.09375\n",
       "2022-04-01     11129.000   0.08750"
      ]
     },
     "execution_count": 22,
     "metadata": {},
     "output_type": "execute_result"
    }
   ],
   "source": [
    "df_new_sales_trend_mon = df_new.groupby('Month').agg({'Num_Transact':'mean','Discount':'mean'})\n",
    "df_new_sales_trend_mon"
   ]
  },
  {
   "cell_type": "code",
   "execution_count": 23,
   "id": "dd0704f0",
   "metadata": {},
   "outputs": [
    {
     "data": {
      "text/plain": [
       "16"
      ]
     },
     "execution_count": 23,
     "metadata": {},
     "output_type": "execute_result"
    }
   ],
   "source": [
    "len(df_new_sales_trend_mon['Num_Transact'])\n",
    "# only 16 numbers would not be able to decompose seasonality. required 24 observations minimum"
   ]
  },
  {
   "cell_type": "code",
   "execution_count": 24,
   "id": "c084d8f2",
   "metadata": {},
   "outputs": [
    {
     "data": {
      "image/png": "[encoded data removed]",
      "text/plain": [
       "<Figure size 720x360 with 2 Axes>"
      ]
     },
     "metadata": {
      "needs_background": "light"
     },
     "output_type": "display_data"
    }
   ],
   "source": [
    "df_new_sales_trend_mon.corr()\n",
    "corrMatrix = df_new_sales_trend_mon.corr()\n",
    "plt.figure(figsize = (10,5))\n",
    "ax=(sns.heatmap(corrMatrix, annot=True))\n",
    "plt.show()\n",
    "# The number of transactions and discount are strongly correlated"
   ]
  },
  {
   "cell_type": "code",
   "execution_count": 25,
   "id": "adae33bf",
   "metadata": {},
   "outputs": [
    {
     "data": {
      "image/png": "[encoded data removed]",
      "text/plain": [
       "<Figure size 1440x360 with 1 Axes>"
      ]
     },
     "metadata": {
      "needs_background": "light"
     },
     "output_type": "display_data"
    }
   ],
   "source": [
    "# no seasonality detected. continuous sales\n",
    "df_new_sales_trend_period = pd.DataFrame(df_new.groupby('Period')['Num_Transact'].sum())\n",
    "plt.figure(figsize=(20,5))\n",
    "sns.lineplot(x = df_new_sales_trend_period.index, y = df_new_sales_trend_period['Num_Transact'])\n",
    "plt.title(\"Number of transactions per day\",fontsize = 16)\n",
    "plt.show()"
   ]
  },
  {
   "cell_type": "code",
   "execution_count": 26,
   "id": "318057ec",
   "metadata": {},
   "outputs": [
    {
     "data": {
      "image/png": "[encoded data removed]",
      "text/plain": [
       "<Figure size 1440x360 with 1 Axes>"
      ]
     },
     "metadata": {
      "needs_background": "light"
     },
     "output_type": "display_data"
    }
   ],
   "source": [
    "import matplotlib.pyplot as plt \n",
    "import seaborn as sns\n",
    "plt.figure(figsize=(20,5))\n",
    "sns.lineplot(x = df_new_sales_trend_mon.index, y = df_new_sales_trend_mon['Discount'])\n",
    "plt.title(\"Average discount per month\",fontsize = 16)\n",
    "plt.show()"
   ]
  },
  {
   "cell_type": "code",
   "execution_count": 27,
   "id": "af048610",
   "metadata": {},
   "outputs": [
    {
     "data": {
      "image/png": "[encoded data removed]",
      "text/plain": [
       "<Figure size 1440x360 with 1 Axes>"
      ]
     },
     "metadata": {
      "needs_background": "light"
     },
     "output_type": "display_data"
    }
   ],
   "source": [
    "plt.figure(figsize=(20,5))\n",
    "sns.lineplot(x = df_new_sales_trend_mon.index, y = df_new_sales_trend_mon['Num_Transact'])\n",
    "plt.title(\"Average Number of Transactions per month\",fontsize = 16)\n",
    "plt.show()"
   ]
  },
  {
   "cell_type": "code",
   "execution_count": 108,
   "id": "b3293186",
   "metadata": {},
   "outputs": [],
   "source": [
    "df_new_sales_transac_mon = df_new_sales_trend_mon.drop(['Discount'],axis=1)"
   ]
  },
  {
   "cell_type": "code",
   "execution_count": 29,
   "id": "0f7a7171",
   "metadata": {},
   "outputs": [
    {
     "data": {
      "text/plain": [
       "(-1.3554034757303726,\n",
       " 0.6034598496663112,\n",
       " 5,\n",
       " 10,\n",
       " {'1%': -4.331573, '5%': -3.23295, '10%': -2.7487},\n",
       " 161.227029137431)"
      ]
     },
     "execution_count": 29,
     "metadata": {},
     "output_type": "execute_result"
    }
   ],
   "source": [
    "from statsmodels.tsa.stattools import adfuller\n",
    "dftest = adfuller(df_new_sales_transac_mon, autolag='AIC')\n",
    "dftest"
   ]
  },
  {
   "cell_type": "code",
   "execution_count": 110,
   "id": "b1ead2d8",
   "metadata": {},
   "outputs": [
    {
     "name": "stdout",
     "output_type": "stream",
     "text": [
      "Results of Dickey-Fuller Test:\n",
      "Test Statistic                 -1.355403\n",
      "p-value                         0.603460\n",
      "#Lags Used                      5.000000\n",
      "Number of Observations Used    10.000000\n",
      "Critical Value (1%)            -4.331573\n",
      "Critical Value (5%)            -3.232950\n",
      "Critical Value (10%)           -2.748700\n",
      "dtype: float64\n"
     ]
    }
   ],
   "source": [
    "from statsmodels.tsa.stattools import adfuller\n",
    "print ('Results of Dickey-Fuller Test:')\n",
    "dftest = adfuller(df_new_sales_transac_mon, autolag='AIC')\n",
    "dfoutput = pd.Series(dftest[0:4], index=['Test Statistic','p-value','#Lags Used','Number of Observations Used'])\n",
    "\n",
    "for key,value in dftest[4].items():\n",
    "    dfoutput['Critical Value (%s)'%key] = value\n",
    "print (dfoutput)"
   ]
  },
  {
   "cell_type": "markdown",
   "id": "ad599b1d",
   "metadata": {},
   "source": [
    "Since the p-value is not less than .05, we fail to reject the null hypothesis.\n",
    "\n",
    "This means the time series is non-stationary.\n",
    "\n",
    "In other words, it has some time-dependent structure and does not have constant variance over time."
   ]
  },
  {
   "cell_type": "markdown",
   "id": "e4b6d62e",
   "metadata": {},
   "source": [
    "###### Conclusion: the number of transactions decreases or increases in the same trend as discount rate.\n",
    "\n",
    "The seasonality is strongly linked to discount. It's a continuous sales depending on discount rate.\n",
    "\n",
    "if we say shampoo has seasonality then the seasonality is invoked by promotion events.\n",
    "\n",
    "if we disregard the discount factor then shampoo sales has no seasonality."
   ]
  },
  {
   "cell_type": "markdown",
   "id": "777e237b",
   "metadata": {},
   "source": [
    "###### 4.What is the cost per unit of each product?"
   ]
  },
  {
   "cell_type": "code",
   "execution_count": 31,
   "id": "973f9123",
   "metadata": {},
   "outputs": [
    {
     "data": {
      "text/plain": [
       "Product\n",
       "Aussie     2.798734\n",
       "Pantene    4.100000\n",
       "Name: Cost, dtype: float64"
      ]
     },
     "execution_count": 31,
     "metadata": {},
     "output_type": "execute_result"
    }
   ],
   "source": [
    "pantene_cost = df_Pantene['Cost'][0]\n",
    "df_new.groupby('Product')['Cost'].mean()\n",
    "# Cost of Aussie is $2.8 each\n",
    "# Cost of Pantene is $4.1 each"
   ]
  },
  {
   "cell_type": "code",
   "execution_count": 32,
   "id": "a2993df5",
   "metadata": {},
   "outputs": [
    {
     "name": "stdout",
     "output_type": "stream",
     "text": [
      "Cost of Aussie is:  2.7987341535084607\n",
      "Cost of Pantene is:  4.1\n"
     ]
    }
   ],
   "source": [
    "Aussie_cost = df_new.groupby('Product')['Cost'].mean().values[0]\n",
    "print('Cost of Aussie is: ',Aussie_cost)\n",
    "Pantene_cost = df_new.groupby('Product')['Cost'].mean().values[1]\n",
    "print('Cost of Pantene is: ',Pantene_cost)"
   ]
  },
  {
   "cell_type": "code",
   "execution_count": 33,
   "id": "34ebe827",
   "metadata": {},
   "outputs": [
    {
     "name": "stdout",
     "output_type": "stream",
     "text": [
      "Pantene_margin is 3.8900000000000032:\n"
     ]
    }
   ],
   "source": [
    "Pantene_orginal_price = df_Pantene.query(\"Discount==0\")['Price'].mean()\n",
    "Pantene_margin = Pantene_orginal_price - pantene_cost \n",
    "print('Pantene_margin is {}:'.format(Pantene_margin))"
   ]
  },
  {
   "cell_type": "code",
   "execution_count": 34,
   "id": "3a7ded4b",
   "metadata": {},
   "outputs": [
    {
     "name": "stdout",
     "output_type": "stream",
     "text": [
      "Aussie_margin is 2.1912658464915364:\n"
     ]
    }
   ],
   "source": [
    "Aussie_orignal_price = df_Aussie.query(\"Discount==0\")['Price'].mean()\n",
    "Aussie_cost = df_Aussie['Cost'].mean()\n",
    "Aussie_margin = Aussie_orignal_price - Aussie_cost\n",
    "print('Aussie_margin is {}:'.format(Aussie_margin))"
   ]
  },
  {
   "cell_type": "markdown",
   "id": "824d355b",
   "metadata": {},
   "source": [
    "###### 5.How would Pantene perform for units, sales and margin with a 25% discount?¶\n",
    "###### 6.How would Pantene perform for units, sales and margin with a 60% discount?\n",
    "\n",
    "\n",
    "Step1: calculate profit % = profit/sales = (price – cost)/price at 25% discount and at 60% discount\n",
    "Pantene price = 7.99, cost = 4.1, profit = 3.89\n",
    "The profit rate at 25% is 32%. The profit rate at 60% is -28%\n",
    "\n",
    "Step2 - Linear Regression approach to calculate 25% and 60% units, sales and margin\n",
    "\n",
    "- Use linear regression to project number of transactions based on discount rate,\n",
    "  since correlation 0.98 between discount and number of transactions.\n",
    "    \n",
    "- Use the closet sales/transaction to get sales per transaction at 25% and 60%\n",
    "\n",
    "- sales = sales per transactions x number of transactions\n",
    "\n",
    "- units = sales/price\n",
    "\n",
    "- use profit rate to calculate gross margin based on sales dollar\n"
   ]
  },
  {
   "cell_type": "code",
   "execution_count": 35,
   "id": "4ba256fc",
   "metadata": {},
   "outputs": [
    {
     "name": "stdout",
     "output_type": "stream",
     "text": [
      "Pantene profit divided by sales at 25% discount is 0.3158114309553612:\n"
     ]
    }
   ],
   "source": [
    "pantene_25_price = Pantene_orginal_price*(1-0.25)\n",
    "pantene_25_profit_percentage = (pantene_25_price-pantene_cost)/pantene_25_price\n",
    "print('Pantene profit divided by sales at 25% discount is {}:'.format(pantene_25_profit_percentage))"
   ]
  },
  {
   "cell_type": "code",
   "execution_count": 36,
   "id": "476686a9",
   "metadata": {},
   "outputs": [
    {
     "name": "stdout",
     "output_type": "stream",
     "text": [
      "Pantene profit divided by sales at 60% discount is -0.2828535669586977:\n"
     ]
    }
   ],
   "source": [
    "pantene_60_price = Pantene_orginal_price*(1-0.6)\n",
    "pantene_60_profit_percentage = (pantene_60_price-pantene_cost)/pantene_60_price\n",
    "print('Pantene profit divided by sales at 60% discount is {}:'.format(pantene_60_profit_percentage))"
   ]
  },
  {
   "cell_type": "code",
   "execution_count": 37,
   "id": "3623d725",
   "metadata": {},
   "outputs": [],
   "source": [
    "df_Pantene_mon = df_new.query(\"Product == 'Pantene'\")"
   ]
  },
  {
   "cell_type": "code",
   "execution_count": 38,
   "id": "0f99a4ae",
   "metadata": {},
   "outputs": [
    {
     "name": "stderr",
     "output_type": "stream",
     "text": [
      "C:\\Users\\nim\\AppData\\Local\\Temp/ipykernel_17544/616198269.py:1: FutureWarning: Indexing with multiple keys (implicitly converted to a tuple of keys) will be deprecated, use a list instead.\n",
      "  df_Pantene_mon1 = df_Pantene_mon.groupby('Month')['Discount','Units','Sales $','Gross Margin $','Num_Transact','Sales/Transact'].mean()\n"
     ]
    },
    {
     "data": {
      "text/html": [
       "<div>\n",
       "<style scoped>\n",
       "    .dataframe tbody tr th:only-of-type {\n",
       "        vertical-align: middle;\n",
       "    }\n",
       "\n",
       "    .dataframe tbody tr th {\n",
       "        vertical-align: top;\n",
       "    }\n",
       "\n",
       "    .dataframe thead th {\n",
       "        text-align: right;\n",
       "    }\n",
       "</style>\n",
       "<table border=\"1\" class=\"dataframe\">\n",
       "  <thead>\n",
       "    <tr style=\"text-align: right;\">\n",
       "      <th></th>\n",
       "      <th>Discount</th>\n",
       "      <th>Units</th>\n",
       "      <th>Sales $</th>\n",
       "      <th>Gross Margin $</th>\n",
       "      <th>Num_Transact</th>\n",
       "      <th>Sales/Transact</th>\n",
       "    </tr>\n",
       "  </thead>\n",
       "  <tbody>\n",
       "    <tr>\n",
       "      <th>Discount</th>\n",
       "      <td>1.000000</td>\n",
       "      <td>0.754514</td>\n",
       "      <td>0.808107</td>\n",
       "      <td>-0.445379</td>\n",
       "      <td>0.920812</td>\n",
       "      <td>-0.287596</td>\n",
       "    </tr>\n",
       "    <tr>\n",
       "      <th>Units</th>\n",
       "      <td>0.754514</td>\n",
       "      <td>1.000000</td>\n",
       "      <td>0.990421</td>\n",
       "      <td>-0.873982</td>\n",
       "      <td>0.891440</td>\n",
       "      <td>0.393488</td>\n",
       "    </tr>\n",
       "    <tr>\n",
       "      <th>Sales $</th>\n",
       "      <td>0.808107</td>\n",
       "      <td>0.990421</td>\n",
       "      <td>1.000000</td>\n",
       "      <td>-0.798510</td>\n",
       "      <td>0.939517</td>\n",
       "      <td>0.299534</td>\n",
       "    </tr>\n",
       "    <tr>\n",
       "      <th>Gross Margin $</th>\n",
       "      <td>-0.445379</td>\n",
       "      <td>-0.873982</td>\n",
       "      <td>-0.798510</td>\n",
       "      <td>1.000000</td>\n",
       "      <td>-0.579848</td>\n",
       "      <td>-0.661303</td>\n",
       "    </tr>\n",
       "    <tr>\n",
       "      <th>Num_Transact</th>\n",
       "      <td>0.920812</td>\n",
       "      <td>0.891440</td>\n",
       "      <td>0.939517</td>\n",
       "      <td>-0.579848</td>\n",
       "      <td>1.000000</td>\n",
       "      <td>-0.024856</td>\n",
       "    </tr>\n",
       "    <tr>\n",
       "      <th>Sales/Transact</th>\n",
       "      <td>-0.287596</td>\n",
       "      <td>0.393488</td>\n",
       "      <td>0.299534</td>\n",
       "      <td>-0.661303</td>\n",
       "      <td>-0.024856</td>\n",
       "      <td>1.000000</td>\n",
       "    </tr>\n",
       "  </tbody>\n",
       "</table>\n",
       "</div>"
      ],
      "text/plain": [
       "                Discount     Units   Sales $  Gross Margin $  Num_Transact  \\\n",
       "Discount        1.000000  0.754514  0.808107       -0.445379      0.920812   \n",
       "Units           0.754514  1.000000  0.990421       -0.873982      0.891440   \n",
       "Sales $         0.808107  0.990421  1.000000       -0.798510      0.939517   \n",
       "Gross Margin $ -0.445379 -0.873982 -0.798510        1.000000     -0.579848   \n",
       "Num_Transact    0.920812  0.891440  0.939517       -0.579848      1.000000   \n",
       "Sales/Transact -0.287596  0.393488  0.299534       -0.661303     -0.024856   \n",
       "\n",
       "                Sales/Transact  \n",
       "Discount             -0.287596  \n",
       "Units                 0.393488  \n",
       "Sales $               0.299534  \n",
       "Gross Margin $       -0.661303  \n",
       "Num_Transact         -0.024856  \n",
       "Sales/Transact        1.000000  "
      ]
     },
     "execution_count": 38,
     "metadata": {},
     "output_type": "execute_result"
    }
   ],
   "source": [
    "df_Pantene_mon1 = df_Pantene_mon.groupby('Month')['Discount','Units','Sales $','Gross Margin $','Num_Transact','Sales/Transact'].mean()\n",
    "df_Pantene_mon1.corr()\n",
    "# Sales and Units are strongly correlated\n",
    "# Sales and Num of transactions are strongly correlated"
   ]
  },
  {
   "cell_type": "code",
   "execution_count": 39,
   "id": "89efc358",
   "metadata": {},
   "outputs": [
    {
     "name": "stderr",
     "output_type": "stream",
     "text": [
      "C:\\Users\\nim\\AppData\\Local\\Temp/ipykernel_17544/1613724445.py:1: FutureWarning: Indexing with multiple keys (implicitly converted to a tuple of keys) will be deprecated, use a list instead.\n",
      "  df_Pantene_unit_sales_margin_0 = df_Pantene.groupby('Discount')['Units','Sales $','Gross Margin $','Num_Transact','Sales/Transact'].mean()\n"
     ]
    },
    {
     "data": {
      "text/html": [
       "<div>\n",
       "<style scoped>\n",
       "    .dataframe tbody tr th:only-of-type {\n",
       "        vertical-align: middle;\n",
       "    }\n",
       "\n",
       "    .dataframe tbody tr th {\n",
       "        vertical-align: top;\n",
       "    }\n",
       "\n",
       "    .dataframe thead th {\n",
       "        text-align: right;\n",
       "    }\n",
       "</style>\n",
       "<table border=\"1\" class=\"dataframe\">\n",
       "  <thead>\n",
       "    <tr style=\"text-align: right;\">\n",
       "      <th></th>\n",
       "      <th>Discount</th>\n",
       "      <th>Units</th>\n",
       "      <th>Sales $</th>\n",
       "      <th>Gross Margin $</th>\n",
       "      <th>Num_Transact</th>\n",
       "      <th>Sales/Transact</th>\n",
       "    </tr>\n",
       "  </thead>\n",
       "  <tbody>\n",
       "    <tr>\n",
       "      <th>0</th>\n",
       "      <td>0.00</td>\n",
       "      <td>8636.214286</td>\n",
       "      <td>69003.352143</td>\n",
       "      <td>33594.873571</td>\n",
       "      <td>8396.392857</td>\n",
       "      <td>8.218387</td>\n",
       "    </tr>\n",
       "    <tr>\n",
       "      <th>1</th>\n",
       "      <td>0.05</td>\n",
       "      <td>9371.000000</td>\n",
       "      <td>70188.790000</td>\n",
       "      <td>31767.690000</td>\n",
       "      <td>9127.333333</td>\n",
       "      <td>7.689710</td>\n",
       "    </tr>\n",
       "    <tr>\n",
       "      <th>2</th>\n",
       "      <td>0.10</td>\n",
       "      <td>10183.000000</td>\n",
       "      <td>74234.070000</td>\n",
       "      <td>32483.770000</td>\n",
       "      <td>9983.000000</td>\n",
       "      <td>7.436048</td>\n",
       "    </tr>\n",
       "    <tr>\n",
       "      <th>3</th>\n",
       "      <td>0.15</td>\n",
       "      <td>12882.571429</td>\n",
       "      <td>87472.660000</td>\n",
       "      <td>34654.117143</td>\n",
       "      <td>11833.428571</td>\n",
       "      <td>7.394484</td>\n",
       "    </tr>\n",
       "    <tr>\n",
       "      <th>4</th>\n",
       "      <td>0.20</td>\n",
       "      <td>14238.666667</td>\n",
       "      <td>92408.946667</td>\n",
       "      <td>34030.413333</td>\n",
       "      <td>12609.666667</td>\n",
       "      <td>7.329036</td>\n",
       "    </tr>\n",
       "    <tr>\n",
       "      <th>5</th>\n",
       "      <td>0.30</td>\n",
       "      <td>20619.428571</td>\n",
       "      <td>113200.662857</td>\n",
       "      <td>28661.005714</td>\n",
       "      <td>16590.571429</td>\n",
       "      <td>6.823363</td>\n",
       "    </tr>\n",
       "    <tr>\n",
       "      <th>6</th>\n",
       "      <td>0.35</td>\n",
       "      <td>27942.000000</td>\n",
       "      <td>147813.180000</td>\n",
       "      <td>33250.980000</td>\n",
       "      <td>21494.000000</td>\n",
       "      <td>6.876951</td>\n",
       "    </tr>\n",
       "    <tr>\n",
       "      <th>7</th>\n",
       "      <td>0.40</td>\n",
       "      <td>32604.600000</td>\n",
       "      <td>156176.034000</td>\n",
       "      <td>22497.174000</td>\n",
       "      <td>22379.400000</td>\n",
       "      <td>6.978616</td>\n",
       "    </tr>\n",
       "    <tr>\n",
       "      <th>8</th>\n",
       "      <td>0.45</td>\n",
       "      <td>41056.333333</td>\n",
       "      <td>184342.936667</td>\n",
       "      <td>16011.970000</td>\n",
       "      <td>23154.666667</td>\n",
       "      <td>7.963820</td>\n",
       "    </tr>\n",
       "    <tr>\n",
       "      <th>9</th>\n",
       "      <td>0.50</td>\n",
       "      <td>56170.875000</td>\n",
       "      <td>224121.791250</td>\n",
       "      <td>-6178.796250</td>\n",
       "      <td>25998.125000</td>\n",
       "      <td>8.619854</td>\n",
       "    </tr>\n",
       "  </tbody>\n",
       "</table>\n",
       "</div>"
      ],
      "text/plain": [
       "   Discount         Units        Sales $  Gross Margin $  Num_Transact  \\\n",
       "0      0.00   8636.214286   69003.352143    33594.873571   8396.392857   \n",
       "1      0.05   9371.000000   70188.790000    31767.690000   9127.333333   \n",
       "2      0.10  10183.000000   74234.070000    32483.770000   9983.000000   \n",
       "3      0.15  12882.571429   87472.660000    34654.117143  11833.428571   \n",
       "4      0.20  14238.666667   92408.946667    34030.413333  12609.666667   \n",
       "5      0.30  20619.428571  113200.662857    28661.005714  16590.571429   \n",
       "6      0.35  27942.000000  147813.180000    33250.980000  21494.000000   \n",
       "7      0.40  32604.600000  156176.034000    22497.174000  22379.400000   \n",
       "8      0.45  41056.333333  184342.936667    16011.970000  23154.666667   \n",
       "9      0.50  56170.875000  224121.791250    -6178.796250  25998.125000   \n",
       "\n",
       "   Sales/Transact  \n",
       "0        8.218387  \n",
       "1        7.689710  \n",
       "2        7.436048  \n",
       "3        7.394484  \n",
       "4        7.329036  \n",
       "5        6.823363  \n",
       "6        6.876951  \n",
       "7        6.978616  \n",
       "8        7.963820  \n",
       "9        8.619854  "
      ]
     },
     "execution_count": 39,
     "metadata": {},
     "output_type": "execute_result"
    }
   ],
   "source": [
    "df_Pantene_unit_sales_margin_0 = df_Pantene.groupby('Discount')['Units','Sales $','Gross Margin $','Num_Transact','Sales/Transact'].mean()\n",
    "df_Pantene_unit_sales_margin_1 = df_Pantene_unit_sales_margin_0.reset_index()\n",
    "df_Pantene_unit_sales_margin_1"
   ]
  },
  {
   "cell_type": "code",
   "execution_count": 40,
   "id": "e840241c",
   "metadata": {},
   "outputs": [
    {
     "data": {
      "text/html": [
       "<div>\n",
       "<style scoped>\n",
       "    .dataframe tbody tr th:only-of-type {\n",
       "        vertical-align: middle;\n",
       "    }\n",
       "\n",
       "    .dataframe tbody tr th {\n",
       "        vertical-align: top;\n",
       "    }\n",
       "\n",
       "    .dataframe thead th {\n",
       "        text-align: right;\n",
       "    }\n",
       "</style>\n",
       "<table border=\"1\" class=\"dataframe\">\n",
       "  <thead>\n",
       "    <tr style=\"text-align: right;\">\n",
       "      <th></th>\n",
       "      <th>Discount</th>\n",
       "      <th>Units</th>\n",
       "      <th>Sales $</th>\n",
       "      <th>Gross Margin $</th>\n",
       "      <th>Num_Transact</th>\n",
       "      <th>Sales/Transact</th>\n",
       "    </tr>\n",
       "  </thead>\n",
       "  <tbody>\n",
       "    <tr>\n",
       "      <th>Discount</th>\n",
       "      <td>1.000000</td>\n",
       "      <td>0.934296</td>\n",
       "      <td>0.956357</td>\n",
       "      <td>-0.743721</td>\n",
       "      <td>0.985034</td>\n",
       "      <td>0.010210</td>\n",
       "    </tr>\n",
       "    <tr>\n",
       "      <th>Units</th>\n",
       "      <td>0.934296</td>\n",
       "      <td>1.000000</td>\n",
       "      <td>0.995352</td>\n",
       "      <td>-0.914651</td>\n",
       "      <td>0.950200</td>\n",
       "      <td>0.345509</td>\n",
       "    </tr>\n",
       "    <tr>\n",
       "      <th>Sales $</th>\n",
       "      <td>0.956357</td>\n",
       "      <td>0.995352</td>\n",
       "      <td>1.000000</td>\n",
       "      <td>-0.871470</td>\n",
       "      <td>0.973345</td>\n",
       "      <td>0.275456</td>\n",
       "    </tr>\n",
       "    <tr>\n",
       "      <th>Gross Margin $</th>\n",
       "      <td>-0.743721</td>\n",
       "      <td>-0.914651</td>\n",
       "      <td>-0.871470</td>\n",
       "      <td>1.000000</td>\n",
       "      <td>-0.753406</td>\n",
       "      <td>-0.603341</td>\n",
       "    </tr>\n",
       "    <tr>\n",
       "      <th>Num_Transact</th>\n",
       "      <td>0.985034</td>\n",
       "      <td>0.950200</td>\n",
       "      <td>0.973345</td>\n",
       "      <td>-0.753406</td>\n",
       "      <td>1.000000</td>\n",
       "      <td>0.055343</td>\n",
       "    </tr>\n",
       "    <tr>\n",
       "      <th>Sales/Transact</th>\n",
       "      <td>0.010210</td>\n",
       "      <td>0.345509</td>\n",
       "      <td>0.275456</td>\n",
       "      <td>-0.603341</td>\n",
       "      <td>0.055343</td>\n",
       "      <td>1.000000</td>\n",
       "    </tr>\n",
       "  </tbody>\n",
       "</table>\n",
       "</div>"
      ],
      "text/plain": [
       "                Discount     Units   Sales $  Gross Margin $  Num_Transact  \\\n",
       "Discount        1.000000  0.934296  0.956357       -0.743721      0.985034   \n",
       "Units           0.934296  1.000000  0.995352       -0.914651      0.950200   \n",
       "Sales $         0.956357  0.995352  1.000000       -0.871470      0.973345   \n",
       "Gross Margin $ -0.743721 -0.914651 -0.871470        1.000000     -0.753406   \n",
       "Num_Transact    0.985034  0.950200  0.973345       -0.753406      1.000000   \n",
       "Sales/Transact  0.010210  0.345509  0.275456       -0.603341      0.055343   \n",
       "\n",
       "                Sales/Transact  \n",
       "Discount              0.010210  \n",
       "Units                 0.345509  \n",
       "Sales $               0.275456  \n",
       "Gross Margin $       -0.603341  \n",
       "Num_Transact          0.055343  \n",
       "Sales/Transact        1.000000  "
      ]
     },
     "execution_count": 40,
     "metadata": {},
     "output_type": "execute_result"
    }
   ],
   "source": [
    "df_Pantene_unit_sales_margin_1.corr()\n",
    "# Discounts and Num of transactions are strongly correlated\n",
    "# Sales and Num of transactions are strongly correlated\n",
    "# Sales and Units are strongly correlated"
   ]
  },
  {
   "cell_type": "code",
   "execution_count": 41,
   "id": "3bda2ad9",
   "metadata": {},
   "outputs": [
    {
     "data": {
      "image/png": "[encoded data removed]",
      "text/plain": [
       "<Figure size 720x360 with 2 Axes>"
      ]
     },
     "metadata": {
      "needs_background": "light"
     },
     "output_type": "display_data"
    }
   ],
   "source": [
    "corrMatrix_unit_sales_margin = df_Pantene_unit_sales_margin_1.corr()\n",
    "plt.figure(figsize = (10,5))\n",
    "ax=(sns.heatmap(corrMatrix_unit_sales_margin, annot=True))\n",
    "plt.show()"
   ]
  },
  {
   "cell_type": "code",
   "execution_count": 42,
   "id": "d678376b",
   "metadata": {},
   "outputs": [],
   "source": [
    "from sklearn.linear_model import LinearRegression\n",
    "x= np.array(df_Pantene_unit_sales_margin_1['Discount'].to_list()).reshape((-1, 1))\n",
    "y = df_Pantene_unit_sales_margin_1['Num_Transact'].to_list()"
   ]
  },
  {
   "cell_type": "code",
   "execution_count": 43,
   "id": "41ee880e",
   "metadata": {},
   "outputs": [
    {
     "name": "stdout",
     "output_type": "stream",
     "text": [
      "coefficient of determination: 0.9702917248796774\n",
      "intercept: 6856.238376623371\n",
      "slope: [37201.68030303]\n"
     ]
    }
   ],
   "source": [
    "# determine the linear regression between discounts and number of transactions\n",
    "model = LinearRegression()\n",
    "model.fit(x, y)\n",
    "model = LinearRegression().fit(x, y)\n",
    "r_sq = model.score(x, y)\n",
    "print('coefficient of determination:', r_sq)\n",
    "print('intercept:', model.intercept_)\n",
    "print('slope:', model.coef_)"
   ]
  },
  {
   "cell_type": "code",
   "execution_count": 44,
   "id": "efa49259",
   "metadata": {},
   "outputs": [
    {
     "name": "stdout",
     "output_type": "stream",
     "text": [
      "predicted average number of transactions at 25%: 16156.658452380952\n",
      "predicted average number of transactions at 60%: 29177.24655844157\n"
     ]
    }
   ],
   "source": [
    "# predict the number of transactions when the discounts are at 25% and 60%\n",
    "x_new = np.array([0,0.05,0.1,0.15,0.2,0.25,0.3,0.35,0.4,0.45,0.5,0.60]).reshape((-1, 1))\n",
    "y_num_transactions = model.predict(x_new)\n",
    "print('predicted average number of transactions at 25%:', y_num_transactions[5])\n",
    "print('predicted average number of transactions at 60%:', y_num_transactions[-1])"
   ]
  },
  {
   "cell_type": "code",
   "execution_count": 45,
   "id": "5b26a6a0",
   "metadata": {},
   "outputs": [
    {
     "data": {
      "image/png": "[encoded data removed]",
      "text/plain": [
       "<Figure size 576x360 with 1 Axes>"
      ]
     },
     "metadata": {
      "needs_background": "light"
     },
     "output_type": "display_data"
    }
   ],
   "source": [
    "plt.figure(figsize = (8,5))\n",
    "plt.scatter(x,y,color = 'r',marker = 'o', s= 30)\n",
    "plt.plot(x_new,y_num_transactions,color = 'b')\n",
    "plt.xlabel('Discount') \n",
    "plt.ylabel('Num of Transactions')\n",
    "plt.title('Linear Regression Discount vs Num of Transactions')\n",
    "plt.show()"
   ]
  },
  {
   "cell_type": "code",
   "execution_count": 46,
   "id": "dbe79156",
   "metadata": {},
   "outputs": [],
   "source": [
    "# df_Pantene_unit_sales_margin_1.loc[len(df_Pantene_unit_sales_margin_1.index)] = [0.25,'NaN','NaN','NaN',y_num_transactions[5],'NaN']\n",
    "# df_Pantene_unit_sales_margin_1.loc[len(df_Pantene_unit_sales_margin_1.index)] = [0.60,'NaN','NaN','NaN',y_num_transactions[-1],'NaN']"
   ]
  },
  {
   "cell_type": "code",
   "execution_count": 47,
   "id": "c47ce22f",
   "metadata": {},
   "outputs": [
    {
     "name": "stdout",
     "output_type": "stream",
     "text": [
      "                            OLS Regression Results                            \n",
      "==============================================================================\n",
      "Dep. Variable:                      y   R-squared:                       0.970\n",
      "Model:                            OLS   Adj. R-squared:                  0.967\n",
      "Method:                 Least Squares   F-statistic:                     261.3\n",
      "Date:                Wed, 04 Jan 2023   Prob (F-statistic):           2.16e-07\n",
      "Time:                        19:11:17   Log-Likelihood:                -84.032\n",
      "No. Observations:                  10   AIC:                             172.1\n",
      "Df Residuals:                       8   BIC:                             172.7\n",
      "Df Model:                           1                                         \n",
      "Covariance Type:            nonrobust                                         \n",
      "==============================================================================\n",
      "                 coef    std err          t      P>|t|      [0.025      0.975]\n",
      "------------------------------------------------------------------------------\n",
      "const       6856.2384    690.441      9.930      0.000    5264.079    8448.397\n",
      "x1           3.72e+04   2301.469     16.164      0.000    3.19e+04    4.25e+04\n",
      "==============================================================================\n",
      "Omnibus:                        0.651   Durbin-Watson:                   1.363\n",
      "Prob(Omnibus):                  0.722   Jarque-Bera (JB):                0.540\n",
      "Skew:                           0.013   Prob(JB):                        0.763\n",
      "Kurtosis:                       1.862   Cond. No.                         6.42\n",
      "==============================================================================\n",
      "\n",
      "Notes:\n",
      "[1] Standard Errors assume that the covariance matrix of the errors is correctly specified.\n"
     ]
    },
    {
     "name": "stderr",
     "output_type": "stream",
     "text": [
      "C:\\Users\\nim\\Anaconda3\\lib\\site-packages\\scipy\\stats\\stats.py:1541: UserWarning: kurtosistest only valid for n>=20 ... continuing anyway, n=10\n",
      "  warnings.warn(\"kurtosistest only valid for n>=20 ... continuing \"\n"
     ]
    }
   ],
   "source": [
    "X = sm.add_constant(df_Pantene_unit_sales_margin_1['Discount'].values)\n",
    "Model = sm.OLS(df_Pantene_unit_sales_margin_1['Num_Transact'].values, X).fit()\n",
    "print(Model.summary())\n",
    "# P-value less than 0.05, reject the null hypothesis, number of transactions and discounts has a strong correlation"
   ]
  },
  {
   "cell_type": "code",
   "execution_count": 48,
   "id": "bf0ad7cb",
   "metadata": {},
   "outputs": [
    {
     "data": {
      "text/html": [
       "<div>\n",
       "<style scoped>\n",
       "    .dataframe tbody tr th:only-of-type {\n",
       "        vertical-align: middle;\n",
       "    }\n",
       "\n",
       "    .dataframe tbody tr th {\n",
       "        vertical-align: top;\n",
       "    }\n",
       "\n",
       "    .dataframe thead th {\n",
       "        text-align: right;\n",
       "    }\n",
       "</style>\n",
       "<table border=\"1\" class=\"dataframe\">\n",
       "  <thead>\n",
       "    <tr style=\"text-align: right;\">\n",
       "      <th></th>\n",
       "      <th>Discount</th>\n",
       "      <th>Units</th>\n",
       "      <th>Sales $</th>\n",
       "      <th>Gross Margin $</th>\n",
       "      <th>Num_Transact</th>\n",
       "      <th>Sales/Transact</th>\n",
       "    </tr>\n",
       "  </thead>\n",
       "  <tbody>\n",
       "    <tr>\n",
       "      <th>0</th>\n",
       "      <td>0.00</td>\n",
       "      <td>8636.214286</td>\n",
       "      <td>69003.352143</td>\n",
       "      <td>33594.873571</td>\n",
       "      <td>8396.392857</td>\n",
       "      <td>8.218387</td>\n",
       "    </tr>\n",
       "    <tr>\n",
       "      <th>1</th>\n",
       "      <td>0.05</td>\n",
       "      <td>9371.000000</td>\n",
       "      <td>70188.790000</td>\n",
       "      <td>31767.690000</td>\n",
       "      <td>9127.333333</td>\n",
       "      <td>7.689710</td>\n",
       "    </tr>\n",
       "    <tr>\n",
       "      <th>2</th>\n",
       "      <td>0.10</td>\n",
       "      <td>10183.000000</td>\n",
       "      <td>74234.070000</td>\n",
       "      <td>32483.770000</td>\n",
       "      <td>9983.000000</td>\n",
       "      <td>7.436048</td>\n",
       "    </tr>\n",
       "    <tr>\n",
       "      <th>3</th>\n",
       "      <td>0.15</td>\n",
       "      <td>12882.571429</td>\n",
       "      <td>87472.660000</td>\n",
       "      <td>34654.117143</td>\n",
       "      <td>11833.428571</td>\n",
       "      <td>7.394484</td>\n",
       "    </tr>\n",
       "    <tr>\n",
       "      <th>4</th>\n",
       "      <td>0.20</td>\n",
       "      <td>14238.666667</td>\n",
       "      <td>92408.946667</td>\n",
       "      <td>34030.413333</td>\n",
       "      <td>12609.666667</td>\n",
       "      <td>7.329036</td>\n",
       "    </tr>\n",
       "    <tr>\n",
       "      <th>5</th>\n",
       "      <td>0.30</td>\n",
       "      <td>20619.428571</td>\n",
       "      <td>113200.662857</td>\n",
       "      <td>28661.005714</td>\n",
       "      <td>16590.571429</td>\n",
       "      <td>6.823363</td>\n",
       "    </tr>\n",
       "    <tr>\n",
       "      <th>6</th>\n",
       "      <td>0.35</td>\n",
       "      <td>27942.000000</td>\n",
       "      <td>147813.180000</td>\n",
       "      <td>33250.980000</td>\n",
       "      <td>21494.000000</td>\n",
       "      <td>6.876951</td>\n",
       "    </tr>\n",
       "    <tr>\n",
       "      <th>7</th>\n",
       "      <td>0.40</td>\n",
       "      <td>32604.600000</td>\n",
       "      <td>156176.034000</td>\n",
       "      <td>22497.174000</td>\n",
       "      <td>22379.400000</td>\n",
       "      <td>6.978616</td>\n",
       "    </tr>\n",
       "    <tr>\n",
       "      <th>8</th>\n",
       "      <td>0.45</td>\n",
       "      <td>41056.333333</td>\n",
       "      <td>184342.936667</td>\n",
       "      <td>16011.970000</td>\n",
       "      <td>23154.666667</td>\n",
       "      <td>7.963820</td>\n",
       "    </tr>\n",
       "    <tr>\n",
       "      <th>9</th>\n",
       "      <td>0.50</td>\n",
       "      <td>56170.875000</td>\n",
       "      <td>224121.791250</td>\n",
       "      <td>-6178.796250</td>\n",
       "      <td>25998.125000</td>\n",
       "      <td>8.619854</td>\n",
       "    </tr>\n",
       "  </tbody>\n",
       "</table>\n",
       "</div>"
      ],
      "text/plain": [
       "   Discount         Units        Sales $  Gross Margin $  Num_Transact  \\\n",
       "0      0.00   8636.214286   69003.352143    33594.873571   8396.392857   \n",
       "1      0.05   9371.000000   70188.790000    31767.690000   9127.333333   \n",
       "2      0.10  10183.000000   74234.070000    32483.770000   9983.000000   \n",
       "3      0.15  12882.571429   87472.660000    34654.117143  11833.428571   \n",
       "4      0.20  14238.666667   92408.946667    34030.413333  12609.666667   \n",
       "5      0.30  20619.428571  113200.662857    28661.005714  16590.571429   \n",
       "6      0.35  27942.000000  147813.180000    33250.980000  21494.000000   \n",
       "7      0.40  32604.600000  156176.034000    22497.174000  22379.400000   \n",
       "8      0.45  41056.333333  184342.936667    16011.970000  23154.666667   \n",
       "9      0.50  56170.875000  224121.791250    -6178.796250  25998.125000   \n",
       "\n",
       "   Sales/Transact  \n",
       "0        8.218387  \n",
       "1        7.689710  \n",
       "2        7.436048  \n",
       "3        7.394484  \n",
       "4        7.329036  \n",
       "5        6.823363  \n",
       "6        6.876951  \n",
       "7        6.978616  \n",
       "8        7.963820  \n",
       "9        8.619854  "
      ]
     },
     "execution_count": 48,
     "metadata": {},
     "output_type": "execute_result"
    }
   ],
   "source": [
    "df_Pantene_unit_sales_margin_1"
   ]
  },
  {
   "cell_type": "code",
   "execution_count": 49,
   "id": "ca37c526",
   "metadata": {},
   "outputs": [
    {
     "name": "stdout",
     "output_type": "stream",
     "text": [
      "Avg sales $ for Pantene at 25% discount is:  110242.73873619428\n"
     ]
    }
   ],
   "source": [
    "# sales/transaction does not have correlation with any other element so we can just use the closest value to calculate. \n",
    "# In this case, use the sales per transaction at 30% discount makes more sense.\n",
    "sales_25_Pantene = df_Pantene_unit_sales_margin_1['Sales/Transact'][5] *  y_num_transactions[5]\n",
    "print('Avg sales $ for Pantene at 25% discount is: ',sales_25_Pantene)"
   ]
  },
  {
   "cell_type": "code",
   "execution_count": 50,
   "id": "a8389d51",
   "metadata": {},
   "outputs": [
    {
     "name": "stdout",
     "output_type": "stream",
     "text": [
      "Avg sales $ for Pantene at 60% discount is:  251503.60661320193\n"
     ]
    }
   ],
   "source": [
    "# sales/transaction does not have correlation with any other element so we can just use the closest value to calculate. \n",
    "# In this case, use the sales per transaction at 50% discount.\n",
    "sales_60_Pantene = df_Pantene_unit_sales_margin_1['Sales/Transact'][9] * y_num_transactions[-1]\n",
    "print('Avg sales $ for Pantene at 60% discount is: ',sales_60_Pantene)"
   ]
  },
  {
   "cell_type": "code",
   "execution_count": 51,
   "id": "c667cd31",
   "metadata": {},
   "outputs": [
    {
     "name": "stdout",
     "output_type": "stream",
     "text": [
      "Avg Gross Margin $ for Pantene at 25% discount is:  34815.91707271554\n",
      "Avg Gross Margin $ for Pantene at 60% discount is:  -71138.69223352127\n"
     ]
    }
   ],
   "source": [
    "margin_25_Pantene = sales_25_Pantene * pantene_25_profit_percentage\n",
    "margin_60_Pantene = sales_60_Pantene * pantene_60_profit_percentage\n",
    "print('Avg Gross Margin $ for Pantene at 25% discount is: ',margin_25_Pantene)\n",
    "print('Avg Gross Margin $ for Pantene at 60% discount is: ',margin_60_Pantene)"
   ]
  },
  {
   "cell_type": "code",
   "execution_count": 52,
   "id": "2877184b",
   "metadata": {},
   "outputs": [],
   "source": [
    "Pantene_orginal_price = float(df_Pantene.query(\"Discount == 0\")['Price'].unique())"
   ]
  },
  {
   "cell_type": "code",
   "execution_count": 53,
   "id": "738dd1a7",
   "metadata": {},
   "outputs": [
    {
     "name": "stdout",
     "output_type": "stream",
     "text": [
      "Pantene avg units sold at 25% discount is:  18396.78577158019\n",
      "Pantene avg units sold at 60% discount is:  78693.24362115204\n"
     ]
    }
   ],
   "source": [
    "unit_25_Pantene = sales_25_Pantene/(Pantene_orginal_price*0.75)\n",
    "print(\"Pantene avg units sold at 25% discount is: \",unit_25_Pantene)\n",
    "unit_60_Pantene = sales_60_Pantene/(Pantene_orginal_price*0.40)\n",
    "print(\"Pantene avg units sold at 60% discount is: \",unit_60_Pantene)"
   ]
  },
  {
   "cell_type": "code",
   "execution_count": 54,
   "id": "24ad8157",
   "metadata": {},
   "outputs": [
    {
     "data": {
      "text/html": [
       "<div>\n",
       "<style scoped>\n",
       "    .dataframe tbody tr th:only-of-type {\n",
       "        vertical-align: middle;\n",
       "    }\n",
       "\n",
       "    .dataframe tbody tr th {\n",
       "        vertical-align: top;\n",
       "    }\n",
       "\n",
       "    .dataframe thead th {\n",
       "        text-align: right;\n",
       "    }\n",
       "</style>\n",
       "<table border=\"1\" class=\"dataframe\">\n",
       "  <thead>\n",
       "    <tr style=\"text-align: right;\">\n",
       "      <th></th>\n",
       "      <th>Discount</th>\n",
       "      <th>Units</th>\n",
       "      <th>Sales $</th>\n",
       "      <th>Gross Margin $</th>\n",
       "      <th>Num_Transact</th>\n",
       "      <th>Sales/Transact</th>\n",
       "    </tr>\n",
       "  </thead>\n",
       "  <tbody>\n",
       "    <tr>\n",
       "      <th>0</th>\n",
       "      <td>0.25</td>\n",
       "      <td>18396.785772</td>\n",
       "      <td>110242.738736</td>\n",
       "      <td>34815.917073</td>\n",
       "      <td>16156.658452</td>\n",
       "      <td>6.823363</td>\n",
       "    </tr>\n",
       "  </tbody>\n",
       "</table>\n",
       "</div>"
      ],
      "text/plain": [
       "   Discount         Units        Sales $  Gross Margin $  Num_Transact  \\\n",
       "0      0.25  18396.785772  110242.738736    34815.917073  16156.658452   \n",
       "\n",
       "   Sales/Transact  \n",
       "0        6.823363  "
      ]
     },
     "execution_count": 54,
     "metadata": {},
     "output_type": "execute_result"
    }
   ],
   "source": [
    "dict_25 = {'Discount':[0.25],'Units':[unit_25_Pantene],'Sales $':[sales_25_Pantene],'Gross Margin $':[margin_25_Pantene],'Num_Transact':[y_num_transactions[5]],'Sales/Transact':[df_Pantene_unit_sales_margin_1['Sales/Transact'][5]]}\n",
    "df_Pantene_unit_sales_margin_25 = pd.DataFrame(dict_25)\n",
    "dict_60 = {'Discount':[0.60],'Units':[unit_60_Pantene],'Sales $':[sales_60_Pantene],'Gross Margin $':[margin_60_Pantene],'Num_Transact':[y_num_transactions[-1]],'Sales/Transact':[df_Pantene_unit_sales_margin_1['Sales/Transact'][9]]}\n",
    "df_Pantene_unit_sales_margin_60 = pd.DataFrame(dict_60)\n",
    "df_Pantene_unit_sales_margin_25"
   ]
  },
  {
   "cell_type": "code",
   "execution_count": 55,
   "id": "a3fc87a2",
   "metadata": {},
   "outputs": [
    {
     "data": {
      "text/html": [
       "<div>\n",
       "<style scoped>\n",
       "    .dataframe tbody tr th:only-of-type {\n",
       "        vertical-align: middle;\n",
       "    }\n",
       "\n",
       "    .dataframe tbody tr th {\n",
       "        vertical-align: top;\n",
       "    }\n",
       "\n",
       "    .dataframe thead th {\n",
       "        text-align: right;\n",
       "    }\n",
       "</style>\n",
       "<table border=\"1\" class=\"dataframe\">\n",
       "  <thead>\n",
       "    <tr style=\"text-align: right;\">\n",
       "      <th></th>\n",
       "      <th>Discount</th>\n",
       "      <th>Avg_Units</th>\n",
       "      <th>Avg_Sales</th>\n",
       "      <th>Avg_Margin</th>\n",
       "      <th>Avg_Num_Transact</th>\n",
       "      <th>Avg_Sales/Transact</th>\n",
       "    </tr>\n",
       "    <tr>\n",
       "      <th>Sequence</th>\n",
       "      <th></th>\n",
       "      <th></th>\n",
       "      <th></th>\n",
       "      <th></th>\n",
       "      <th></th>\n",
       "      <th></th>\n",
       "    </tr>\n",
       "  </thead>\n",
       "  <tbody>\n",
       "    <tr>\n",
       "      <th>1</th>\n",
       "      <td>0.00</td>\n",
       "      <td>8636.214286</td>\n",
       "      <td>69003.352143</td>\n",
       "      <td>33594.873571</td>\n",
       "      <td>8396.392857</td>\n",
       "      <td>8.218387</td>\n",
       "    </tr>\n",
       "    <tr>\n",
       "      <th>2</th>\n",
       "      <td>0.05</td>\n",
       "      <td>9371.000000</td>\n",
       "      <td>70188.790000</td>\n",
       "      <td>31767.690000</td>\n",
       "      <td>9127.333333</td>\n",
       "      <td>7.689710</td>\n",
       "    </tr>\n",
       "    <tr>\n",
       "      <th>3</th>\n",
       "      <td>0.10</td>\n",
       "      <td>10183.000000</td>\n",
       "      <td>74234.070000</td>\n",
       "      <td>32483.770000</td>\n",
       "      <td>9983.000000</td>\n",
       "      <td>7.436048</td>\n",
       "    </tr>\n",
       "    <tr>\n",
       "      <th>4</th>\n",
       "      <td>0.15</td>\n",
       "      <td>12882.571429</td>\n",
       "      <td>87472.660000</td>\n",
       "      <td>34654.117143</td>\n",
       "      <td>11833.428571</td>\n",
       "      <td>7.394484</td>\n",
       "    </tr>\n",
       "    <tr>\n",
       "      <th>5</th>\n",
       "      <td>0.20</td>\n",
       "      <td>14238.666667</td>\n",
       "      <td>92408.946667</td>\n",
       "      <td>34030.413333</td>\n",
       "      <td>12609.666667</td>\n",
       "      <td>7.329036</td>\n",
       "    </tr>\n",
       "    <tr>\n",
       "      <th>6</th>\n",
       "      <td>0.25</td>\n",
       "      <td>18396.785772</td>\n",
       "      <td>110242.738736</td>\n",
       "      <td>34815.917073</td>\n",
       "      <td>16156.658452</td>\n",
       "      <td>6.823363</td>\n",
       "    </tr>\n",
       "    <tr>\n",
       "      <th>7</th>\n",
       "      <td>0.30</td>\n",
       "      <td>20619.428571</td>\n",
       "      <td>113200.662857</td>\n",
       "      <td>28661.005714</td>\n",
       "      <td>16590.571429</td>\n",
       "      <td>6.823363</td>\n",
       "    </tr>\n",
       "    <tr>\n",
       "      <th>8</th>\n",
       "      <td>0.35</td>\n",
       "      <td>27942.000000</td>\n",
       "      <td>147813.180000</td>\n",
       "      <td>33250.980000</td>\n",
       "      <td>21494.000000</td>\n",
       "      <td>6.876951</td>\n",
       "    </tr>\n",
       "    <tr>\n",
       "      <th>9</th>\n",
       "      <td>0.40</td>\n",
       "      <td>32604.600000</td>\n",
       "      <td>156176.034000</td>\n",
       "      <td>22497.174000</td>\n",
       "      <td>22379.400000</td>\n",
       "      <td>6.978616</td>\n",
       "    </tr>\n",
       "    <tr>\n",
       "      <th>10</th>\n",
       "      <td>0.45</td>\n",
       "      <td>41056.333333</td>\n",
       "      <td>184342.936667</td>\n",
       "      <td>16011.970000</td>\n",
       "      <td>23154.666667</td>\n",
       "      <td>7.963820</td>\n",
       "    </tr>\n",
       "    <tr>\n",
       "      <th>11</th>\n",
       "      <td>0.50</td>\n",
       "      <td>56170.875000</td>\n",
       "      <td>224121.791250</td>\n",
       "      <td>-6178.796250</td>\n",
       "      <td>25998.125000</td>\n",
       "      <td>8.619854</td>\n",
       "    </tr>\n",
       "    <tr>\n",
       "      <th>12</th>\n",
       "      <td>0.60</td>\n",
       "      <td>78693.243621</td>\n",
       "      <td>251503.606613</td>\n",
       "      <td>-71138.692234</td>\n",
       "      <td>29177.246558</td>\n",
       "      <td>8.619854</td>\n",
       "    </tr>\n",
       "  </tbody>\n",
       "</table>\n",
       "</div>"
      ],
      "text/plain": [
       "          Discount     Avg_Units      Avg_Sales    Avg_Margin  \\\n",
       "Sequence                                                        \n",
       "1             0.00   8636.214286   69003.352143  33594.873571   \n",
       "2             0.05   9371.000000   70188.790000  31767.690000   \n",
       "3             0.10  10183.000000   74234.070000  32483.770000   \n",
       "4             0.15  12882.571429   87472.660000  34654.117143   \n",
       "5             0.20  14238.666667   92408.946667  34030.413333   \n",
       "6             0.25  18396.785772  110242.738736  34815.917073   \n",
       "7             0.30  20619.428571  113200.662857  28661.005714   \n",
       "8             0.35  27942.000000  147813.180000  33250.980000   \n",
       "9             0.40  32604.600000  156176.034000  22497.174000   \n",
       "10            0.45  41056.333333  184342.936667  16011.970000   \n",
       "11            0.50  56170.875000  224121.791250  -6178.796250   \n",
       "12            0.60  78693.243621  251503.606613 -71138.692234   \n",
       "\n",
       "          Avg_Num_Transact  Avg_Sales/Transact  \n",
       "Sequence                                        \n",
       "1              8396.392857            8.218387  \n",
       "2              9127.333333            7.689710  \n",
       "3              9983.000000            7.436048  \n",
       "4             11833.428571            7.394484  \n",
       "5             12609.666667            7.329036  \n",
       "6             16156.658452            6.823363  \n",
       "7             16590.571429            6.823363  \n",
       "8             21494.000000            6.876951  \n",
       "9             22379.400000            6.978616  \n",
       "10            23154.666667            7.963820  \n",
       "11            25998.125000            8.619854  \n",
       "12            29177.246558            8.619854  "
      ]
     },
     "execution_count": 55,
     "metadata": {},
     "output_type": "execute_result"
    }
   ],
   "source": [
    "df_Pantene_unit_sales_margin_2 = df_Pantene_unit_sales_margin_1.append(df_Pantene_unit_sales_margin_25, ignore_index = True)\n",
    "df_Pantene_unit_sales_margin_3 = df_Pantene_unit_sales_margin_2.append(df_Pantene_unit_sales_margin_60,ignore_index = True)\n",
    "df_Pantene_unit_sales_margin_3['Sequence'] = [1,2,3,4,5,7,8,9,10,11,6,12]\n",
    "df_Pantene_unit_sales_margin_4 = df_Pantene_unit_sales_margin_3.sort_values('Sequence')\n",
    "df_Pantene_unit_sales_margin_5 = df_Pantene_unit_sales_margin_4.set_index('Sequence')\n",
    "\n",
    "df_Pantene_unit_sales_margin_6 = df_Pantene_unit_sales_margin_5.rename(columns ={'Units':'Avg_Units','Sales $':'Avg_Sales','Gross Margin $':'Avg_Margin','Num_Transact':'Avg_Num_Transact','Sales/Transact':'Avg_Sales/Transact'})\n",
    "df_Pantene_unit_sales_margin_6"
   ]
  },
  {
   "cell_type": "markdown",
   "id": "26a6a59c",
   "metadata": {},
   "source": [
    "###### Overview of Linear Regression approach"
   ]
  },
  {
   "cell_type": "code",
   "execution_count": 56,
   "id": "d1f9f0c4",
   "metadata": {},
   "outputs": [],
   "source": [
    "# Try linear regression to calculate average sales units.\n",
    "x1= np.array(df_Pantene_unit_sales_margin_1['Num_Transact'].to_list()).reshape((-1, 1))\n",
    "y1 = df_Pantene_unit_sales_margin_1['Sales $'].to_list()"
   ]
  },
  {
   "cell_type": "code",
   "execution_count": 57,
   "id": "55c8ea36",
   "metadata": {},
   "outputs": [
    {
     "name": "stdout",
     "output_type": "stream",
     "text": [
      "coefficient of determination: 0.9474008590494659\n",
      "intercept: -6309.475143329459\n",
      "slope: [7.93516295]\n"
     ]
    }
   ],
   "source": [
    "model.fit(x1, y1)\n",
    "model = LinearRegression().fit(x1, y1)\n",
    "r_sq = model.score(x1, y1)\n",
    "print('coefficient of determination:', r_sq)\n",
    "print('intercept:', model.intercept_)\n",
    "print('slope:', model.coef_)"
   ]
  },
  {
   "cell_type": "code",
   "execution_count": 58,
   "id": "c7eb7b7a",
   "metadata": {},
   "outputs": [
    {
     "name": "stdout",
     "output_type": "stream",
     "text": [
      "[8396.392857142857, 9127.333333333334, 9983.0, 11833.42857142857, 12609.666666666666, 16156.658452380952, 16590.571428571428, 21494.0, 22379.4, 23154.666666666668, 25998.125, 29177.24655844157]\n"
     ]
    }
   ],
   "source": [
    "list_num_transaction_0= df_Pantene_unit_sales_margin_1['Num_Transact'].to_list()\n",
    "list_num_transaction_0.insert(5,y_num_transactions[5])\n",
    "list_num_transaction_0.append(y_num_transactions[-1])\n",
    "print(list_num_transaction_0)"
   ]
  },
  {
   "cell_type": "code",
   "execution_count": 59,
   "id": "6bddaaef",
   "metadata": {},
   "outputs": [
    {
     "name": "stdout",
     "output_type": "stream",
     "text": [
      "predicted average sales $ at 25%: 121896.24235833334\n",
      "predicted average sales $ at 60%: 225216.73064810818\n"
     ]
    }
   ],
   "source": [
    "x_new_1 = np.array(list_num_transaction_0).reshape((-1, 1))\n",
    "y_sales_dollar = model.predict(x_new_1)\n",
    "print('predicted average sales $ at 25%:', y_sales_dollar[5])\n",
    "print('predicted average sales $ at 60%:', y_sales_dollar[-1])"
   ]
  },
  {
   "cell_type": "code",
   "execution_count": 60,
   "id": "bac29164",
   "metadata": {},
   "outputs": [
    {
     "data": {
      "image/png": "[encoded data removed]",
      "text/plain": [
       "<Figure size 576x360 with 1 Axes>"
      ]
     },
     "metadata": {
      "needs_background": "light"
     },
     "output_type": "display_data"
    }
   ],
   "source": [
    "plt.figure(figsize = (8,5))\n",
    "plt.scatter(x1,y1,color = 'm',marker = 'o', s= 30)\n",
    "plt.plot(x_new_1,y_sales_dollar,color = 'g')\n",
    "plt.xlabel('AVG Num of Transactions') \n",
    "plt.ylabel('AVGSales $')\n",
    "plt.title('Linear Regression Num of Transactions vs Sales $')\n",
    "plt.show()"
   ]
  },
  {
   "cell_type": "markdown",
   "id": "2640939d",
   "metadata": {},
   "source": [
    "Use linear regression to project sales from number of transactions is not ideal. we'll abandon this approach"
   ]
  },
  {
   "cell_type": "markdown",
   "id": "d936578e",
   "metadata": {},
   "source": [
    "###### 7.What impact does being “On Flyer” have on performance?\n",
    "\n",
    "On flyer can increase sales units and number of transactions but reduce gross margins"
   ]
  },
  {
   "cell_type": "code",
   "execution_count": 61,
   "id": "d11ecb5b",
   "metadata": {},
   "outputs": [
    {
     "name": "stderr",
     "output_type": "stream",
     "text": [
      "C:\\Users\\nim\\AppData\\Local\\Temp/ipykernel_17544/1344346986.py:1: FutureWarning: Indexing with multiple keys (implicitly converted to a tuple of keys) will be deprecated, use a list instead.\n",
      "  df_new_onflyer = df_new.groupby('On Flyer?')['Units','Sales $','Gross Margin $'].sum()\n"
     ]
    },
    {
     "data": {
      "text/html": [
       "<div>\n",
       "<style scoped>\n",
       "    .dataframe tbody tr th:only-of-type {\n",
       "        vertical-align: middle;\n",
       "    }\n",
       "\n",
       "    .dataframe tbody tr th {\n",
       "        vertical-align: top;\n",
       "    }\n",
       "\n",
       "    .dataframe thead th {\n",
       "        text-align: right;\n",
       "    }\n",
       "</style>\n",
       "<table border=\"1\" class=\"dataframe\">\n",
       "  <thead>\n",
       "    <tr style=\"text-align: right;\">\n",
       "      <th></th>\n",
       "      <th>Units</th>\n",
       "      <th>Sales $</th>\n",
       "      <th>Gross Margin $</th>\n",
       "    </tr>\n",
       "    <tr>\n",
       "      <th>On Flyer?</th>\n",
       "      <th></th>\n",
       "      <th></th>\n",
       "      <th></th>\n",
       "    </tr>\n",
       "  </thead>\n",
       "  <tbody>\n",
       "    <tr>\n",
       "      <th>No</th>\n",
       "      <td>861550</td>\n",
       "      <td>4720937.1</td>\n",
       "      <td>1.883077e+06</td>\n",
       "    </tr>\n",
       "    <tr>\n",
       "      <th>Yes</th>\n",
       "      <td>2150150</td>\n",
       "      <td>8743937.7</td>\n",
       "      <td>1.396930e+06</td>\n",
       "    </tr>\n",
       "  </tbody>\n",
       "</table>\n",
       "</div>"
      ],
      "text/plain": [
       "             Units    Sales $  Gross Margin $\n",
       "On Flyer?                                    \n",
       "No          861550  4720937.1    1.883077e+06\n",
       "Yes        2150150  8743937.7    1.396930e+06"
      ]
     },
     "execution_count": 61,
     "metadata": {},
     "output_type": "execute_result"
    }
   ],
   "source": [
    "df_new_onflyer = df_new.groupby('On Flyer?')['Units','Sales $','Gross Margin $'].sum()\n",
    "df_new_onflyer"
   ]
  },
  {
   "cell_type": "code",
   "execution_count": 62,
   "id": "de636d1f",
   "metadata": {},
   "outputs": [
    {
     "data": {
      "image/png": "[encoded data removed]",
      "text/plain": [
       "<Figure size 360x216 with 1 Axes>"
      ]
     },
     "metadata": {
      "needs_background": "light"
     },
     "output_type": "display_data"
    },
    {
     "data": {
      "image/png": "[encoded data removed]",
      "text/plain": [
       "<Figure size 360x216 with 1 Axes>"
      ]
     },
     "metadata": {
      "needs_background": "light"
     },
     "output_type": "display_data"
    },
    {
     "data": {
      "image/png": "[encoded data removed]",
      "text/plain": [
       "<Figure size 360x216 with 1 Axes>"
      ]
     },
     "metadata": {
      "needs_background": "light"
     },
     "output_type": "display_data"
    }
   ],
   "source": [
    "import seaborn as sns\n",
    "import matplotlib.pyplot as plt\n",
    "list_attribute = ['Units','Sales $','Gross Margin $']\n",
    "for v in list_attribute:\n",
    "    plt.figure(figsize = (5,3))\n",
    "    sns.barplot(x=df_new_onflyer.index,y = v, data =df_new_onflyer)\n",
    "    plt.title(v)\n",
    "    plt.show()"
   ]
  },
  {
   "cell_type": "markdown",
   "id": "24ac9440",
   "metadata": {},
   "source": [
    "###### 8.\tClient wants to change the price on an upcoming Aussie Shampoo flyer promotion. Her goal is to maximize sales, but she does not want to sacrifice too much margin."
   ]
  },
  {
   "cell_type": "code",
   "execution_count": 63,
   "id": "519f64ea",
   "metadata": {},
   "outputs": [
    {
     "name": "stderr",
     "output_type": "stream",
     "text": [
      "C:\\Users\\nim\\AppData\\Local\\Temp/ipykernel_17544/1221449656.py:1: FutureWarning: Indexing with multiple keys (implicitly converted to a tuple of keys) will be deprecated, use a list instead.\n",
      "  df_new_top_sales1 = df_new.groupby('Discount')['Units','Sales $','Gross Margin $','Num_Transact','Sales/Transact','Margin/Transact'].mean().reset_index()\n"
     ]
    },
    {
     "data": {
      "text/html": [
       "<div>\n",
       "<style scoped>\n",
       "    .dataframe tbody tr th:only-of-type {\n",
       "        vertical-align: middle;\n",
       "    }\n",
       "\n",
       "    .dataframe tbody tr th {\n",
       "        vertical-align: top;\n",
       "    }\n",
       "\n",
       "    .dataframe thead th {\n",
       "        text-align: right;\n",
       "    }\n",
       "</style>\n",
       "<table border=\"1\" class=\"dataframe\">\n",
       "  <thead>\n",
       "    <tr style=\"text-align: right;\">\n",
       "      <th></th>\n",
       "      <th>Discount</th>\n",
       "      <th>Units</th>\n",
       "      <th>Sales $</th>\n",
       "      <th>Gross Margin $</th>\n",
       "      <th>Num_Transact</th>\n",
       "      <th>Sales/Transact</th>\n",
       "      <th>Margin/Transact</th>\n",
       "    </tr>\n",
       "  </thead>\n",
       "  <tbody>\n",
       "    <tr>\n",
       "      <th>0</th>\n",
       "      <td>0.00</td>\n",
       "      <td>9792.719298</td>\n",
       "      <td>61592.721930</td>\n",
       "      <td>28658.051754</td>\n",
       "      <td>9499.789474</td>\n",
       "      <td>6.659042</td>\n",
       "      <td>3.116209</td>\n",
       "    </tr>\n",
       "    <tr>\n",
       "      <th>1</th>\n",
       "      <td>0.05</td>\n",
       "      <td>9910.500000</td>\n",
       "      <td>66447.570000</td>\n",
       "      <td>29561.445000</td>\n",
       "      <td>9671.250000</td>\n",
       "      <td>6.988726</td>\n",
       "      <td>3.117739</td>\n",
       "    </tr>\n",
       "    <tr>\n",
       "      <th>2</th>\n",
       "      <td>0.10</td>\n",
       "      <td>11406.500000</td>\n",
       "      <td>65471.385000</td>\n",
       "      <td>26911.858614</td>\n",
       "      <td>10618.500000</td>\n",
       "      <td>6.237515</td>\n",
       "      <td>2.575059</td>\n",
       "    </tr>\n",
       "    <tr>\n",
       "      <th>3</th>\n",
       "      <td>0.15</td>\n",
       "      <td>13946.916667</td>\n",
       "      <td>78619.355833</td>\n",
       "      <td>29908.293126</td>\n",
       "      <td>12166.083333</td>\n",
       "      <td>6.497824</td>\n",
       "      <td>2.476214</td>\n",
       "    </tr>\n",
       "    <tr>\n",
       "      <th>4</th>\n",
       "      <td>0.20</td>\n",
       "      <td>20172.545455</td>\n",
       "      <td>90196.638182</td>\n",
       "      <td>28665.256364</td>\n",
       "      <td>15488.181818</td>\n",
       "      <td>5.928078</td>\n",
       "      <td>1.907968</td>\n",
       "    </tr>\n",
       "    <tr>\n",
       "      <th>5</th>\n",
       "      <td>0.30</td>\n",
       "      <td>29073.875000</td>\n",
       "      <td>119509.823750</td>\n",
       "      <td>26375.673750</td>\n",
       "      <td>18594.250000</td>\n",
       "      <td>6.464869</td>\n",
       "      <td>1.443774</td>\n",
       "    </tr>\n",
       "    <tr>\n",
       "      <th>6</th>\n",
       "      <td>0.35</td>\n",
       "      <td>42366.444444</td>\n",
       "      <td>151804.268889</td>\n",
       "      <td>25106.091111</td>\n",
       "      <td>20670.777778</td>\n",
       "      <td>7.354227</td>\n",
       "      <td>1.211480</td>\n",
       "    </tr>\n",
       "    <tr>\n",
       "      <th>7</th>\n",
       "      <td>0.40</td>\n",
       "      <td>45962.090909</td>\n",
       "      <td>164103.142727</td>\n",
       "      <td>16142.933636</td>\n",
       "      <td>22326.000000</td>\n",
       "      <td>7.351316</td>\n",
       "      <td>0.722510</td>\n",
       "    </tr>\n",
       "    <tr>\n",
       "      <th>8</th>\n",
       "      <td>0.45</td>\n",
       "      <td>41056.333333</td>\n",
       "      <td>184342.936667</td>\n",
       "      <td>16011.970000</td>\n",
       "      <td>23154.666667</td>\n",
       "      <td>7.963820</td>\n",
       "      <td>0.691735</td>\n",
       "    </tr>\n",
       "    <tr>\n",
       "      <th>9</th>\n",
       "      <td>0.50</td>\n",
       "      <td>58507.444444</td>\n",
       "      <td>220578.036667</td>\n",
       "      <td>-8151.374444</td>\n",
       "      <td>25597.888889</td>\n",
       "      <td>8.615775</td>\n",
       "      <td>-0.329967</td>\n",
       "    </tr>\n",
       "  </tbody>\n",
       "</table>\n",
       "</div>"
      ],
      "text/plain": [
       "   Discount         Units        Sales $  Gross Margin $  Num_Transact  \\\n",
       "0      0.00   9792.719298   61592.721930    28658.051754   9499.789474   \n",
       "1      0.05   9910.500000   66447.570000    29561.445000   9671.250000   \n",
       "2      0.10  11406.500000   65471.385000    26911.858614  10618.500000   \n",
       "3      0.15  13946.916667   78619.355833    29908.293126  12166.083333   \n",
       "4      0.20  20172.545455   90196.638182    28665.256364  15488.181818   \n",
       "5      0.30  29073.875000  119509.823750    26375.673750  18594.250000   \n",
       "6      0.35  42366.444444  151804.268889    25106.091111  20670.777778   \n",
       "7      0.40  45962.090909  164103.142727    16142.933636  22326.000000   \n",
       "8      0.45  41056.333333  184342.936667    16011.970000  23154.666667   \n",
       "9      0.50  58507.444444  220578.036667    -8151.374444  25597.888889   \n",
       "\n",
       "   Sales/Transact  Margin/Transact  \n",
       "0        6.659042         3.116209  \n",
       "1        6.988726         3.117739  \n",
       "2        6.237515         2.575059  \n",
       "3        6.497824         2.476214  \n",
       "4        5.928078         1.907968  \n",
       "5        6.464869         1.443774  \n",
       "6        7.354227         1.211480  \n",
       "7        7.351316         0.722510  \n",
       "8        7.963820         0.691735  \n",
       "9        8.615775        -0.329967  "
      ]
     },
     "execution_count": 63,
     "metadata": {},
     "output_type": "execute_result"
    }
   ],
   "source": [
    "df_new_top_sales1 = df_new.groupby('Discount')['Units','Sales $','Gross Margin $','Num_Transact','Sales/Transact','Margin/Transact'].mean().reset_index()\n",
    "df_new_top_sales1"
   ]
  },
  {
   "cell_type": "code",
   "execution_count": 64,
   "id": "3cfdce3f",
   "metadata": {},
   "outputs": [
    {
     "data": {
      "image/png": "[encoded data removed]",
      "text/plain": [
       "<Figure size 720x360 with 2 Axes>"
      ]
     },
     "metadata": {
      "needs_background": "light"
     },
     "output_type": "display_data"
    }
   ],
   "source": [
    "corrMatrix = df_new_top_sales1.corr()\n",
    "plt.figure(figsize = (10,5))\n",
    "ax=(sns.heatmap(corrMatrix, annot=True))\n",
    "plt.show()"
   ]
  },
  {
   "cell_type": "code",
   "execution_count": 65,
   "id": "a899e06e",
   "metadata": {},
   "outputs": [
    {
     "name": "stderr",
     "output_type": "stream",
     "text": [
      "C:\\Users\\nim\\AppData\\Local\\Temp/ipykernel_17544/1113507420.py:2: FutureWarning: Indexing with multiple keys (implicitly converted to a tuple of keys) will be deprecated, use a list instead.\n",
      "  df_Aussie_45_project0 = df_Aussie.groupby('Discount')['Units','Sales $','Gross Margin $','Num_Transact','Sales/Transact','Margin/Transact'].mean().reset_index()\n"
     ]
    },
    {
     "data": {
      "image/png": "[encoded data removed]",
      "text/plain": [
       "<Figure size 720x360 with 2 Axes>"
      ]
     },
     "metadata": {
      "needs_background": "light"
     },
     "output_type": "display_data"
    }
   ],
   "source": [
    "#Check the correlation to see Aussie's margin at 45% discount\n",
    "df_Aussie_45_project0 = df_Aussie.groupby('Discount')['Units','Sales $','Gross Margin $','Num_Transact','Sales/Transact','Margin/Transact'].mean().reset_index()\n",
    "corrMatrix = df_Aussie_45_project0.corr()\n",
    "plt.figure(figsize = (10,5))\n",
    "ax=(sns.heatmap(corrMatrix, annot=True))\n",
    "plt.show()"
   ]
  },
  {
   "cell_type": "code",
   "execution_count": 66,
   "id": "c30fdfd5",
   "metadata": {},
   "outputs": [
    {
     "data": {
      "text/html": [
       "<div>\n",
       "<style scoped>\n",
       "    .dataframe tbody tr th:only-of-type {\n",
       "        vertical-align: middle;\n",
       "    }\n",
       "\n",
       "    .dataframe tbody tr th {\n",
       "        vertical-align: top;\n",
       "    }\n",
       "\n",
       "    .dataframe thead th {\n",
       "        text-align: right;\n",
       "    }\n",
       "</style>\n",
       "<table border=\"1\" class=\"dataframe\">\n",
       "  <thead>\n",
       "    <tr style=\"text-align: right;\">\n",
       "      <th></th>\n",
       "      <th>Discount</th>\n",
       "      <th>Units</th>\n",
       "      <th>Sales $</th>\n",
       "      <th>Gross Margin $</th>\n",
       "      <th>Num_Transact</th>\n",
       "      <th>Sales/Transact</th>\n",
       "      <th>Margin/Transact</th>\n",
       "    </tr>\n",
       "  </thead>\n",
       "  <tbody>\n",
       "    <tr>\n",
       "      <th>0</th>\n",
       "      <td>0.00</td>\n",
       "      <td>10909.344828</td>\n",
       "      <td>54437.630690</td>\n",
       "      <td>23891.465172</td>\n",
       "      <td>10565.137931</td>\n",
       "      <td>5.153468</td>\n",
       "      <td>2.261742</td>\n",
       "    </tr>\n",
       "    <tr>\n",
       "      <th>1</th>\n",
       "      <td>0.05</td>\n",
       "      <td>11529.000000</td>\n",
       "      <td>55223.910000</td>\n",
       "      <td>22942.710000</td>\n",
       "      <td>11303.000000</td>\n",
       "      <td>4.885775</td>\n",
       "      <td>2.029789</td>\n",
       "    </tr>\n",
       "    <tr>\n",
       "      <th>2</th>\n",
       "      <td>0.10</td>\n",
       "      <td>12630.000000</td>\n",
       "      <td>56708.700000</td>\n",
       "      <td>21339.947228</td>\n",
       "      <td>11254.000000</td>\n",
       "      <td>5.038982</td>\n",
       "      <td>1.896210</td>\n",
       "    </tr>\n",
       "    <tr>\n",
       "      <th>3</th>\n",
       "      <td>0.15</td>\n",
       "      <td>15437.000000</td>\n",
       "      <td>66224.730000</td>\n",
       "      <td>23264.139503</td>\n",
       "      <td>12631.800000</td>\n",
       "      <td>5.242500</td>\n",
       "      <td>1.841642</td>\n",
       "    </tr>\n",
       "    <tr>\n",
       "      <th>4</th>\n",
       "      <td>0.20</td>\n",
       "      <td>22397.750000</td>\n",
       "      <td>89367.022500</td>\n",
       "      <td>26653.322500</td>\n",
       "      <td>16567.625000</td>\n",
       "      <td>5.402718</td>\n",
       "      <td>1.611337</td>\n",
       "    </tr>\n",
       "    <tr>\n",
       "      <th>5</th>\n",
       "      <td>0.30</td>\n",
       "      <td>35649.555556</td>\n",
       "      <td>124416.948889</td>\n",
       "      <td>24598.193333</td>\n",
       "      <td>20152.666667</td>\n",
       "      <td>6.186040</td>\n",
       "      <td>1.223028</td>\n",
       "    </tr>\n",
       "    <tr>\n",
       "      <th>6</th>\n",
       "      <td>0.35</td>\n",
       "      <td>46487.714286</td>\n",
       "      <td>152944.580000</td>\n",
       "      <td>22778.980000</td>\n",
       "      <td>20435.571429</td>\n",
       "      <td>7.490591</td>\n",
       "      <td>1.115620</td>\n",
       "    </tr>\n",
       "    <tr>\n",
       "      <th>7</th>\n",
       "      <td>0.40</td>\n",
       "      <td>57093.333333</td>\n",
       "      <td>170709.066667</td>\n",
       "      <td>10847.733333</td>\n",
       "      <td>22281.500000</td>\n",
       "      <td>7.661899</td>\n",
       "      <td>0.486877</td>\n",
       "    </tr>\n",
       "    <tr>\n",
       "      <th>8</th>\n",
       "      <td>0.50</td>\n",
       "      <td>77200.000000</td>\n",
       "      <td>192228.000000</td>\n",
       "      <td>-23932.000000</td>\n",
       "      <td>22396.000000</td>\n",
       "      <td>8.583140</td>\n",
       "      <td>-1.068584</td>\n",
       "    </tr>\n",
       "  </tbody>\n",
       "</table>\n",
       "</div>"
      ],
      "text/plain": [
       "   Discount         Units        Sales $  Gross Margin $  Num_Transact  \\\n",
       "0      0.00  10909.344828   54437.630690    23891.465172  10565.137931   \n",
       "1      0.05  11529.000000   55223.910000    22942.710000  11303.000000   \n",
       "2      0.10  12630.000000   56708.700000    21339.947228  11254.000000   \n",
       "3      0.15  15437.000000   66224.730000    23264.139503  12631.800000   \n",
       "4      0.20  22397.750000   89367.022500    26653.322500  16567.625000   \n",
       "5      0.30  35649.555556  124416.948889    24598.193333  20152.666667   \n",
       "6      0.35  46487.714286  152944.580000    22778.980000  20435.571429   \n",
       "7      0.40  57093.333333  170709.066667    10847.733333  22281.500000   \n",
       "8      0.50  77200.000000  192228.000000   -23932.000000  22396.000000   \n",
       "\n",
       "   Sales/Transact  Margin/Transact  \n",
       "0        5.153468         2.261742  \n",
       "1        4.885775         2.029789  \n",
       "2        5.038982         1.896210  \n",
       "3        5.242500         1.841642  \n",
       "4        5.402718         1.611337  \n",
       "5        6.186040         1.223028  \n",
       "6        7.490591         1.115620  \n",
       "7        7.661899         0.486877  \n",
       "8        8.583140        -1.068584  "
      ]
     },
     "execution_count": 66,
     "metadata": {},
     "output_type": "execute_result"
    }
   ],
   "source": [
    "df_Aussie_45_project0"
   ]
  },
  {
   "cell_type": "code",
   "execution_count": 67,
   "id": "3ebd32db",
   "metadata": {},
   "outputs": [],
   "source": [
    "x2= np.array(df_Aussie_45_project0['Discount'].to_list()).reshape((-1, 1))\n",
    "y2 = df_Aussie_45_project0['Sales $'].to_list()"
   ]
  },
  {
   "cell_type": "code",
   "execution_count": 68,
   "id": "a4c74695",
   "metadata": {},
   "outputs": [
    {
     "name": "stdout",
     "output_type": "stream",
     "text": [
      "coefficient of determination: 0.9576177206098813\n",
      "intercept: 35478.14375491621\n",
      "slope: [313637.70485413]\n"
     ]
    }
   ],
   "source": [
    "model.fit(x2, y2)\n",
    "model = LinearRegression().fit(x2, y2)\n",
    "r_sq = model.score(x2, y2)\n",
    "print('coefficient of determination:', r_sq)\n",
    "print('intercept:', model.intercept_)\n",
    "print('slope:', model.coef_)"
   ]
  },
  {
   "cell_type": "code",
   "execution_count": 69,
   "id": "c56fb2bc",
   "metadata": {},
   "outputs": [
    {
     "name": "stdout",
     "output_type": "stream",
     "text": [
      "[0.0, 0.05, 0.1, 0.15, 0.2, 0.3, 0.35, 0.4, 0.45, 0.5]\n"
     ]
    }
   ],
   "source": [
    "list_discount_0= df_Aussie_45_project0['Discount'].to_list()\n",
    "list_discount_0.insert(8,0.45)\n",
    "print(list_discount_0)"
   ]
  },
  {
   "cell_type": "code",
   "execution_count": 70,
   "id": "56d78f1a",
   "metadata": {},
   "outputs": [
    {
     "name": "stdout",
     "output_type": "stream",
     "text": [
      "predicted average sales $ at 45%: 176615.1109392744\n"
     ]
    }
   ],
   "source": [
    "x_new_2 = np.array(list_discount_0).reshape((-1, 1))\n",
    "y_sales_dollar_Aussie = model.predict(x_new_2)\n",
    "print('predicted average sales $ at 45%:', y_sales_dollar_Aussie [8])"
   ]
  },
  {
   "cell_type": "code",
   "execution_count": 71,
   "id": "11f36a85",
   "metadata": {},
   "outputs": [
    {
     "data": {
      "image/png": "[encoded data removed]",
      "text/plain": [
       "<Figure size 576x360 with 1 Axes>"
      ]
     },
     "metadata": {
      "needs_background": "light"
     },
     "output_type": "display_data"
    }
   ],
   "source": [
    "plt.figure(figsize = (8,5))\n",
    "plt.scatter(x2,y2,color = 'r',marker = 'o', s= 30)\n",
    "plt.plot(x_new_2,y_sales_dollar_Aussie,color = 'y')\n",
    "plt.xlabel('Discount') \n",
    "plt.ylabel('AVG Sales Dollar Aussie')\n",
    "plt.title('Linear Regression Discount vs Avg Sales $ for Aussie ')\n",
    "plt.show()"
   ]
  },
  {
   "cell_type": "code",
   "execution_count": 72,
   "id": "867f177b",
   "metadata": {},
   "outputs": [
    {
     "name": "stdout",
     "output_type": "stream",
     "text": [
      "Aussie units sold at 45% discount is:  64352.381468126936\n"
     ]
    }
   ],
   "source": [
    "Aussie_original_price = float(df_Aussie.query(\"Discount == 0\")['Price'].unique())\n",
    "Aussie_units_45 = y_sales_dollar_Aussie[8]/(Aussie_original_price*(1-0.45))\n",
    "print('Aussie units sold at 45% discount is: ',Aussie_units_45)"
   ]
  },
  {
   "cell_type": "code",
   "execution_count": 73,
   "id": "e89cdf8b",
   "metadata": {},
   "outputs": [
    {
     "name": "stdout",
     "output_type": "stream",
     "text": [
      "Aussie gross margin at 45% discount is:  -3490.0969351775334\n"
     ]
    }
   ],
   "source": [
    "Aussie_profit_45_percent = (Aussie_original_price*(1-0.45)-Aussie_cost)/(Aussie_original_price*(1-0.45))\n",
    "Aussie_profit_45 = y_sales_dollar_Aussie [8] * Aussie_profit_45_percent\n",
    "print('Aussie gross margin at 45% discount is: ',Aussie_profit_45)"
   ]
  },
  {
   "cell_type": "code",
   "execution_count": 74,
   "id": "b36ae6e5",
   "metadata": {},
   "outputs": [
    {
     "data": {
      "text/html": [
       "<div>\n",
       "<style scoped>\n",
       "    .dataframe tbody tr th:only-of-type {\n",
       "        vertical-align: middle;\n",
       "    }\n",
       "\n",
       "    .dataframe tbody tr th {\n",
       "        vertical-align: top;\n",
       "    }\n",
       "\n",
       "    .dataframe thead th {\n",
       "        text-align: right;\n",
       "    }\n",
       "</style>\n",
       "<table border=\"1\" class=\"dataframe\">\n",
       "  <thead>\n",
       "    <tr style=\"text-align: right;\">\n",
       "      <th></th>\n",
       "      <th>Discount</th>\n",
       "      <th>Units</th>\n",
       "      <th>Sales $</th>\n",
       "      <th>Gross Margin $</th>\n",
       "    </tr>\n",
       "  </thead>\n",
       "  <tbody>\n",
       "    <tr>\n",
       "      <th>0</th>\n",
       "      <td>0.45</td>\n",
       "      <td>64352.381468</td>\n",
       "      <td>176615.110939</td>\n",
       "      <td>-3490.096935</td>\n",
       "    </tr>\n",
       "  </tbody>\n",
       "</table>\n",
       "</div>"
      ],
      "text/plain": [
       "   Discount         Units        Sales $  Gross Margin $\n",
       "0      0.45  64352.381468  176615.110939    -3490.096935"
      ]
     },
     "execution_count": 74,
     "metadata": {},
     "output_type": "execute_result"
    }
   ],
   "source": [
    "dict_Aussie_45 = {'Discount':[0.45],'Units':[Aussie_units_45],'Sales $':[y_sales_dollar_Aussie [8]],'Gross Margin $':[Aussie_profit_45]}\n",
    "df_Aussie_45 = pd.DataFrame(dict_Aussie_45)\n",
    "df_Aussie_45"
   ]
  },
  {
   "cell_type": "code",
   "execution_count": 75,
   "id": "1502c2fc",
   "metadata": {},
   "outputs": [
    {
     "data": {
      "text/html": [
       "<div>\n",
       "<style scoped>\n",
       "    .dataframe tbody tr th:only-of-type {\n",
       "        vertical-align: middle;\n",
       "    }\n",
       "\n",
       "    .dataframe tbody tr th {\n",
       "        vertical-align: top;\n",
       "    }\n",
       "\n",
       "    .dataframe thead th {\n",
       "        text-align: right;\n",
       "    }\n",
       "</style>\n",
       "<table border=\"1\" class=\"dataframe\">\n",
       "  <thead>\n",
       "    <tr style=\"text-align: right;\">\n",
       "      <th></th>\n",
       "      <th>Discount</th>\n",
       "      <th>Units</th>\n",
       "      <th>Sales $</th>\n",
       "      <th>Gross Margin $</th>\n",
       "    </tr>\n",
       "  </thead>\n",
       "  <tbody>\n",
       "    <tr>\n",
       "      <th>8</th>\n",
       "      <td>0.45</td>\n",
       "      <td>41056.333333</td>\n",
       "      <td>184342.936667</td>\n",
       "      <td>16011.97</td>\n",
       "    </tr>\n",
       "  </tbody>\n",
       "</table>\n",
       "</div>"
      ],
      "text/plain": [
       "   Discount         Units        Sales $  Gross Margin $\n",
       "8      0.45  41056.333333  184342.936667        16011.97"
      ]
     },
     "execution_count": 75,
     "metadata": {},
     "output_type": "execute_result"
    }
   ],
   "source": [
    "df_new_top_sales_45 = df_new_top_sales1.query(\"Discount == 0.45\").drop(['Num_Transact','Sales/Transact','Margin/Transact'],axis = 1)\n",
    "df_new_top_sales_45"
   ]
  },
  {
   "cell_type": "code",
   "execution_count": 76,
   "id": "ec794045",
   "metadata": {},
   "outputs": [
    {
     "data": {
      "text/html": [
       "<div>\n",
       "<style scoped>\n",
       "    .dataframe tbody tr th:only-of-type {\n",
       "        vertical-align: middle;\n",
       "    }\n",
       "\n",
       "    .dataframe tbody tr th {\n",
       "        vertical-align: top;\n",
       "    }\n",
       "\n",
       "    .dataframe thead th {\n",
       "        text-align: right;\n",
       "    }\n",
       "</style>\n",
       "<table border=\"1\" class=\"dataframe\">\n",
       "  <thead>\n",
       "    <tr style=\"text-align: right;\">\n",
       "      <th></th>\n",
       "      <th>Discount</th>\n",
       "      <th>Units</th>\n",
       "      <th>Sales $</th>\n",
       "      <th>Gross Margin $</th>\n",
       "    </tr>\n",
       "  </thead>\n",
       "  <tbody>\n",
       "    <tr>\n",
       "      <th>0</th>\n",
       "      <td>0.45</td>\n",
       "      <td>105408.714801</td>\n",
       "      <td>360958.047606</td>\n",
       "      <td>12521.873065</td>\n",
       "    </tr>\n",
       "  </tbody>\n",
       "</table>\n",
       "</div>"
      ],
      "text/plain": [
       "   Discount          Units        Sales $  Gross Margin $\n",
       "0      0.45  105408.714801  360958.047606    12521.873065"
      ]
     },
     "execution_count": 76,
     "metadata": {},
     "output_type": "execute_result"
    }
   ],
   "source": [
    "dict_both_45 = {'Discount':[0.45],'Units':[float(df_new_top_sales_45['Units'].values)+ Aussie_units_45],'Sales $':[float(df_new_top_sales_45['Sales $'].values)+y_sales_dollar_Aussie [8]],'Gross Margin $':[float(df_new_top_sales_45['Gross Margin $'].values)+Aussie_profit_45]}\n",
    "df_both_45_final = pd.DataFrame(dict_both_45)\n",
    "df_both_45_final\n",
    "# combined numbers with Pantene at 45% and Aussie at 45%"
   ]
  },
  {
   "cell_type": "code",
   "execution_count": 77,
   "id": "6d6a6123",
   "metadata": {},
   "outputs": [
    {
     "name": "stderr",
     "output_type": "stream",
     "text": [
      "C:\\Users\\nim\\AppData\\Local\\Temp/ipykernel_17544/3465215372.py:3: FutureWarning: Indexing with multiple keys (implicitly converted to a tuple of keys) will be deprecated, use a list instead.\n",
      "  df_new_top_sales4 = df_new_top_sales3.groupby('Discount')['Sales $','Gross Margin $'].mean()\n"
     ]
    },
    {
     "data": {
      "text/html": [
       "<div>\n",
       "<style scoped>\n",
       "    .dataframe tbody tr th:only-of-type {\n",
       "        vertical-align: middle;\n",
       "    }\n",
       "\n",
       "    .dataframe tbody tr th {\n",
       "        vertical-align: top;\n",
       "    }\n",
       "\n",
       "    .dataframe thead th {\n",
       "        text-align: right;\n",
       "    }\n",
       "</style>\n",
       "<table border=\"1\" class=\"dataframe\">\n",
       "  <thead>\n",
       "    <tr style=\"text-align: right;\">\n",
       "      <th></th>\n",
       "      <th>Sales $</th>\n",
       "      <th>Gross Margin $</th>\n",
       "    </tr>\n",
       "    <tr>\n",
       "      <th>Discount</th>\n",
       "      <th></th>\n",
       "      <th></th>\n",
       "    </tr>\n",
       "  </thead>\n",
       "  <tbody>\n",
       "    <tr>\n",
       "      <th>0.5</th>\n",
       "      <td>220578.036667</td>\n",
       "      <td>-8151.374444</td>\n",
       "    </tr>\n",
       "  </tbody>\n",
       "</table>\n",
       "</div>"
      ],
      "text/plain": [
       "                Sales $  Gross Margin $\n",
       "Discount                               \n",
       "0.5       220578.036667    -8151.374444"
      ]
     },
     "execution_count": 77,
     "metadata": {},
     "output_type": "execute_result"
    }
   ],
   "source": [
    "df_new_top_sales2 = df_new_top_sales1.sort_values('Sales $',ascending=False)\n",
    "df_new_top_sales3 = df_new_top_sales2.head(1)\n",
    "df_new_top_sales4 = df_new_top_sales3.groupby('Discount')['Sales $','Gross Margin $'].mean()\n",
    "df_new_top_sales4 "
   ]
  },
  {
   "cell_type": "code",
   "execution_count": 78,
   "id": "c796d626",
   "metadata": {},
   "outputs": [
    {
     "name": "stderr",
     "output_type": "stream",
     "text": [
      "C:\\Users\\nim\\AppData\\Local\\Temp/ipykernel_17544/1105616482.py:2: FutureWarning: Indexing with multiple keys (implicitly converted to a tuple of keys) will be deprecated, use a list instead.\n",
      "  df_new_50_Pantene = df_new_50_Pantene_0.groupby('Discount')['Units','Sales $','Gross Margin $'].mean()\n"
     ]
    },
    {
     "data": {
      "text/html": [
       "<div>\n",
       "<style scoped>\n",
       "    .dataframe tbody tr th:only-of-type {\n",
       "        vertical-align: middle;\n",
       "    }\n",
       "\n",
       "    .dataframe tbody tr th {\n",
       "        vertical-align: top;\n",
       "    }\n",
       "\n",
       "    .dataframe thead th {\n",
       "        text-align: right;\n",
       "    }\n",
       "</style>\n",
       "<table border=\"1\" class=\"dataframe\">\n",
       "  <thead>\n",
       "    <tr style=\"text-align: right;\">\n",
       "      <th></th>\n",
       "      <th>Units</th>\n",
       "      <th>Sales $</th>\n",
       "      <th>Gross Margin $</th>\n",
       "    </tr>\n",
       "    <tr>\n",
       "      <th>Discount</th>\n",
       "      <th></th>\n",
       "      <th></th>\n",
       "      <th></th>\n",
       "    </tr>\n",
       "  </thead>\n",
       "  <tbody>\n",
       "    <tr>\n",
       "      <th>0.5</th>\n",
       "      <td>56170.875</td>\n",
       "      <td>224121.79125</td>\n",
       "      <td>-6178.79625</td>\n",
       "    </tr>\n",
       "  </tbody>\n",
       "</table>\n",
       "</div>"
      ],
      "text/plain": [
       "              Units       Sales $  Gross Margin $\n",
       "Discount                                         \n",
       "0.5       56170.875  224121.79125     -6178.79625"
      ]
     },
     "execution_count": 78,
     "metadata": {},
     "output_type": "execute_result"
    }
   ],
   "source": [
    "df_new_50_Pantene_0 = df_new.query(\"Discount==0.5\").drop(index = 105,axis= 0) # drop the record of Aussie at 50% discount\n",
    "df_new_50_Pantene = df_new_50_Pantene_0.groupby('Discount')['Units','Sales $','Gross Margin $'].mean()\n",
    "df_new_50_Pantene"
   ]
  },
  {
   "cell_type": "code",
   "execution_count": 79,
   "id": "4d921bf9",
   "metadata": {},
   "outputs": [
    {
     "name": "stdout",
     "output_type": "stream",
     "text": [
      "-6178.7962499999685\n"
     ]
    }
   ],
   "source": [
    "margin = float(df_new_50_Pantene['Gross Margin $'].values)\n",
    "print(margin)"
   ]
  },
  {
   "cell_type": "code",
   "execution_count": 80,
   "id": "c8e58c6d",
   "metadata": {},
   "outputs": [
    {
     "name": "stderr",
     "output_type": "stream",
     "text": [
      "C:\\Users\\nim\\AppData\\Local\\Temp/ipykernel_17544/513937264.py:1: FutureWarning: Indexing with multiple keys (implicitly converted to a tuple of keys) will be deprecated, use a list instead.\n",
      "  df_Aussie_right_discount = df_Aussie.groupby('Discount')['Units','Sales $','Gross Margin $'].mean()\n"
     ]
    },
    {
     "data": {
      "text/html": [
       "<div>\n",
       "<style scoped>\n",
       "    .dataframe tbody tr th:only-of-type {\n",
       "        vertical-align: middle;\n",
       "    }\n",
       "\n",
       "    .dataframe tbody tr th {\n",
       "        vertical-align: top;\n",
       "    }\n",
       "\n",
       "    .dataframe thead th {\n",
       "        text-align: right;\n",
       "    }\n",
       "</style>\n",
       "<table border=\"1\" class=\"dataframe\">\n",
       "  <thead>\n",
       "    <tr style=\"text-align: right;\">\n",
       "      <th></th>\n",
       "      <th>Units</th>\n",
       "      <th>Sales $</th>\n",
       "      <th>Gross Margin $</th>\n",
       "    </tr>\n",
       "    <tr>\n",
       "      <th>Discount</th>\n",
       "      <th></th>\n",
       "      <th></th>\n",
       "      <th></th>\n",
       "    </tr>\n",
       "  </thead>\n",
       "  <tbody>\n",
       "    <tr>\n",
       "      <th>0.4</th>\n",
       "      <td>57093.333333</td>\n",
       "      <td>170709.066667</td>\n",
       "      <td>10847.733333</td>\n",
       "    </tr>\n",
       "  </tbody>\n",
       "</table>\n",
       "</div>"
      ],
      "text/plain": [
       "                 Units        Sales $  Gross Margin $\n",
       "Discount                                             \n",
       "0.4       57093.333333  170709.066667    10847.733333"
      ]
     },
     "execution_count": 80,
     "metadata": {},
     "output_type": "execute_result"
    }
   ],
   "source": [
    "df_Aussie_right_discount = df_Aussie.groupby('Discount')['Units','Sales $','Gross Margin $'].mean()\n",
    "df_Aussie_right_discount1 = df_Aussie_right_discount.sort_values('Sales $',ascending = False).query(\"`Gross Margin $`>=@margin\")\n",
    "df_Aussie_right_discount2 = df_Aussie_right_discount1.head(1)\n",
    "df_Aussie_right_discount2"
   ]
  },
  {
   "cell_type": "code",
   "execution_count": 81,
   "id": "9fc1bc68",
   "metadata": {},
   "outputs": [
    {
     "data": {
      "image/png": "[encoded data removed]",
      "text/plain": [
       "<Figure size 720x360 with 1 Axes>"
      ]
     },
     "metadata": {
      "needs_background": "light"
     },
     "output_type": "display_data"
    },
    {
     "data": {
      "image/png": "[encoded data removed]",
      "text/plain": [
       "<Figure size 720x360 with 1 Axes>"
      ]
     },
     "metadata": {
      "needs_background": "light"
     },
     "output_type": "display_data"
    }
   ],
   "source": [
    "import seaborn as sns\n",
    "import matplotlib.pyplot as plt\n",
    "list_attribute = ['Sales $','Gross Margin $']\n",
    "for v in list_attribute:\n",
    "    plt.figure(figsize = (10,5))\n",
    "    sns.barplot(x=df_Aussie_right_discount.index,y = v, data =df_Aussie_right_discount)\n",
    "    plt.title(v)\n",
    "    plt.show()"
   ]
  },
  {
   "cell_type": "markdown",
   "id": "4faffad0",
   "metadata": {},
   "source": [
    "Pantene at 50% discount and Aussie at 40% discount can have the maximum sales, \n",
    "at the same time Aussie's margin can cover the negative margin from Pantene discounted at 50%"
   ]
  },
  {
   "cell_type": "code",
   "execution_count": 82,
   "id": "efebc6f0",
   "metadata": {},
   "outputs": [
    {
     "data": {
      "text/html": [
       "<div>\n",
       "<style scoped>\n",
       "    .dataframe tbody tr th:only-of-type {\n",
       "        vertical-align: middle;\n",
       "    }\n",
       "\n",
       "    .dataframe tbody tr th {\n",
       "        vertical-align: top;\n",
       "    }\n",
       "\n",
       "    .dataframe thead th {\n",
       "        text-align: right;\n",
       "    }\n",
       "</style>\n",
       "<table border=\"1\" class=\"dataframe\">\n",
       "  <thead>\n",
       "    <tr style=\"text-align: right;\">\n",
       "      <th></th>\n",
       "      <th>Units</th>\n",
       "      <th>Sales $</th>\n",
       "      <th>Gross Margin $</th>\n",
       "    </tr>\n",
       "    <tr>\n",
       "      <th>Discount</th>\n",
       "      <th></th>\n",
       "      <th></th>\n",
       "      <th></th>\n",
       "    </tr>\n",
       "  </thead>\n",
       "  <tbody>\n",
       "    <tr>\n",
       "      <th>0.4</th>\n",
       "      <td>57093.333333</td>\n",
       "      <td>170709.066667</td>\n",
       "      <td>10847.733333</td>\n",
       "    </tr>\n",
       "    <tr>\n",
       "      <th>0.5</th>\n",
       "      <td>56170.875000</td>\n",
       "      <td>224121.791250</td>\n",
       "      <td>-6178.796250</td>\n",
       "    </tr>\n",
       "  </tbody>\n",
       "</table>\n",
       "</div>"
      ],
      "text/plain": [
       "                 Units        Sales $  Gross Margin $\n",
       "Discount                                             \n",
       "0.4       57093.333333  170709.066667    10847.733333\n",
       "0.5       56170.875000  224121.791250    -6178.796250"
      ]
     },
     "execution_count": 82,
     "metadata": {},
     "output_type": "execute_result"
    }
   ],
   "source": [
    "df_new_top_sales_final = df_new_50_Pantene.add(df_Aussie_right_discount2, fill_value=0)\n",
    "df_new_top_sales_final "
   ]
  },
  {
   "cell_type": "code",
   "execution_count": 83,
   "id": "8c2e56f7",
   "metadata": {},
   "outputs": [
    {
     "name": "stdout",
     "output_type": "stream",
     "text": [
      "Total average maximum units when Pantene at 50% and Aussie at 40%:   113264.20833333334\n",
      "Total average maximum sales when Pantene at 50% and Aussie at 40%:   394830.85791666666\n",
      "Total average maximum gross margin when Pantene at 50% and Aussie at 40%:   4668.937083333378\n"
     ]
    }
   ],
   "source": [
    "print('Total average maximum units when Pantene at 50% and Aussie at 40%:  ', df_new_top_sales_final['Units'].values[0]+ df_new_top_sales_final['Units'].values[1])\n",
    "print('Total average maximum sales when Pantene at 50% and Aussie at 40%:  ', df_new_top_sales_final['Sales $'].values[0]+ df_new_top_sales_final['Sales $'].values[1])\n",
    "print('Total average maximum gross margin when Pantene at 50% and Aussie at 40%:  ', df_new_top_sales_final['Gross Margin $'].values[0]+ df_new_top_sales_final['Gross Margin $'].values[1])"
   ]
  },
  {
   "cell_type": "code",
   "execution_count": 84,
   "id": "248d738d",
   "metadata": {},
   "outputs": [
    {
     "data": {
      "text/html": [
       "<div>\n",
       "<style scoped>\n",
       "    .dataframe tbody tr th:only-of-type {\n",
       "        vertical-align: middle;\n",
       "    }\n",
       "\n",
       "    .dataframe tbody tr th {\n",
       "        vertical-align: top;\n",
       "    }\n",
       "\n",
       "    .dataframe thead th {\n",
       "        text-align: right;\n",
       "    }\n",
       "</style>\n",
       "<table border=\"1\" class=\"dataframe\">\n",
       "  <thead>\n",
       "    <tr style=\"text-align: right;\">\n",
       "      <th></th>\n",
       "      <th>Discount</th>\n",
       "      <th>Units</th>\n",
       "      <th>Sales $</th>\n",
       "      <th>Gross Margin $</th>\n",
       "    </tr>\n",
       "  </thead>\n",
       "  <tbody>\n",
       "    <tr>\n",
       "      <th>0</th>\n",
       "      <td>0.4-0.5</td>\n",
       "      <td>113264.208333</td>\n",
       "      <td>394830.857917</td>\n",
       "      <td>4668.937083</td>\n",
       "    </tr>\n",
       "  </tbody>\n",
       "</table>\n",
       "</div>"
      ],
      "text/plain": [
       "  Discount          Units        Sales $  Gross Margin $\n",
       "0  0.4-0.5  113264.208333  394830.857917     4668.937083"
      ]
     },
     "execution_count": 84,
     "metadata": {},
     "output_type": "execute_result"
    }
   ],
   "source": [
    "dict_40_50 = {'Discount':['0.4-0.5'],'Units':[df_new_top_sales_final['Units'].values[0]+ df_new_top_sales_final['Units'].values[1]],'Sales $':[df_new_top_sales_final['Sales $'].values[0]+ df_new_top_sales_final['Sales $'].values[1]],'Gross Margin $':[df_new_top_sales_final['Gross Margin $'].values[0]+ df_new_top_sales_final['Gross Margin $'].values[1]]}\n",
    "df_Pantene_50_Aussie_40 = pd.DataFrame(dict_40_50)\n",
    "df_Pantene_50_Aussie_40"
   ]
  },
  {
   "attachments": {
    "image.png": {
     "image/png": "[encoded data removed]"
    }
   },
   "cell_type": "markdown",
   "id": "2afebf81",
   "metadata": {},
   "source": [
    "![image.png](attachment:image.png)"
   ]
  },
  {
   "cell_type": "markdown",
   "id": "32fe3f99",
   "metadata": {},
   "source": [
    "Comparing with the result that Pantene and Aussie both sold at 45% discount:\n",
    "\n",
    "- The sales with Pantene sold at 50% and Aussie at 40% is 30,000 higher.\n",
    "- Gross margin with Pantene sold at 50% and Aussie at 40% is lower, but still $ 4668 which is still positive.\n",
    "\n",
    "Conclusion: To maximize sales and not sacrifice margin, we should choose Pantene sold at 50% and Aussie at 40%"
   ]
  },
  {
   "cell_type": "code",
   "execution_count": 85,
   "id": "60938dce",
   "metadata": {},
   "outputs": [],
   "source": [
    "# price = df_Aussie.query(\"Discount==0.4\")['Price'].mean()\n",
    "# description = \"Price of Aussie at 40% discount is at: \"\n",
    "# print(f'{description}{price}')"
   ]
  },
  {
   "cell_type": "code",
   "execution_count": 86,
   "id": "bcc0239b",
   "metadata": {},
   "outputs": [
    {
     "name": "stderr",
     "output_type": "stream",
     "text": [
      "C:\\Users\\nim\\AppData\\Local\\Temp/ipykernel_17544/3574190065.py:1: FutureWarning: Indexing with multiple keys (implicitly converted to a tuple of keys) will be deprecated, use a list instead.\n",
      "  df_max_sales_Pantene = df_Pantene.groupby(['Price','Discount'])['Units','Sales $','Gross Margin $','Num_Transact','Sales/Transact'].mean().reset_index()\n"
     ]
    },
    {
     "data": {
      "text/html": [
       "<div>\n",
       "<style scoped>\n",
       "    .dataframe tbody tr th:only-of-type {\n",
       "        vertical-align: middle;\n",
       "    }\n",
       "\n",
       "    .dataframe tbody tr th {\n",
       "        vertical-align: top;\n",
       "    }\n",
       "\n",
       "    .dataframe thead th {\n",
       "        text-align: right;\n",
       "    }\n",
       "</style>\n",
       "<table border=\"1\" class=\"dataframe\">\n",
       "  <thead>\n",
       "    <tr style=\"text-align: right;\">\n",
       "      <th></th>\n",
       "      <th>Price</th>\n",
       "      <th>Discount</th>\n",
       "      <th>Units</th>\n",
       "      <th>Sales $</th>\n",
       "      <th>Gross Margin $</th>\n",
       "      <th>Num_Transact</th>\n",
       "      <th>Sales/Transact</th>\n",
       "    </tr>\n",
       "  </thead>\n",
       "  <tbody>\n",
       "    <tr>\n",
       "      <th>0</th>\n",
       "      <td>3.99</td>\n",
       "      <td>0.50</td>\n",
       "      <td>56170.875000</td>\n",
       "      <td>224121.791250</td>\n",
       "      <td>-6178.796250</td>\n",
       "      <td>25998.125000</td>\n",
       "      <td>8.619854</td>\n",
       "    </tr>\n",
       "    <tr>\n",
       "      <th>1</th>\n",
       "      <td>4.49</td>\n",
       "      <td>0.45</td>\n",
       "      <td>41056.333333</td>\n",
       "      <td>184342.936667</td>\n",
       "      <td>16011.970000</td>\n",
       "      <td>23154.666667</td>\n",
       "      <td>7.963820</td>\n",
       "    </tr>\n",
       "    <tr>\n",
       "      <th>2</th>\n",
       "      <td>4.79</td>\n",
       "      <td>0.40</td>\n",
       "      <td>32604.600000</td>\n",
       "      <td>156176.034000</td>\n",
       "      <td>22497.174000</td>\n",
       "      <td>22379.400000</td>\n",
       "      <td>6.978616</td>\n",
       "    </tr>\n",
       "    <tr>\n",
       "      <th>3</th>\n",
       "      <td>5.29</td>\n",
       "      <td>0.35</td>\n",
       "      <td>27942.000000</td>\n",
       "      <td>147813.180000</td>\n",
       "      <td>33250.980000</td>\n",
       "      <td>21494.000000</td>\n",
       "      <td>6.876951</td>\n",
       "    </tr>\n",
       "    <tr>\n",
       "      <th>4</th>\n",
       "      <td>5.49</td>\n",
       "      <td>0.30</td>\n",
       "      <td>20619.428571</td>\n",
       "      <td>113200.662857</td>\n",
       "      <td>28661.005714</td>\n",
       "      <td>16590.571429</td>\n",
       "      <td>6.823363</td>\n",
       "    </tr>\n",
       "    <tr>\n",
       "      <th>5</th>\n",
       "      <td>6.49</td>\n",
       "      <td>0.20</td>\n",
       "      <td>14238.666667</td>\n",
       "      <td>92408.946667</td>\n",
       "      <td>34030.413333</td>\n",
       "      <td>12609.666667</td>\n",
       "      <td>7.329036</td>\n",
       "    </tr>\n",
       "    <tr>\n",
       "      <th>6</th>\n",
       "      <td>6.79</td>\n",
       "      <td>0.15</td>\n",
       "      <td>12882.571429</td>\n",
       "      <td>87472.660000</td>\n",
       "      <td>34654.117143</td>\n",
       "      <td>11833.428571</td>\n",
       "      <td>7.394484</td>\n",
       "    </tr>\n",
       "    <tr>\n",
       "      <th>7</th>\n",
       "      <td>7.29</td>\n",
       "      <td>0.10</td>\n",
       "      <td>10183.000000</td>\n",
       "      <td>74234.070000</td>\n",
       "      <td>32483.770000</td>\n",
       "      <td>9983.000000</td>\n",
       "      <td>7.436048</td>\n",
       "    </tr>\n",
       "    <tr>\n",
       "      <th>8</th>\n",
       "      <td>7.49</td>\n",
       "      <td>0.05</td>\n",
       "      <td>9371.000000</td>\n",
       "      <td>70188.790000</td>\n",
       "      <td>31767.690000</td>\n",
       "      <td>9127.333333</td>\n",
       "      <td>7.689710</td>\n",
       "    </tr>\n",
       "    <tr>\n",
       "      <th>9</th>\n",
       "      <td>7.99</td>\n",
       "      <td>0.00</td>\n",
       "      <td>8636.214286</td>\n",
       "      <td>69003.352143</td>\n",
       "      <td>33594.873571</td>\n",
       "      <td>8396.392857</td>\n",
       "      <td>8.218387</td>\n",
       "    </tr>\n",
       "  </tbody>\n",
       "</table>\n",
       "</div>"
      ],
      "text/plain": [
       "   Price  Discount         Units        Sales $  Gross Margin $  Num_Transact  \\\n",
       "0   3.99      0.50  56170.875000  224121.791250    -6178.796250  25998.125000   \n",
       "1   4.49      0.45  41056.333333  184342.936667    16011.970000  23154.666667   \n",
       "2   4.79      0.40  32604.600000  156176.034000    22497.174000  22379.400000   \n",
       "3   5.29      0.35  27942.000000  147813.180000    33250.980000  21494.000000   \n",
       "4   5.49      0.30  20619.428571  113200.662857    28661.005714  16590.571429   \n",
       "5   6.49      0.20  14238.666667   92408.946667    34030.413333  12609.666667   \n",
       "6   6.79      0.15  12882.571429   87472.660000    34654.117143  11833.428571   \n",
       "7   7.29      0.10  10183.000000   74234.070000    32483.770000   9983.000000   \n",
       "8   7.49      0.05   9371.000000   70188.790000    31767.690000   9127.333333   \n",
       "9   7.99      0.00   8636.214286   69003.352143    33594.873571   8396.392857   \n",
       "\n",
       "   Sales/Transact  \n",
       "0        8.619854  \n",
       "1        7.963820  \n",
       "2        6.978616  \n",
       "3        6.876951  \n",
       "4        6.823363  \n",
       "5        7.329036  \n",
       "6        7.394484  \n",
       "7        7.436048  \n",
       "8        7.689710  \n",
       "9        8.218387  "
      ]
     },
     "execution_count": 86,
     "metadata": {},
     "output_type": "execute_result"
    }
   ],
   "source": [
    "df_max_sales_Pantene = df_Pantene.groupby(['Price','Discount'])['Units','Sales $','Gross Margin $','Num_Transact','Sales/Transact'].mean().reset_index()\n",
    "df_max_sales_Pantene"
   ]
  },
  {
   "cell_type": "code",
   "execution_count": 87,
   "id": "cd6c4039",
   "metadata": {},
   "outputs": [
    {
     "data": {
      "text/plain": [
       "-6178.7962499999685"
      ]
     },
     "execution_count": 87,
     "metadata": {},
     "output_type": "execute_result"
    }
   ],
   "source": [
    "minimum_margin_Aussie = df_max_sales_Pantene['Gross Margin $'].values[0]\n",
    "minimum_margin_Aussie\n",
    "# for Aussie, we need to find a price point that can cover the negative margin when selling Pantene at 50% discount which generates maximum sales\n",
    "# Aussie is at negative margin when sold at 45%. so it has to be higher than 45% and lower than 40%"
   ]
  },
  {
   "cell_type": "code",
   "execution_count": 88,
   "id": "37565468",
   "metadata": {},
   "outputs": [
    {
     "name": "stderr",
     "output_type": "stream",
     "text": [
      "C:\\Users\\nim\\AppData\\Local\\Temp/ipykernel_17544/3749224345.py:1: FutureWarning: Indexing with multiple keys (implicitly converted to a tuple of keys) will be deprecated, use a list instead.\n",
      "  df_max_sales_Aussie = df_Aussie.groupby(['Price','Discount'])['Units','Sales $','Gross Margin $','Num_Transact','Sales/Transact'].mean().reset_index()\n"
     ]
    },
    {
     "data": {
      "text/html": [
       "<div>\n",
       "<style scoped>\n",
       "    .dataframe tbody tr th:only-of-type {\n",
       "        vertical-align: middle;\n",
       "    }\n",
       "\n",
       "    .dataframe tbody tr th {\n",
       "        vertical-align: top;\n",
       "    }\n",
       "\n",
       "    .dataframe thead th {\n",
       "        text-align: right;\n",
       "    }\n",
       "</style>\n",
       "<table border=\"1\" class=\"dataframe\">\n",
       "  <thead>\n",
       "    <tr style=\"text-align: right;\">\n",
       "      <th></th>\n",
       "      <th>Price</th>\n",
       "      <th>Discount</th>\n",
       "      <th>Units</th>\n",
       "      <th>Sales $</th>\n",
       "      <th>Gross Margin $</th>\n",
       "      <th>Num_Transact</th>\n",
       "      <th>Sales/Transact</th>\n",
       "    </tr>\n",
       "  </thead>\n",
       "  <tbody>\n",
       "    <tr>\n",
       "      <th>0</th>\n",
       "      <td>2.49</td>\n",
       "      <td>0.50</td>\n",
       "      <td>77200.000000</td>\n",
       "      <td>192228.000000</td>\n",
       "      <td>-23932.000000</td>\n",
       "      <td>22396.000000</td>\n",
       "      <td>8.583140</td>\n",
       "    </tr>\n",
       "    <tr>\n",
       "      <th>1</th>\n",
       "      <td>2.99</td>\n",
       "      <td>0.40</td>\n",
       "      <td>57093.333333</td>\n",
       "      <td>170709.066667</td>\n",
       "      <td>10847.733333</td>\n",
       "      <td>22281.500000</td>\n",
       "      <td>7.661899</td>\n",
       "    </tr>\n",
       "    <tr>\n",
       "      <th>2</th>\n",
       "      <td>3.29</td>\n",
       "      <td>0.35</td>\n",
       "      <td>46487.714286</td>\n",
       "      <td>152944.580000</td>\n",
       "      <td>22778.980000</td>\n",
       "      <td>20435.571429</td>\n",
       "      <td>7.490591</td>\n",
       "    </tr>\n",
       "    <tr>\n",
       "      <th>3</th>\n",
       "      <td>3.49</td>\n",
       "      <td>0.30</td>\n",
       "      <td>35649.555556</td>\n",
       "      <td>124416.948889</td>\n",
       "      <td>24598.193333</td>\n",
       "      <td>20152.666667</td>\n",
       "      <td>6.186040</td>\n",
       "    </tr>\n",
       "    <tr>\n",
       "      <th>4</th>\n",
       "      <td>3.99</td>\n",
       "      <td>0.20</td>\n",
       "      <td>22397.750000</td>\n",
       "      <td>89367.022500</td>\n",
       "      <td>26653.322500</td>\n",
       "      <td>16567.625000</td>\n",
       "      <td>5.402718</td>\n",
       "    </tr>\n",
       "    <tr>\n",
       "      <th>5</th>\n",
       "      <td>4.29</td>\n",
       "      <td>0.15</td>\n",
       "      <td>15437.000000</td>\n",
       "      <td>66224.730000</td>\n",
       "      <td>23264.139503</td>\n",
       "      <td>12631.800000</td>\n",
       "      <td>5.242500</td>\n",
       "    </tr>\n",
       "    <tr>\n",
       "      <th>6</th>\n",
       "      <td>4.49</td>\n",
       "      <td>0.10</td>\n",
       "      <td>12630.000000</td>\n",
       "      <td>56708.700000</td>\n",
       "      <td>21339.947228</td>\n",
       "      <td>11254.000000</td>\n",
       "      <td>5.038982</td>\n",
       "    </tr>\n",
       "    <tr>\n",
       "      <th>7</th>\n",
       "      <td>4.79</td>\n",
       "      <td>0.05</td>\n",
       "      <td>11529.000000</td>\n",
       "      <td>55223.910000</td>\n",
       "      <td>22942.710000</td>\n",
       "      <td>11303.000000</td>\n",
       "      <td>4.885775</td>\n",
       "    </tr>\n",
       "    <tr>\n",
       "      <th>8</th>\n",
       "      <td>4.99</td>\n",
       "      <td>0.00</td>\n",
       "      <td>10909.344828</td>\n",
       "      <td>54437.630690</td>\n",
       "      <td>23891.465172</td>\n",
       "      <td>10565.137931</td>\n",
       "      <td>5.153468</td>\n",
       "    </tr>\n",
       "  </tbody>\n",
       "</table>\n",
       "</div>"
      ],
      "text/plain": [
       "   Price  Discount         Units        Sales $  Gross Margin $  Num_Transact  \\\n",
       "0   2.49      0.50  77200.000000  192228.000000   -23932.000000  22396.000000   \n",
       "1   2.99      0.40  57093.333333  170709.066667    10847.733333  22281.500000   \n",
       "2   3.29      0.35  46487.714286  152944.580000    22778.980000  20435.571429   \n",
       "3   3.49      0.30  35649.555556  124416.948889    24598.193333  20152.666667   \n",
       "4   3.99      0.20  22397.750000   89367.022500    26653.322500  16567.625000   \n",
       "5   4.29      0.15  15437.000000   66224.730000    23264.139503  12631.800000   \n",
       "6   4.49      0.10  12630.000000   56708.700000    21339.947228  11254.000000   \n",
       "7   4.79      0.05  11529.000000   55223.910000    22942.710000  11303.000000   \n",
       "8   4.99      0.00  10909.344828   54437.630690    23891.465172  10565.137931   \n",
       "\n",
       "   Sales/Transact  \n",
       "0        8.583140  \n",
       "1        7.661899  \n",
       "2        7.490591  \n",
       "3        6.186040  \n",
       "4        5.402718  \n",
       "5        5.242500  \n",
       "6        5.038982  \n",
       "7        4.885775  \n",
       "8        5.153468  "
      ]
     },
     "execution_count": 88,
     "metadata": {},
     "output_type": "execute_result"
    }
   ],
   "source": [
    "df_max_sales_Aussie = df_Aussie.groupby(['Price','Discount'])['Units','Sales $','Gross Margin $','Num_Transact','Sales/Transact'].mean().reset_index()\n",
    "df_max_sales_Aussie"
   ]
  },
  {
   "cell_type": "code",
   "execution_count": 89,
   "id": "7e81f424",
   "metadata": {},
   "outputs": [
    {
     "data": {
      "text/html": [
       "<div>\n",
       "<style scoped>\n",
       "    .dataframe tbody tr th:only-of-type {\n",
       "        vertical-align: middle;\n",
       "    }\n",
       "\n",
       "    .dataframe tbody tr th {\n",
       "        vertical-align: top;\n",
       "    }\n",
       "\n",
       "    .dataframe thead th {\n",
       "        text-align: right;\n",
       "    }\n",
       "</style>\n",
       "<table border=\"1\" class=\"dataframe\">\n",
       "  <thead>\n",
       "    <tr style=\"text-align: right;\">\n",
       "      <th></th>\n",
       "      <th>Price</th>\n",
       "      <th>Discount</th>\n",
       "      <th>Units</th>\n",
       "      <th>Sales $</th>\n",
       "      <th>Gross Margin $</th>\n",
       "      <th>Num_Transact</th>\n",
       "      <th>Sales/Transact</th>\n",
       "    </tr>\n",
       "  </thead>\n",
       "  <tbody>\n",
       "    <tr>\n",
       "      <th>Price</th>\n",
       "      <td>1.000000</td>\n",
       "      <td>-0.999588</td>\n",
       "      <td>-0.967572</td>\n",
       "      <td>-0.978787</td>\n",
       "      <td>0.690641</td>\n",
       "      <td>-0.967668</td>\n",
       "      <td>-0.946785</td>\n",
       "    </tr>\n",
       "    <tr>\n",
       "      <th>Discount</th>\n",
       "      <td>-0.999588</td>\n",
       "      <td>1.000000</td>\n",
       "      <td>0.966432</td>\n",
       "      <td>0.978579</td>\n",
       "      <td>-0.686530</td>\n",
       "      <td>0.966588</td>\n",
       "      <td>0.947688</td>\n",
       "    </tr>\n",
       "    <tr>\n",
       "      <th>Units</th>\n",
       "      <td>-0.967572</td>\n",
       "      <td>0.966432</td>\n",
       "      <td>1.000000</td>\n",
       "      <td>0.984752</td>\n",
       "      <td>-0.805665</td>\n",
       "      <td>0.922255</td>\n",
       "      <td>0.986454</td>\n",
       "    </tr>\n",
       "    <tr>\n",
       "      <th>Sales $</th>\n",
       "      <td>-0.978787</td>\n",
       "      <td>0.978579</td>\n",
       "      <td>0.984752</td>\n",
       "      <td>1.000000</td>\n",
       "      <td>-0.690333</td>\n",
       "      <td>0.968551</td>\n",
       "      <td>0.982990</td>\n",
       "    </tr>\n",
       "    <tr>\n",
       "      <th>Gross Margin $</th>\n",
       "      <td>0.690641</td>\n",
       "      <td>-0.686530</td>\n",
       "      <td>-0.805665</td>\n",
       "      <td>-0.690333</td>\n",
       "      <td>1.000000</td>\n",
       "      <td>-0.537491</td>\n",
       "      <td>-0.755260</td>\n",
       "    </tr>\n",
       "    <tr>\n",
       "      <th>Num_Transact</th>\n",
       "      <td>-0.967668</td>\n",
       "      <td>0.966588</td>\n",
       "      <td>0.922255</td>\n",
       "      <td>0.968551</td>\n",
       "      <td>-0.537491</td>\n",
       "      <td>1.000000</td>\n",
       "      <td>0.908428</td>\n",
       "    </tr>\n",
       "    <tr>\n",
       "      <th>Sales/Transact</th>\n",
       "      <td>-0.946785</td>\n",
       "      <td>0.947688</td>\n",
       "      <td>0.986454</td>\n",
       "      <td>0.982990</td>\n",
       "      <td>-0.755260</td>\n",
       "      <td>0.908428</td>\n",
       "      <td>1.000000</td>\n",
       "    </tr>\n",
       "  </tbody>\n",
       "</table>\n",
       "</div>"
      ],
      "text/plain": [
       "                   Price  Discount     Units   Sales $  Gross Margin $  \\\n",
       "Price           1.000000 -0.999588 -0.967572 -0.978787        0.690641   \n",
       "Discount       -0.999588  1.000000  0.966432  0.978579       -0.686530   \n",
       "Units          -0.967572  0.966432  1.000000  0.984752       -0.805665   \n",
       "Sales $        -0.978787  0.978579  0.984752  1.000000       -0.690333   \n",
       "Gross Margin $  0.690641 -0.686530 -0.805665 -0.690333        1.000000   \n",
       "Num_Transact   -0.967668  0.966588  0.922255  0.968551       -0.537491   \n",
       "Sales/Transact -0.946785  0.947688  0.986454  0.982990       -0.755260   \n",
       "\n",
       "                Num_Transact  Sales/Transact  \n",
       "Price              -0.967668       -0.946785  \n",
       "Discount            0.966588        0.947688  \n",
       "Units               0.922255        0.986454  \n",
       "Sales $             0.968551        0.982990  \n",
       "Gross Margin $     -0.537491       -0.755260  \n",
       "Num_Transact        1.000000        0.908428  \n",
       "Sales/Transact      0.908428        1.000000  "
      ]
     },
     "execution_count": 89,
     "metadata": {},
     "output_type": "execute_result"
    }
   ],
   "source": [
    "df_max_sales_Aussie.corr()"
   ]
  },
  {
   "cell_type": "code",
   "execution_count": 90,
   "id": "574493d7",
   "metadata": {},
   "outputs": [
    {
     "name": "stdout",
     "output_type": "stream",
     "text": [
      "coefficient of determination: 0.9580243086276217\n",
      "intercept: 348090.82347423956\n",
      "slope: [-62354.40455395]\n"
     ]
    }
   ],
   "source": [
    "from sklearn.linear_model import LinearRegression\n",
    "a= np.array(df_max_sales_Aussie['Price'].to_list()).reshape((-1, 1))\n",
    "b = df_max_sales_Aussie['Sales $'].to_list()\n",
    "model = LinearRegression()\n",
    "model.fit(a, b)\n",
    "model = LinearRegression().fit(a, b)\n",
    "r_sq = model.score(a, b)\n",
    "print('coefficient of determination:', r_sq)\n",
    "print('intercept:', model.intercept_)\n",
    "print('slope:', model.coef_)"
   ]
  },
  {
   "cell_type": "code",
   "execution_count": 91,
   "id": "423cadfa",
   "metadata": {},
   "outputs": [
    {
     "name": "stdout",
     "output_type": "stream",
     "text": [
      "Aussie projection is:  2.9441000000000006\n"
     ]
    }
   ],
   "source": [
    "df_max_sales_Aussie['Price'].values\n",
    "# Since Aussie at 45% is at negative margin, we'll calculate Aussie's margin at 41% discount\n",
    "Aussie_price_projection = Aussie_original_price * (1-0.41)\n",
    "print('Aussie projection is: ',Aussie_price_projection)"
   ]
  },
  {
   "cell_type": "code",
   "execution_count": 92,
   "id": "5d9f7f6b",
   "metadata": {},
   "outputs": [
    {
     "name": "stdout",
     "output_type": "stream",
     "text": [
      "predicted average number of transactions: 164513.22102695992\n"
     ]
    }
   ],
   "source": [
    "Aussie_projection_list = [2.49, Aussie_price_projection,2.99, 3.29, 3.49, 3.99, 4.29, 4.49, 4.79, 4.99]\n",
    "x3_new = np.array(Aussie_projection_list).reshape((-1,1))\n",
    "y_sales_Aussie = model.predict(x3_new)\n",
    "print('predicted average number of transactions:', y_sales_Aussie[1])"
   ]
  },
  {
   "cell_type": "code",
   "execution_count": 93,
   "id": "08b2678a",
   "metadata": {},
   "outputs": [
    {
     "data": {
      "image/png": "[encoded data removed]",
      "text/plain": [
       "<Figure size 576x360 with 1 Axes>"
      ]
     },
     "metadata": {
      "needs_background": "light"
     },
     "output_type": "display_data"
    }
   ],
   "source": [
    "plt.figure(figsize = (8,5))\n",
    "plt.scatter(a,b,color = 'r',marker = 'o', s= 30)\n",
    "plt.plot(x3_new,y_sales_Aussie,color = 'g')\n",
    "plt.xlabel('Price') \n",
    "plt.ylabel('Sales $')\n",
    "plt.title('Linear Regression Aussie Price vs Sales $')\n",
    "plt.show()"
   ]
  },
  {
   "cell_type": "code",
   "execution_count": 94,
   "id": "e2923df5",
   "metadata": {},
   "outputs": [
    {
     "name": "stdout",
     "output_type": "stream",
     "text": [
      "Aussie profit rate is:  0.04937530875022509\n",
      "Aussie margin at projection is: 8122.891081700168\n"
     ]
    }
   ],
   "source": [
    "Aussie_profit_rate_projection = (Aussie_price_projection -Aussie_cost )/Aussie_price_projection\n",
    "print('Aussie profit rate is: ',Aussie_profit_rate_projection)\n",
    "Aussie_margin_projection = y_sales_Aussie[1] * Aussie_profit_rate_projection\n",
    "print('Aussie margin at projection is:',Aussie_margin_projection)"
   ]
  },
  {
   "cell_type": "code",
   "execution_count": 95,
   "id": "fd5eee85",
   "metadata": {},
   "outputs": [
    {
     "name": "stdout",
     "output_type": "stream",
     "text": [
      "total margin when Pantene sold at 50% and Aussie at 41% is:  1944.0948317001994\n",
      "total sales $ when Pantene sold at 50% and Aussie at 41% is:  388635.01227695995\n"
     ]
    }
   ],
   "source": [
    "# Pantene sold at 50% and Aussie at 41% total margin = \n",
    "total_margin_41_50 = Aussie_margin_projection + minimum_margin_Aussie\n",
    "print('total margin when Pantene sold at 50% and Aussie at 41% is: ',total_margin_41_50)\n",
    "total_sales_41_50 = y_sales_Aussie[1] + df_max_sales_Pantene['Sales $'].values[0]\n",
    "print('total sales $ when Pantene sold at 50% and Aussie at 41% is: ',total_sales_41_50)"
   ]
  },
  {
   "attachments": {
    "image.png": {
     "image/png": "[encoded data removed]"
    }
   },
   "cell_type": "markdown",
   "id": "b1c37c23",
   "metadata": {},
   "source": [
    "![image.png](attachment:image.png)"
   ]
  },
  {
   "cell_type": "markdown",
   "id": "10f386b6",
   "metadata": {},
   "source": [
    "There could be deviation/discrepancy from the sales deduced from linear regression so the 41% sales is lower than 40% sales.\n",
    "In common sense, we'll go with Aussie selling at 40% and Pantene selling at 50% to maximize sales while keep margin positive"
   ]
  },
  {
   "cell_type": "markdown",
   "id": "7e438e28",
   "metadata": {},
   "source": [
    "###### Aussie Shampoo sold at $2.49 is a “loss leader” promotion. We lose money selling it at this price, but hope that people who came to buy it will purchase other items."
   ]
  },
  {
   "cell_type": "code",
   "execution_count": 96,
   "id": "12d85494",
   "metadata": {},
   "outputs": [
    {
     "name": "stderr",
     "output_type": "stream",
     "text": [
      "C:\\Users\\nim\\AppData\\Local\\Temp/ipykernel_17544/805475596.py:1: FutureWarning: Indexing with multiple keys (implicitly converted to a tuple of keys) will be deprecated, use a list instead.\n",
      "  df_Aussie_discount = df_Aussie.groupby('Discount')['Units','Sales $','Gross Margin $','Num_Transact','Sales/Transact','Margin/Transact'].mean()\n"
     ]
    },
    {
     "data": {
      "text/html": [
       "<div>\n",
       "<style scoped>\n",
       "    .dataframe tbody tr th:only-of-type {\n",
       "        vertical-align: middle;\n",
       "    }\n",
       "\n",
       "    .dataframe tbody tr th {\n",
       "        vertical-align: top;\n",
       "    }\n",
       "\n",
       "    .dataframe thead th {\n",
       "        text-align: right;\n",
       "    }\n",
       "</style>\n",
       "<table border=\"1\" class=\"dataframe\">\n",
       "  <thead>\n",
       "    <tr style=\"text-align: right;\">\n",
       "      <th></th>\n",
       "      <th>Units</th>\n",
       "      <th>Sales $</th>\n",
       "      <th>Gross Margin $</th>\n",
       "      <th>Num_Transact</th>\n",
       "      <th>Sales/Transact</th>\n",
       "      <th>Margin/Transact</th>\n",
       "    </tr>\n",
       "    <tr>\n",
       "      <th>Discount</th>\n",
       "      <th></th>\n",
       "      <th></th>\n",
       "      <th></th>\n",
       "      <th></th>\n",
       "      <th></th>\n",
       "      <th></th>\n",
       "    </tr>\n",
       "  </thead>\n",
       "  <tbody>\n",
       "    <tr>\n",
       "      <th>0.5</th>\n",
       "      <td>77200.0</td>\n",
       "      <td>192228.0</td>\n",
       "      <td>-23932.0</td>\n",
       "      <td>22396.0</td>\n",
       "      <td>8.58314</td>\n",
       "      <td>-1.068584</td>\n",
       "    </tr>\n",
       "  </tbody>\n",
       "</table>\n",
       "</div>"
      ],
      "text/plain": [
       "            Units   Sales $  Gross Margin $  Num_Transact  Sales/Transact  \\\n",
       "Discount                                                                    \n",
       "0.5       77200.0  192228.0        -23932.0       22396.0         8.58314   \n",
       "\n",
       "          Margin/Transact  \n",
       "Discount                   \n",
       "0.5             -1.068584  "
      ]
     },
     "execution_count": 96,
     "metadata": {},
     "output_type": "execute_result"
    }
   ],
   "source": [
    "df_Aussie_discount = df_Aussie.groupby('Discount')['Units','Sales $','Gross Margin $','Num_Transact','Sales/Transact','Margin/Transact'].mean()\n",
    "df_Aussie_discount.query(\"Discount==0.5\")"
   ]
  },
  {
   "cell_type": "code",
   "execution_count": 97,
   "id": "f6124b0a",
   "metadata": {},
   "outputs": [
    {
     "name": "stderr",
     "output_type": "stream",
     "text": [
      "C:\\Users\\nim\\AppData\\Local\\Temp/ipykernel_17544/4245551420.py:1: FutureWarning: Indexing with multiple keys (implicitly converted to a tuple of keys) will be deprecated, use a list instead.\n",
      "  df_new_2 = df_new.groupby(['Discount','Product'])['Price','Units','Sales $','Gross Margin $','Num_Transact','Sales/Transact','Margin/Transact'].mean()\n"
     ]
    },
    {
     "data": {
      "text/html": [
       "<div>\n",
       "<style scoped>\n",
       "    .dataframe tbody tr th:only-of-type {\n",
       "        vertical-align: middle;\n",
       "    }\n",
       "\n",
       "    .dataframe tbody tr th {\n",
       "        vertical-align: top;\n",
       "    }\n",
       "\n",
       "    .dataframe thead th {\n",
       "        text-align: right;\n",
       "    }\n",
       "</style>\n",
       "<table border=\"1\" class=\"dataframe\">\n",
       "  <thead>\n",
       "    <tr style=\"text-align: right;\">\n",
       "      <th></th>\n",
       "      <th></th>\n",
       "      <th>Price</th>\n",
       "      <th>Units</th>\n",
       "      <th>Sales $</th>\n",
       "      <th>Gross Margin $</th>\n",
       "      <th>Num_Transact</th>\n",
       "      <th>Sales/Transact</th>\n",
       "      <th>Margin/Transact</th>\n",
       "    </tr>\n",
       "    <tr>\n",
       "      <th>Discount</th>\n",
       "      <th>Product</th>\n",
       "      <th></th>\n",
       "      <th></th>\n",
       "      <th></th>\n",
       "      <th></th>\n",
       "      <th></th>\n",
       "      <th></th>\n",
       "      <th></th>\n",
       "    </tr>\n",
       "  </thead>\n",
       "  <tbody>\n",
       "    <tr>\n",
       "      <th>0.50</th>\n",
       "      <th>Pantene</th>\n",
       "      <td>3.99</td>\n",
       "      <td>56170.875000</td>\n",
       "      <td>224121.791250</td>\n",
       "      <td>-6178.796250</td>\n",
       "      <td>25998.125000</td>\n",
       "      <td>8.619854</td>\n",
       "      <td>-0.237640</td>\n",
       "    </tr>\n",
       "    <tr>\n",
       "      <th>0.45</th>\n",
       "      <th>Pantene</th>\n",
       "      <td>4.49</td>\n",
       "      <td>41056.333333</td>\n",
       "      <td>184342.936667</td>\n",
       "      <td>16011.970000</td>\n",
       "      <td>23154.666667</td>\n",
       "      <td>7.963820</td>\n",
       "      <td>0.691735</td>\n",
       "    </tr>\n",
       "    <tr>\n",
       "      <th>0.50</th>\n",
       "      <th>Aussie</th>\n",
       "      <td>2.49</td>\n",
       "      <td>77200.000000</td>\n",
       "      <td>192228.000000</td>\n",
       "      <td>-23932.000000</td>\n",
       "      <td>22396.000000</td>\n",
       "      <td>8.583140</td>\n",
       "      <td>-1.068584</td>\n",
       "    </tr>\n",
       "    <tr>\n",
       "      <th rowspan=\"2\" valign=\"top\">0.40</th>\n",
       "      <th>Pantene</th>\n",
       "      <td>4.79</td>\n",
       "      <td>32604.600000</td>\n",
       "      <td>156176.034000</td>\n",
       "      <td>22497.174000</td>\n",
       "      <td>22379.400000</td>\n",
       "      <td>6.978616</td>\n",
       "      <td>1.005270</td>\n",
       "    </tr>\n",
       "    <tr>\n",
       "      <th>Aussie</th>\n",
       "      <td>2.99</td>\n",
       "      <td>57093.333333</td>\n",
       "      <td>170709.066667</td>\n",
       "      <td>10847.733333</td>\n",
       "      <td>22281.500000</td>\n",
       "      <td>7.661899</td>\n",
       "      <td>0.486877</td>\n",
       "    </tr>\n",
       "    <tr>\n",
       "      <th rowspan=\"2\" valign=\"top\">0.35</th>\n",
       "      <th>Pantene</th>\n",
       "      <td>5.29</td>\n",
       "      <td>27942.000000</td>\n",
       "      <td>147813.180000</td>\n",
       "      <td>33250.980000</td>\n",
       "      <td>21494.000000</td>\n",
       "      <td>6.876951</td>\n",
       "      <td>1.546989</td>\n",
       "    </tr>\n",
       "    <tr>\n",
       "      <th>Aussie</th>\n",
       "      <td>3.29</td>\n",
       "      <td>46487.714286</td>\n",
       "      <td>152944.580000</td>\n",
       "      <td>22778.980000</td>\n",
       "      <td>20435.571429</td>\n",
       "      <td>7.490591</td>\n",
       "      <td>1.115620</td>\n",
       "    </tr>\n",
       "    <tr>\n",
       "      <th rowspan=\"2\" valign=\"top\">0.30</th>\n",
       "      <th>Aussie</th>\n",
       "      <td>3.49</td>\n",
       "      <td>35649.555556</td>\n",
       "      <td>124416.948889</td>\n",
       "      <td>24598.193333</td>\n",
       "      <td>20152.666667</td>\n",
       "      <td>6.186040</td>\n",
       "      <td>1.223028</td>\n",
       "    </tr>\n",
       "    <tr>\n",
       "      <th>Pantene</th>\n",
       "      <td>5.49</td>\n",
       "      <td>20619.428571</td>\n",
       "      <td>113200.662857</td>\n",
       "      <td>28661.005714</td>\n",
       "      <td>16590.571429</td>\n",
       "      <td>6.823363</td>\n",
       "      <td>1.727591</td>\n",
       "    </tr>\n",
       "    <tr>\n",
       "      <th>0.20</th>\n",
       "      <th>Aussie</th>\n",
       "      <td>3.99</td>\n",
       "      <td>22397.750000</td>\n",
       "      <td>89367.022500</td>\n",
       "      <td>26653.322500</td>\n",
       "      <td>16567.625000</td>\n",
       "      <td>5.402718</td>\n",
       "      <td>1.611337</td>\n",
       "    </tr>\n",
       "    <tr>\n",
       "      <th>0.15</th>\n",
       "      <th>Aussie</th>\n",
       "      <td>4.29</td>\n",
       "      <td>15437.000000</td>\n",
       "      <td>66224.730000</td>\n",
       "      <td>23264.139503</td>\n",
       "      <td>12631.800000</td>\n",
       "      <td>5.242500</td>\n",
       "      <td>1.841642</td>\n",
       "    </tr>\n",
       "    <tr>\n",
       "      <th>0.20</th>\n",
       "      <th>Pantene</th>\n",
       "      <td>6.49</td>\n",
       "      <td>14238.666667</td>\n",
       "      <td>92408.946667</td>\n",
       "      <td>34030.413333</td>\n",
       "      <td>12609.666667</td>\n",
       "      <td>7.329036</td>\n",
       "      <td>2.698982</td>\n",
       "    </tr>\n",
       "    <tr>\n",
       "      <th>0.15</th>\n",
       "      <th>Pantene</th>\n",
       "      <td>6.79</td>\n",
       "      <td>12882.571429</td>\n",
       "      <td>87472.660000</td>\n",
       "      <td>34654.117143</td>\n",
       "      <td>11833.428571</td>\n",
       "      <td>7.394484</td>\n",
       "      <td>2.929479</td>\n",
       "    </tr>\n",
       "    <tr>\n",
       "      <th>0.05</th>\n",
       "      <th>Aussie</th>\n",
       "      <td>4.79</td>\n",
       "      <td>11529.000000</td>\n",
       "      <td>55223.910000</td>\n",
       "      <td>22942.710000</td>\n",
       "      <td>11303.000000</td>\n",
       "      <td>4.885775</td>\n",
       "      <td>2.029789</td>\n",
       "    </tr>\n",
       "    <tr>\n",
       "      <th>0.10</th>\n",
       "      <th>Aussie</th>\n",
       "      <td>4.49</td>\n",
       "      <td>12630.000000</td>\n",
       "      <td>56708.700000</td>\n",
       "      <td>21339.947228</td>\n",
       "      <td>11254.000000</td>\n",
       "      <td>5.038982</td>\n",
       "      <td>1.896210</td>\n",
       "    </tr>\n",
       "    <tr>\n",
       "      <th>0.00</th>\n",
       "      <th>Aussie</th>\n",
       "      <td>4.99</td>\n",
       "      <td>10909.344828</td>\n",
       "      <td>54437.630690</td>\n",
       "      <td>23891.465172</td>\n",
       "      <td>10565.137931</td>\n",
       "      <td>5.153468</td>\n",
       "      <td>2.261742</td>\n",
       "    </tr>\n",
       "    <tr>\n",
       "      <th>0.10</th>\n",
       "      <th>Pantene</th>\n",
       "      <td>7.29</td>\n",
       "      <td>10183.000000</td>\n",
       "      <td>74234.070000</td>\n",
       "      <td>32483.770000</td>\n",
       "      <td>9983.000000</td>\n",
       "      <td>7.436048</td>\n",
       "      <td>3.253909</td>\n",
       "    </tr>\n",
       "    <tr>\n",
       "      <th>0.05</th>\n",
       "      <th>Pantene</th>\n",
       "      <td>7.49</td>\n",
       "      <td>9371.000000</td>\n",
       "      <td>70188.790000</td>\n",
       "      <td>31767.690000</td>\n",
       "      <td>9127.333333</td>\n",
       "      <td>7.689710</td>\n",
       "      <td>3.480390</td>\n",
       "    </tr>\n",
       "    <tr>\n",
       "      <th>0.00</th>\n",
       "      <th>Pantene</th>\n",
       "      <td>7.99</td>\n",
       "      <td>8636.214286</td>\n",
       "      <td>69003.352143</td>\n",
       "      <td>33594.873571</td>\n",
       "      <td>8396.392857</td>\n",
       "      <td>8.218387</td>\n",
       "      <td>4.001192</td>\n",
       "    </tr>\n",
       "  </tbody>\n",
       "</table>\n",
       "</div>"
      ],
      "text/plain": [
       "                  Price         Units        Sales $  Gross Margin $  \\\n",
       "Discount Product                                                       \n",
       "0.50     Pantene   3.99  56170.875000  224121.791250    -6178.796250   \n",
       "0.45     Pantene   4.49  41056.333333  184342.936667    16011.970000   \n",
       "0.50     Aussie    2.49  77200.000000  192228.000000   -23932.000000   \n",
       "0.40     Pantene   4.79  32604.600000  156176.034000    22497.174000   \n",
       "         Aussie    2.99  57093.333333  170709.066667    10847.733333   \n",
       "0.35     Pantene   5.29  27942.000000  147813.180000    33250.980000   \n",
       "         Aussie    3.29  46487.714286  152944.580000    22778.980000   \n",
       "0.30     Aussie    3.49  35649.555556  124416.948889    24598.193333   \n",
       "         Pantene   5.49  20619.428571  113200.662857    28661.005714   \n",
       "0.20     Aussie    3.99  22397.750000   89367.022500    26653.322500   \n",
       "0.15     Aussie    4.29  15437.000000   66224.730000    23264.139503   \n",
       "0.20     Pantene   6.49  14238.666667   92408.946667    34030.413333   \n",
       "0.15     Pantene   6.79  12882.571429   87472.660000    34654.117143   \n",
       "0.05     Aussie    4.79  11529.000000   55223.910000    22942.710000   \n",
       "0.10     Aussie    4.49  12630.000000   56708.700000    21339.947228   \n",
       "0.00     Aussie    4.99  10909.344828   54437.630690    23891.465172   \n",
       "0.10     Pantene   7.29  10183.000000   74234.070000    32483.770000   \n",
       "0.05     Pantene   7.49   9371.000000   70188.790000    31767.690000   \n",
       "0.00     Pantene   7.99   8636.214286   69003.352143    33594.873571   \n",
       "\n",
       "                  Num_Transact  Sales/Transact  Margin/Transact  \n",
       "Discount Product                                                 \n",
       "0.50     Pantene  25998.125000        8.619854        -0.237640  \n",
       "0.45     Pantene  23154.666667        7.963820         0.691735  \n",
       "0.50     Aussie   22396.000000        8.583140        -1.068584  \n",
       "0.40     Pantene  22379.400000        6.978616         1.005270  \n",
       "         Aussie   22281.500000        7.661899         0.486877  \n",
       "0.35     Pantene  21494.000000        6.876951         1.546989  \n",
       "         Aussie   20435.571429        7.490591         1.115620  \n",
       "0.30     Aussie   20152.666667        6.186040         1.223028  \n",
       "         Pantene  16590.571429        6.823363         1.727591  \n",
       "0.20     Aussie   16567.625000        5.402718         1.611337  \n",
       "0.15     Aussie   12631.800000        5.242500         1.841642  \n",
       "0.20     Pantene  12609.666667        7.329036         2.698982  \n",
       "0.15     Pantene  11833.428571        7.394484         2.929479  \n",
       "0.05     Aussie   11303.000000        4.885775         2.029789  \n",
       "0.10     Aussie   11254.000000        5.038982         1.896210  \n",
       "0.00     Aussie   10565.137931        5.153468         2.261742  \n",
       "0.10     Pantene   9983.000000        7.436048         3.253909  \n",
       "0.05     Pantene   9127.333333        7.689710         3.480390  \n",
       "0.00     Pantene   8396.392857        8.218387         4.001192  "
      ]
     },
     "execution_count": 97,
     "metadata": {},
     "output_type": "execute_result"
    }
   ],
   "source": [
    "df_new_2 = df_new.groupby(['Discount','Product'])['Price','Units','Sales $','Gross Margin $','Num_Transact','Sales/Transact','Margin/Transact'].mean()\n",
    "df_new_2.sort_values(by='Num_Transact',ascending=False)\n",
    "#Aussie sold at $2.49 has number of transactions ranked the 3rd."
   ]
  },
  {
   "cell_type": "code",
   "execution_count": 98,
   "id": "1add425b",
   "metadata": {},
   "outputs": [
    {
     "data": {
      "text/html": [
       "<div>\n",
       "<style scoped>\n",
       "    .dataframe tbody tr th:only-of-type {\n",
       "        vertical-align: middle;\n",
       "    }\n",
       "\n",
       "    .dataframe tbody tr th {\n",
       "        vertical-align: top;\n",
       "    }\n",
       "\n",
       "    .dataframe thead th {\n",
       "        text-align: right;\n",
       "    }\n",
       "</style>\n",
       "<table border=\"1\" class=\"dataframe\">\n",
       "  <thead>\n",
       "    <tr style=\"text-align: right;\">\n",
       "      <th></th>\n",
       "      <th></th>\n",
       "      <th>Price</th>\n",
       "      <th>Units</th>\n",
       "      <th>Sales $</th>\n",
       "      <th>Gross Margin $</th>\n",
       "      <th>Num_Transact</th>\n",
       "      <th>Sales/Transact</th>\n",
       "      <th>Margin/Transact</th>\n",
       "    </tr>\n",
       "    <tr>\n",
       "      <th>Discount</th>\n",
       "      <th>Product</th>\n",
       "      <th></th>\n",
       "      <th></th>\n",
       "      <th></th>\n",
       "      <th></th>\n",
       "      <th></th>\n",
       "      <th></th>\n",
       "      <th></th>\n",
       "    </tr>\n",
       "  </thead>\n",
       "  <tbody>\n",
       "    <tr>\n",
       "      <th rowspan=\"2\" valign=\"top\">0.50</th>\n",
       "      <th>Pantene</th>\n",
       "      <td>3.99</td>\n",
       "      <td>56170.875000</td>\n",
       "      <td>224121.791250</td>\n",
       "      <td>-6178.796250</td>\n",
       "      <td>25998.125000</td>\n",
       "      <td>8.619854</td>\n",
       "      <td>-0.237640</td>\n",
       "    </tr>\n",
       "    <tr>\n",
       "      <th>Aussie</th>\n",
       "      <td>2.49</td>\n",
       "      <td>77200.000000</td>\n",
       "      <td>192228.000000</td>\n",
       "      <td>-23932.000000</td>\n",
       "      <td>22396.000000</td>\n",
       "      <td>8.583140</td>\n",
       "      <td>-1.068584</td>\n",
       "    </tr>\n",
       "    <tr>\n",
       "      <th>0.45</th>\n",
       "      <th>Pantene</th>\n",
       "      <td>4.49</td>\n",
       "      <td>41056.333333</td>\n",
       "      <td>184342.936667</td>\n",
       "      <td>16011.970000</td>\n",
       "      <td>23154.666667</td>\n",
       "      <td>7.963820</td>\n",
       "      <td>0.691735</td>\n",
       "    </tr>\n",
       "    <tr>\n",
       "      <th rowspan=\"2\" valign=\"top\">0.40</th>\n",
       "      <th>Aussie</th>\n",
       "      <td>2.99</td>\n",
       "      <td>57093.333333</td>\n",
       "      <td>170709.066667</td>\n",
       "      <td>10847.733333</td>\n",
       "      <td>22281.500000</td>\n",
       "      <td>7.661899</td>\n",
       "      <td>0.486877</td>\n",
       "    </tr>\n",
       "    <tr>\n",
       "      <th>Pantene</th>\n",
       "      <td>4.79</td>\n",
       "      <td>32604.600000</td>\n",
       "      <td>156176.034000</td>\n",
       "      <td>22497.174000</td>\n",
       "      <td>22379.400000</td>\n",
       "      <td>6.978616</td>\n",
       "      <td>1.005270</td>\n",
       "    </tr>\n",
       "    <tr>\n",
       "      <th rowspan=\"2\" valign=\"top\">0.35</th>\n",
       "      <th>Aussie</th>\n",
       "      <td>3.29</td>\n",
       "      <td>46487.714286</td>\n",
       "      <td>152944.580000</td>\n",
       "      <td>22778.980000</td>\n",
       "      <td>20435.571429</td>\n",
       "      <td>7.490591</td>\n",
       "      <td>1.115620</td>\n",
       "    </tr>\n",
       "    <tr>\n",
       "      <th>Pantene</th>\n",
       "      <td>5.29</td>\n",
       "      <td>27942.000000</td>\n",
       "      <td>147813.180000</td>\n",
       "      <td>33250.980000</td>\n",
       "      <td>21494.000000</td>\n",
       "      <td>6.876951</td>\n",
       "      <td>1.546989</td>\n",
       "    </tr>\n",
       "    <tr>\n",
       "      <th rowspan=\"2\" valign=\"top\">0.30</th>\n",
       "      <th>Aussie</th>\n",
       "      <td>3.49</td>\n",
       "      <td>35649.555556</td>\n",
       "      <td>124416.948889</td>\n",
       "      <td>24598.193333</td>\n",
       "      <td>20152.666667</td>\n",
       "      <td>6.186040</td>\n",
       "      <td>1.223028</td>\n",
       "    </tr>\n",
       "    <tr>\n",
       "      <th>Pantene</th>\n",
       "      <td>5.49</td>\n",
       "      <td>20619.428571</td>\n",
       "      <td>113200.662857</td>\n",
       "      <td>28661.005714</td>\n",
       "      <td>16590.571429</td>\n",
       "      <td>6.823363</td>\n",
       "      <td>1.727591</td>\n",
       "    </tr>\n",
       "    <tr>\n",
       "      <th rowspan=\"2\" valign=\"top\">0.20</th>\n",
       "      <th>Pantene</th>\n",
       "      <td>6.49</td>\n",
       "      <td>14238.666667</td>\n",
       "      <td>92408.946667</td>\n",
       "      <td>34030.413333</td>\n",
       "      <td>12609.666667</td>\n",
       "      <td>7.329036</td>\n",
       "      <td>2.698982</td>\n",
       "    </tr>\n",
       "    <tr>\n",
       "      <th>Aussie</th>\n",
       "      <td>3.99</td>\n",
       "      <td>22397.750000</td>\n",
       "      <td>89367.022500</td>\n",
       "      <td>26653.322500</td>\n",
       "      <td>16567.625000</td>\n",
       "      <td>5.402718</td>\n",
       "      <td>1.611337</td>\n",
       "    </tr>\n",
       "    <tr>\n",
       "      <th>0.15</th>\n",
       "      <th>Pantene</th>\n",
       "      <td>6.79</td>\n",
       "      <td>12882.571429</td>\n",
       "      <td>87472.660000</td>\n",
       "      <td>34654.117143</td>\n",
       "      <td>11833.428571</td>\n",
       "      <td>7.394484</td>\n",
       "      <td>2.929479</td>\n",
       "    </tr>\n",
       "    <tr>\n",
       "      <th>0.10</th>\n",
       "      <th>Pantene</th>\n",
       "      <td>7.29</td>\n",
       "      <td>10183.000000</td>\n",
       "      <td>74234.070000</td>\n",
       "      <td>32483.770000</td>\n",
       "      <td>9983.000000</td>\n",
       "      <td>7.436048</td>\n",
       "      <td>3.253909</td>\n",
       "    </tr>\n",
       "    <tr>\n",
       "      <th>0.05</th>\n",
       "      <th>Pantene</th>\n",
       "      <td>7.49</td>\n",
       "      <td>9371.000000</td>\n",
       "      <td>70188.790000</td>\n",
       "      <td>31767.690000</td>\n",
       "      <td>9127.333333</td>\n",
       "      <td>7.689710</td>\n",
       "      <td>3.480390</td>\n",
       "    </tr>\n",
       "    <tr>\n",
       "      <th>0.00</th>\n",
       "      <th>Pantene</th>\n",
       "      <td>7.99</td>\n",
       "      <td>8636.214286</td>\n",
       "      <td>69003.352143</td>\n",
       "      <td>33594.873571</td>\n",
       "      <td>8396.392857</td>\n",
       "      <td>8.218387</td>\n",
       "      <td>4.001192</td>\n",
       "    </tr>\n",
       "    <tr>\n",
       "      <th>0.15</th>\n",
       "      <th>Aussie</th>\n",
       "      <td>4.29</td>\n",
       "      <td>15437.000000</td>\n",
       "      <td>66224.730000</td>\n",
       "      <td>23264.139503</td>\n",
       "      <td>12631.800000</td>\n",
       "      <td>5.242500</td>\n",
       "      <td>1.841642</td>\n",
       "    </tr>\n",
       "    <tr>\n",
       "      <th>0.10</th>\n",
       "      <th>Aussie</th>\n",
       "      <td>4.49</td>\n",
       "      <td>12630.000000</td>\n",
       "      <td>56708.700000</td>\n",
       "      <td>21339.947228</td>\n",
       "      <td>11254.000000</td>\n",
       "      <td>5.038982</td>\n",
       "      <td>1.896210</td>\n",
       "    </tr>\n",
       "    <tr>\n",
       "      <th>0.05</th>\n",
       "      <th>Aussie</th>\n",
       "      <td>4.79</td>\n",
       "      <td>11529.000000</td>\n",
       "      <td>55223.910000</td>\n",
       "      <td>22942.710000</td>\n",
       "      <td>11303.000000</td>\n",
       "      <td>4.885775</td>\n",
       "      <td>2.029789</td>\n",
       "    </tr>\n",
       "    <tr>\n",
       "      <th>0.00</th>\n",
       "      <th>Aussie</th>\n",
       "      <td>4.99</td>\n",
       "      <td>10909.344828</td>\n",
       "      <td>54437.630690</td>\n",
       "      <td>23891.465172</td>\n",
       "      <td>10565.137931</td>\n",
       "      <td>5.153468</td>\n",
       "      <td>2.261742</td>\n",
       "    </tr>\n",
       "  </tbody>\n",
       "</table>\n",
       "</div>"
      ],
      "text/plain": [
       "                  Price         Units        Sales $  Gross Margin $  \\\n",
       "Discount Product                                                       \n",
       "0.50     Pantene   3.99  56170.875000  224121.791250    -6178.796250   \n",
       "         Aussie    2.49  77200.000000  192228.000000   -23932.000000   \n",
       "0.45     Pantene   4.49  41056.333333  184342.936667    16011.970000   \n",
       "0.40     Aussie    2.99  57093.333333  170709.066667    10847.733333   \n",
       "         Pantene   4.79  32604.600000  156176.034000    22497.174000   \n",
       "0.35     Aussie    3.29  46487.714286  152944.580000    22778.980000   \n",
       "         Pantene   5.29  27942.000000  147813.180000    33250.980000   \n",
       "0.30     Aussie    3.49  35649.555556  124416.948889    24598.193333   \n",
       "         Pantene   5.49  20619.428571  113200.662857    28661.005714   \n",
       "0.20     Pantene   6.49  14238.666667   92408.946667    34030.413333   \n",
       "         Aussie    3.99  22397.750000   89367.022500    26653.322500   \n",
       "0.15     Pantene   6.79  12882.571429   87472.660000    34654.117143   \n",
       "0.10     Pantene   7.29  10183.000000   74234.070000    32483.770000   \n",
       "0.05     Pantene   7.49   9371.000000   70188.790000    31767.690000   \n",
       "0.00     Pantene   7.99   8636.214286   69003.352143    33594.873571   \n",
       "0.15     Aussie    4.29  15437.000000   66224.730000    23264.139503   \n",
       "0.10     Aussie    4.49  12630.000000   56708.700000    21339.947228   \n",
       "0.05     Aussie    4.79  11529.000000   55223.910000    22942.710000   \n",
       "0.00     Aussie    4.99  10909.344828   54437.630690    23891.465172   \n",
       "\n",
       "                  Num_Transact  Sales/Transact  Margin/Transact  \n",
       "Discount Product                                                 \n",
       "0.50     Pantene  25998.125000        8.619854        -0.237640  \n",
       "         Aussie   22396.000000        8.583140        -1.068584  \n",
       "0.45     Pantene  23154.666667        7.963820         0.691735  \n",
       "0.40     Aussie   22281.500000        7.661899         0.486877  \n",
       "         Pantene  22379.400000        6.978616         1.005270  \n",
       "0.35     Aussie   20435.571429        7.490591         1.115620  \n",
       "         Pantene  21494.000000        6.876951         1.546989  \n",
       "0.30     Aussie   20152.666667        6.186040         1.223028  \n",
       "         Pantene  16590.571429        6.823363         1.727591  \n",
       "0.20     Pantene  12609.666667        7.329036         2.698982  \n",
       "         Aussie   16567.625000        5.402718         1.611337  \n",
       "0.15     Pantene  11833.428571        7.394484         2.929479  \n",
       "0.10     Pantene   9983.000000        7.436048         3.253909  \n",
       "0.05     Pantene   9127.333333        7.689710         3.480390  \n",
       "0.00     Pantene   8396.392857        8.218387         4.001192  \n",
       "0.15     Aussie   12631.800000        5.242500         1.841642  \n",
       "0.10     Aussie   11254.000000        5.038982         1.896210  \n",
       "0.05     Aussie   11303.000000        4.885775         2.029789  \n",
       "0.00     Aussie   10565.137931        5.153468         2.261742  "
      ]
     },
     "execution_count": 98,
     "metadata": {},
     "output_type": "execute_result"
    }
   ],
   "source": [
    "df_new_2.sort_values(by='Sales $',ascending=False)\n",
    "#Aussie sold at $2.49 has sales ranked the 2nd"
   ]
  },
  {
   "cell_type": "markdown",
   "id": "5068afc9",
   "metadata": {},
   "source": [
    "###### Conclusion: Aussie could very probably an effetive \"loss leader\" in promotion. When Aussie is on 50% discount, the margin is negative but average number of transactions is in the top 3. Furthermore, when Aussie is on 50% discount, the average sales is ranked the 2nd."
   ]
  },
  {
   "cell_type": "code",
   "execution_count": 99,
   "id": "211d91a4",
   "metadata": {},
   "outputs": [
    {
     "data": {
      "text/html": [
       "<div>\n",
       "<style scoped>\n",
       "    .dataframe tbody tr th:only-of-type {\n",
       "        vertical-align: middle;\n",
       "    }\n",
       "\n",
       "    .dataframe tbody tr th {\n",
       "        vertical-align: top;\n",
       "    }\n",
       "\n",
       "    .dataframe thead th {\n",
       "        text-align: right;\n",
       "    }\n",
       "</style>\n",
       "<table border=\"1\" class=\"dataframe\">\n",
       "  <thead>\n",
       "    <tr style=\"text-align: right;\">\n",
       "      <th></th>\n",
       "      <th>Year</th>\n",
       "      <th>week</th>\n",
       "      <th>Product</th>\n",
       "      <th>Price</th>\n",
       "      <th>On Flyer?</th>\n",
       "      <th>Discount</th>\n",
       "      <th>Units</th>\n",
       "      <th>Sales $</th>\n",
       "      <th>Gross Margin $</th>\n",
       "      <th>Num_Transact</th>\n",
       "      <th>Sales/Transact</th>\n",
       "      <th>Margin/Transact</th>\n",
       "      <th>Cost</th>\n",
       "      <th>Period</th>\n",
       "      <th>Month</th>\n",
       "    </tr>\n",
       "  </thead>\n",
       "  <tbody>\n",
       "    <tr>\n",
       "      <th>11</th>\n",
       "      <td>2021</td>\n",
       "      <td>12</td>\n",
       "      <td>Pantene</td>\n",
       "      <td>3.99</td>\n",
       "      <td>Yes</td>\n",
       "      <td>0.5</td>\n",
       "      <td>58297</td>\n",
       "      <td>232605.03</td>\n",
       "      <td>-6412.67</td>\n",
       "      <td>26439</td>\n",
       "      <td>8.7978</td>\n",
       "      <td>-0.242546</td>\n",
       "      <td>4.1</td>\n",
       "      <td>2021-03-22</td>\n",
       "      <td>2021-03-01</td>\n",
       "    </tr>\n",
       "  </tbody>\n",
       "</table>\n",
       "</div>"
      ],
      "text/plain": [
       "    Year  week  Product  Price On Flyer?  Discount  Units    Sales $  \\\n",
       "11  2021    12  Pantene   3.99       Yes       0.5  58297  232605.03   \n",
       "\n",
       "    Gross Margin $  Num_Transact  Sales/Transact  Margin/Transact  Cost  \\\n",
       "11        -6412.67         26439          8.7978        -0.242546   4.1   \n",
       "\n",
       "       Period      Month  \n",
       "11 2021-03-22 2021-03-01  "
      ]
     },
     "execution_count": 99,
     "metadata": {},
     "output_type": "execute_result"
    }
   ],
   "source": [
    "df_new[df_new['Sales $']==df_new['Sales $'].max()]\n",
    "# 1 sales when Pantene sold at 3.99"
   ]
  },
  {
   "cell_type": "code",
   "execution_count": 100,
   "id": "c8345370",
   "metadata": {},
   "outputs": [
    {
     "data": {
      "text/html": [
       "<div>\n",
       "<style scoped>\n",
       "    .dataframe tbody tr th:only-of-type {\n",
       "        vertical-align: middle;\n",
       "    }\n",
       "\n",
       "    .dataframe tbody tr th {\n",
       "        vertical-align: top;\n",
       "    }\n",
       "\n",
       "    .dataframe thead th {\n",
       "        text-align: right;\n",
       "    }\n",
       "</style>\n",
       "<table border=\"1\" class=\"dataframe\">\n",
       "  <thead>\n",
       "    <tr style=\"text-align: right;\">\n",
       "      <th></th>\n",
       "      <th>Year</th>\n",
       "      <th>week</th>\n",
       "      <th>Product</th>\n",
       "      <th>Price</th>\n",
       "      <th>On Flyer?</th>\n",
       "      <th>Discount</th>\n",
       "      <th>Units</th>\n",
       "      <th>Sales $</th>\n",
       "      <th>Gross Margin $</th>\n",
       "      <th>Num_Transact</th>\n",
       "      <th>Sales/Transact</th>\n",
       "      <th>Margin/Transact</th>\n",
       "      <th>Cost</th>\n",
       "      <th>Period</th>\n",
       "      <th>Month</th>\n",
       "    </tr>\n",
       "  </thead>\n",
       "  <tbody>\n",
       "    <tr>\n",
       "      <th>34</th>\n",
       "      <td>2021</td>\n",
       "      <td>35</td>\n",
       "      <td>Pantene</td>\n",
       "      <td>6.79</td>\n",
       "      <td>Yes</td>\n",
       "      <td>0.15</td>\n",
       "      <td>13246</td>\n",
       "      <td>89940.34</td>\n",
       "      <td>35631.74</td>\n",
       "      <td>12130</td>\n",
       "      <td>7.414702</td>\n",
       "      <td>2.937489</td>\n",
       "      <td>4.1</td>\n",
       "      <td>2021-08-30</td>\n",
       "      <td>2021-08-01</td>\n",
       "    </tr>\n",
       "  </tbody>\n",
       "</table>\n",
       "</div>"
      ],
      "text/plain": [
       "    Year  week  Product  Price On Flyer?  Discount  Units   Sales $  \\\n",
       "34  2021    35  Pantene   6.79       Yes      0.15  13246  89940.34   \n",
       "\n",
       "    Gross Margin $  Num_Transact  Sales/Transact  Margin/Transact  Cost  \\\n",
       "34        35631.74         12130        7.414702         2.937489   4.1   \n",
       "\n",
       "       Period      Month  \n",
       "34 2021-08-30 2021-08-01  "
      ]
     },
     "execution_count": 100,
     "metadata": {},
     "output_type": "execute_result"
    }
   ],
   "source": [
    "df_new[df_new['Gross Margin $']==df_new['Gross Margin $'].max()]"
   ]
  },
  {
   "cell_type": "code",
   "execution_count": 101,
   "id": "558e6e10",
   "metadata": {},
   "outputs": [
    {
     "data": {
      "text/html": [
       "<div>\n",
       "<style scoped>\n",
       "    .dataframe tbody tr th:only-of-type {\n",
       "        vertical-align: middle;\n",
       "    }\n",
       "\n",
       "    .dataframe tbody tr th {\n",
       "        vertical-align: top;\n",
       "    }\n",
       "\n",
       "    .dataframe thead th {\n",
       "        text-align: right;\n",
       "    }\n",
       "</style>\n",
       "<table border=\"1\" class=\"dataframe\">\n",
       "  <thead>\n",
       "    <tr style=\"text-align: right;\">\n",
       "      <th></th>\n",
       "      <th>Year</th>\n",
       "      <th>week</th>\n",
       "      <th>Product</th>\n",
       "      <th>Price</th>\n",
       "      <th>On Flyer?</th>\n",
       "      <th>Discount</th>\n",
       "      <th>Units</th>\n",
       "      <th>Sales $</th>\n",
       "      <th>Gross Margin $</th>\n",
       "      <th>Num_Transact</th>\n",
       "      <th>Sales/Transact</th>\n",
       "      <th>Margin/Transact</th>\n",
       "      <th>Cost</th>\n",
       "      <th>Period</th>\n",
       "      <th>Month</th>\n",
       "    </tr>\n",
       "  </thead>\n",
       "  <tbody>\n",
       "    <tr>\n",
       "      <th>11</th>\n",
       "      <td>2021</td>\n",
       "      <td>12</td>\n",
       "      <td>Pantene</td>\n",
       "      <td>3.99</td>\n",
       "      <td>Yes</td>\n",
       "      <td>0.5</td>\n",
       "      <td>58297</td>\n",
       "      <td>232605.03</td>\n",
       "      <td>-6412.67</td>\n",
       "      <td>26439</td>\n",
       "      <td>8.797800</td>\n",
       "      <td>-0.242546</td>\n",
       "      <td>4.1</td>\n",
       "      <td>2021-03-22</td>\n",
       "      <td>2021-03-01</td>\n",
       "    </tr>\n",
       "    <tr>\n",
       "      <th>49</th>\n",
       "      <td>2021</td>\n",
       "      <td>50</td>\n",
       "      <td>Pantene</td>\n",
       "      <td>3.99</td>\n",
       "      <td>Yes</td>\n",
       "      <td>0.5</td>\n",
       "      <td>56076</td>\n",
       "      <td>223743.24</td>\n",
       "      <td>-6168.36</td>\n",
       "      <td>26439</td>\n",
       "      <td>8.462621</td>\n",
       "      <td>-0.233305</td>\n",
       "      <td>4.1</td>\n",
       "      <td>2021-12-13</td>\n",
       "      <td>2021-12-01</td>\n",
       "    </tr>\n",
       "  </tbody>\n",
       "</table>\n",
       "</div>"
      ],
      "text/plain": [
       "    Year  week  Product  Price On Flyer?  Discount  Units    Sales $  \\\n",
       "11  2021    12  Pantene   3.99       Yes       0.5  58297  232605.03   \n",
       "49  2021    50  Pantene   3.99       Yes       0.5  56076  223743.24   \n",
       "\n",
       "    Gross Margin $  Num_Transact  Sales/Transact  Margin/Transact  Cost  \\\n",
       "11        -6412.67         26439        8.797800        -0.242546   4.1   \n",
       "49        -6168.36         26439        8.462621        -0.233305   4.1   \n",
       "\n",
       "       Period      Month  \n",
       "11 2021-03-22 2021-03-01  \n",
       "49 2021-12-13 2021-12-01  "
      ]
     },
     "execution_count": 101,
     "metadata": {},
     "output_type": "execute_result"
    }
   ],
   "source": [
    "df_new[df_new['Num_Transact']==df_new['Num_Transact'].max()]\n",
    "# No.1 number of transactions when Pantene sold at 3.99"
   ]
  },
  {
   "cell_type": "markdown",
   "id": "dfafd887",
   "metadata": {},
   "source": [
    "###### Pantene at 50% discount with $3.99 is the absolute lost leader to increase sales and number of transactions"
   ]
  },
  {
   "cell_type": "markdown",
   "id": "963afb3d",
   "metadata": {},
   "source": [
    "###### Your director proposes to change the promotion to 2 for $5 or pay 2.99 each, hoping that this will improve margin. Will this work? Explain why or why not."
   ]
  },
  {
   "cell_type": "code",
   "execution_count": 102,
   "id": "e7f260d6",
   "metadata": {},
   "outputs": [
    {
     "data": {
      "text/html": [
       "<div>\n",
       "<style scoped>\n",
       "    .dataframe tbody tr th:only-of-type {\n",
       "        vertical-align: middle;\n",
       "    }\n",
       "\n",
       "    .dataframe tbody tr th {\n",
       "        vertical-align: top;\n",
       "    }\n",
       "\n",
       "    .dataframe thead th {\n",
       "        text-align: right;\n",
       "    }\n",
       "</style>\n",
       "<table border=\"1\" class=\"dataframe\">\n",
       "  <thead>\n",
       "    <tr style=\"text-align: right;\">\n",
       "      <th></th>\n",
       "      <th></th>\n",
       "      <th>Price</th>\n",
       "      <th>Units</th>\n",
       "      <th>Sales $</th>\n",
       "      <th>Gross Margin $</th>\n",
       "      <th>Num_Transact</th>\n",
       "      <th>Sales/Transact</th>\n",
       "      <th>Margin/Transact</th>\n",
       "    </tr>\n",
       "    <tr>\n",
       "      <th>Discount</th>\n",
       "      <th>Product</th>\n",
       "      <th></th>\n",
       "      <th></th>\n",
       "      <th></th>\n",
       "      <th></th>\n",
       "      <th></th>\n",
       "      <th></th>\n",
       "      <th></th>\n",
       "    </tr>\n",
       "  </thead>\n",
       "  <tbody>\n",
       "    <tr>\n",
       "      <th>0.15</th>\n",
       "      <th>Pantene</th>\n",
       "      <td>6.79</td>\n",
       "      <td>12882.571429</td>\n",
       "      <td>87472.660000</td>\n",
       "      <td>34654.117143</td>\n",
       "      <td>11833.428571</td>\n",
       "      <td>7.394484</td>\n",
       "      <td>2.929479</td>\n",
       "    </tr>\n",
       "    <tr>\n",
       "      <th>0.20</th>\n",
       "      <th>Pantene</th>\n",
       "      <td>6.49</td>\n",
       "      <td>14238.666667</td>\n",
       "      <td>92408.946667</td>\n",
       "      <td>34030.413333</td>\n",
       "      <td>12609.666667</td>\n",
       "      <td>7.329036</td>\n",
       "      <td>2.698982</td>\n",
       "    </tr>\n",
       "    <tr>\n",
       "      <th>0.00</th>\n",
       "      <th>Pantene</th>\n",
       "      <td>7.99</td>\n",
       "      <td>8636.214286</td>\n",
       "      <td>69003.352143</td>\n",
       "      <td>33594.873571</td>\n",
       "      <td>8396.392857</td>\n",
       "      <td>8.218387</td>\n",
       "      <td>4.001192</td>\n",
       "    </tr>\n",
       "    <tr>\n",
       "      <th>0.35</th>\n",
       "      <th>Pantene</th>\n",
       "      <td>5.29</td>\n",
       "      <td>27942.000000</td>\n",
       "      <td>147813.180000</td>\n",
       "      <td>33250.980000</td>\n",
       "      <td>21494.000000</td>\n",
       "      <td>6.876951</td>\n",
       "      <td>1.546989</td>\n",
       "    </tr>\n",
       "    <tr>\n",
       "      <th>0.10</th>\n",
       "      <th>Pantene</th>\n",
       "      <td>7.29</td>\n",
       "      <td>10183.000000</td>\n",
       "      <td>74234.070000</td>\n",
       "      <td>32483.770000</td>\n",
       "      <td>9983.000000</td>\n",
       "      <td>7.436048</td>\n",
       "      <td>3.253909</td>\n",
       "    </tr>\n",
       "    <tr>\n",
       "      <th>0.05</th>\n",
       "      <th>Pantene</th>\n",
       "      <td>7.49</td>\n",
       "      <td>9371.000000</td>\n",
       "      <td>70188.790000</td>\n",
       "      <td>31767.690000</td>\n",
       "      <td>9127.333333</td>\n",
       "      <td>7.689710</td>\n",
       "      <td>3.480390</td>\n",
       "    </tr>\n",
       "    <tr>\n",
       "      <th>0.30</th>\n",
       "      <th>Pantene</th>\n",
       "      <td>5.49</td>\n",
       "      <td>20619.428571</td>\n",
       "      <td>113200.662857</td>\n",
       "      <td>28661.005714</td>\n",
       "      <td>16590.571429</td>\n",
       "      <td>6.823363</td>\n",
       "      <td>1.727591</td>\n",
       "    </tr>\n",
       "    <tr>\n",
       "      <th>0.20</th>\n",
       "      <th>Aussie</th>\n",
       "      <td>3.99</td>\n",
       "      <td>22397.750000</td>\n",
       "      <td>89367.022500</td>\n",
       "      <td>26653.322500</td>\n",
       "      <td>16567.625000</td>\n",
       "      <td>5.402718</td>\n",
       "      <td>1.611337</td>\n",
       "    </tr>\n",
       "    <tr>\n",
       "      <th>0.30</th>\n",
       "      <th>Aussie</th>\n",
       "      <td>3.49</td>\n",
       "      <td>35649.555556</td>\n",
       "      <td>124416.948889</td>\n",
       "      <td>24598.193333</td>\n",
       "      <td>20152.666667</td>\n",
       "      <td>6.186040</td>\n",
       "      <td>1.223028</td>\n",
       "    </tr>\n",
       "    <tr>\n",
       "      <th>0.00</th>\n",
       "      <th>Aussie</th>\n",
       "      <td>4.99</td>\n",
       "      <td>10909.344828</td>\n",
       "      <td>54437.630690</td>\n",
       "      <td>23891.465172</td>\n",
       "      <td>10565.137931</td>\n",
       "      <td>5.153468</td>\n",
       "      <td>2.261742</td>\n",
       "    </tr>\n",
       "    <tr>\n",
       "      <th>0.15</th>\n",
       "      <th>Aussie</th>\n",
       "      <td>4.29</td>\n",
       "      <td>15437.000000</td>\n",
       "      <td>66224.730000</td>\n",
       "      <td>23264.139503</td>\n",
       "      <td>12631.800000</td>\n",
       "      <td>5.242500</td>\n",
       "      <td>1.841642</td>\n",
       "    </tr>\n",
       "    <tr>\n",
       "      <th>0.05</th>\n",
       "      <th>Aussie</th>\n",
       "      <td>4.79</td>\n",
       "      <td>11529.000000</td>\n",
       "      <td>55223.910000</td>\n",
       "      <td>22942.710000</td>\n",
       "      <td>11303.000000</td>\n",
       "      <td>4.885775</td>\n",
       "      <td>2.029789</td>\n",
       "    </tr>\n",
       "    <tr>\n",
       "      <th>0.35</th>\n",
       "      <th>Aussie</th>\n",
       "      <td>3.29</td>\n",
       "      <td>46487.714286</td>\n",
       "      <td>152944.580000</td>\n",
       "      <td>22778.980000</td>\n",
       "      <td>20435.571429</td>\n",
       "      <td>7.490591</td>\n",
       "      <td>1.115620</td>\n",
       "    </tr>\n",
       "    <tr>\n",
       "      <th>0.40</th>\n",
       "      <th>Pantene</th>\n",
       "      <td>4.79</td>\n",
       "      <td>32604.600000</td>\n",
       "      <td>156176.034000</td>\n",
       "      <td>22497.174000</td>\n",
       "      <td>22379.400000</td>\n",
       "      <td>6.978616</td>\n",
       "      <td>1.005270</td>\n",
       "    </tr>\n",
       "    <tr>\n",
       "      <th>0.10</th>\n",
       "      <th>Aussie</th>\n",
       "      <td>4.49</td>\n",
       "      <td>12630.000000</td>\n",
       "      <td>56708.700000</td>\n",
       "      <td>21339.947228</td>\n",
       "      <td>11254.000000</td>\n",
       "      <td>5.038982</td>\n",
       "      <td>1.896210</td>\n",
       "    </tr>\n",
       "    <tr>\n",
       "      <th>0.45</th>\n",
       "      <th>Pantene</th>\n",
       "      <td>4.49</td>\n",
       "      <td>41056.333333</td>\n",
       "      <td>184342.936667</td>\n",
       "      <td>16011.970000</td>\n",
       "      <td>23154.666667</td>\n",
       "      <td>7.963820</td>\n",
       "      <td>0.691735</td>\n",
       "    </tr>\n",
       "    <tr>\n",
       "      <th>0.40</th>\n",
       "      <th>Aussie</th>\n",
       "      <td>2.99</td>\n",
       "      <td>57093.333333</td>\n",
       "      <td>170709.066667</td>\n",
       "      <td>10847.733333</td>\n",
       "      <td>22281.500000</td>\n",
       "      <td>7.661899</td>\n",
       "      <td>0.486877</td>\n",
       "    </tr>\n",
       "    <tr>\n",
       "      <th rowspan=\"2\" valign=\"top\">0.50</th>\n",
       "      <th>Pantene</th>\n",
       "      <td>3.99</td>\n",
       "      <td>56170.875000</td>\n",
       "      <td>224121.791250</td>\n",
       "      <td>-6178.796250</td>\n",
       "      <td>25998.125000</td>\n",
       "      <td>8.619854</td>\n",
       "      <td>-0.237640</td>\n",
       "    </tr>\n",
       "    <tr>\n",
       "      <th>Aussie</th>\n",
       "      <td>2.49</td>\n",
       "      <td>77200.000000</td>\n",
       "      <td>192228.000000</td>\n",
       "      <td>-23932.000000</td>\n",
       "      <td>22396.000000</td>\n",
       "      <td>8.583140</td>\n",
       "      <td>-1.068584</td>\n",
       "    </tr>\n",
       "  </tbody>\n",
       "</table>\n",
       "</div>"
      ],
      "text/plain": [
       "                  Price         Units        Sales $  Gross Margin $  \\\n",
       "Discount Product                                                       \n",
       "0.15     Pantene   6.79  12882.571429   87472.660000    34654.117143   \n",
       "0.20     Pantene   6.49  14238.666667   92408.946667    34030.413333   \n",
       "0.00     Pantene   7.99   8636.214286   69003.352143    33594.873571   \n",
       "0.35     Pantene   5.29  27942.000000  147813.180000    33250.980000   \n",
       "0.10     Pantene   7.29  10183.000000   74234.070000    32483.770000   \n",
       "0.05     Pantene   7.49   9371.000000   70188.790000    31767.690000   \n",
       "0.30     Pantene   5.49  20619.428571  113200.662857    28661.005714   \n",
       "0.20     Aussie    3.99  22397.750000   89367.022500    26653.322500   \n",
       "0.30     Aussie    3.49  35649.555556  124416.948889    24598.193333   \n",
       "0.00     Aussie    4.99  10909.344828   54437.630690    23891.465172   \n",
       "0.15     Aussie    4.29  15437.000000   66224.730000    23264.139503   \n",
       "0.05     Aussie    4.79  11529.000000   55223.910000    22942.710000   \n",
       "0.35     Aussie    3.29  46487.714286  152944.580000    22778.980000   \n",
       "0.40     Pantene   4.79  32604.600000  156176.034000    22497.174000   \n",
       "0.10     Aussie    4.49  12630.000000   56708.700000    21339.947228   \n",
       "0.45     Pantene   4.49  41056.333333  184342.936667    16011.970000   \n",
       "0.40     Aussie    2.99  57093.333333  170709.066667    10847.733333   \n",
       "0.50     Pantene   3.99  56170.875000  224121.791250    -6178.796250   \n",
       "         Aussie    2.49  77200.000000  192228.000000   -23932.000000   \n",
       "\n",
       "                  Num_Transact  Sales/Transact  Margin/Transact  \n",
       "Discount Product                                                 \n",
       "0.15     Pantene  11833.428571        7.394484         2.929479  \n",
       "0.20     Pantene  12609.666667        7.329036         2.698982  \n",
       "0.00     Pantene   8396.392857        8.218387         4.001192  \n",
       "0.35     Pantene  21494.000000        6.876951         1.546989  \n",
       "0.10     Pantene   9983.000000        7.436048         3.253909  \n",
       "0.05     Pantene   9127.333333        7.689710         3.480390  \n",
       "0.30     Pantene  16590.571429        6.823363         1.727591  \n",
       "0.20     Aussie   16567.625000        5.402718         1.611337  \n",
       "0.30     Aussie   20152.666667        6.186040         1.223028  \n",
       "0.00     Aussie   10565.137931        5.153468         2.261742  \n",
       "0.15     Aussie   12631.800000        5.242500         1.841642  \n",
       "0.05     Aussie   11303.000000        4.885775         2.029789  \n",
       "0.35     Aussie   20435.571429        7.490591         1.115620  \n",
       "0.40     Pantene  22379.400000        6.978616         1.005270  \n",
       "0.10     Aussie   11254.000000        5.038982         1.896210  \n",
       "0.45     Pantene  23154.666667        7.963820         0.691735  \n",
       "0.40     Aussie   22281.500000        7.661899         0.486877  \n",
       "0.50     Pantene  25998.125000        8.619854        -0.237640  \n",
       "         Aussie   22396.000000        8.583140        -1.068584  "
      ]
     },
     "execution_count": 102,
     "metadata": {},
     "output_type": "execute_result"
    }
   ],
   "source": [
    "df_new_2.sort_values(by='Gross Margin $',ascending=False)"
   ]
  },
  {
   "cell_type": "markdown",
   "id": "b3328c91",
   "metadata": {},
   "source": [
    "When Aussie was at $2.99, the margin was listed in the bottom 3."
   ]
  },
  {
   "cell_type": "code",
   "execution_count": 103,
   "id": "dd1437d6",
   "metadata": {},
   "outputs": [
    {
     "data": {
      "image/png": "[encoded data removed]",
      "text/plain": [
       "<Figure size 1152x504 with 1 Axes>"
      ]
     },
     "metadata": {
      "needs_background": "light"
     },
     "output_type": "display_data"
    }
   ],
   "source": [
    "df_new_monthly_margin = pd.DataFrame(df_new.groupby('Month')['Gross Margin $'].mean())\n",
    "plt.figure(figsize=(16,7))\n",
    "sns.lineplot(x = df_new_monthly_margin.index, y = df_new_monthly_margin['Gross Margin $'])\n",
    "plt.title('Monthly Average Gross Margin $')\n",
    "plt.show()"
   ]
  },
  {
   "cell_type": "code",
   "execution_count": 104,
   "id": "0683ebe3",
   "metadata": {},
   "outputs": [
    {
     "data": {
      "text/html": [
       "<div>\n",
       "<style scoped>\n",
       "    .dataframe tbody tr th:only-of-type {\n",
       "        vertical-align: middle;\n",
       "    }\n",
       "\n",
       "    .dataframe tbody tr th {\n",
       "        vertical-align: top;\n",
       "    }\n",
       "\n",
       "    .dataframe thead th {\n",
       "        text-align: right;\n",
       "    }\n",
       "</style>\n",
       "<table border=\"1\" class=\"dataframe\">\n",
       "  <thead>\n",
       "    <tr style=\"text-align: right;\">\n",
       "      <th></th>\n",
       "      <th>Gross Margin $</th>\n",
       "    </tr>\n",
       "    <tr>\n",
       "      <th>Month</th>\n",
       "      <th></th>\n",
       "    </tr>\n",
       "  </thead>\n",
       "  <tbody>\n",
       "    <tr>\n",
       "      <th>2022-04-01</th>\n",
       "      <td>28170.7475</td>\n",
       "    </tr>\n",
       "  </tbody>\n",
       "</table>\n",
       "</div>"
      ],
      "text/plain": [
       "            Gross Margin $\n",
       "Month                     \n",
       "2022-04-01      28170.7475"
      ]
     },
     "execution_count": 104,
     "metadata": {},
     "output_type": "execute_result"
    }
   ],
   "source": [
    "df_new_monthly_margin[df_new_monthly_margin['Gross Margin $'] == df_new_monthly_margin['Gross Margin $'].max()]\n",
    "# the best gross margin happened in April 2022."
   ]
  },
  {
   "cell_type": "code",
   "execution_count": 105,
   "id": "1a16d2de",
   "metadata": {},
   "outputs": [
    {
     "data": {
      "text/html": [
       "<div>\n",
       "<style scoped>\n",
       "    .dataframe tbody tr th:only-of-type {\n",
       "        vertical-align: middle;\n",
       "    }\n",
       "\n",
       "    .dataframe tbody tr th {\n",
       "        vertical-align: top;\n",
       "    }\n",
       "\n",
       "    .dataframe thead th {\n",
       "        text-align: right;\n",
       "    }\n",
       "</style>\n",
       "<table border=\"1\" class=\"dataframe\">\n",
       "  <thead>\n",
       "    <tr style=\"text-align: right;\">\n",
       "      <th></th>\n",
       "      <th>Year</th>\n",
       "      <th>week</th>\n",
       "      <th>Product</th>\n",
       "      <th>Price</th>\n",
       "      <th>On Flyer?</th>\n",
       "      <th>Discount</th>\n",
       "      <th>Units</th>\n",
       "      <th>Sales $</th>\n",
       "      <th>Gross Margin $</th>\n",
       "      <th>Num_Transact</th>\n",
       "      <th>Sales/Transact</th>\n",
       "      <th>Margin/Transact</th>\n",
       "      <th>Cost</th>\n",
       "      <th>Period</th>\n",
       "      <th>Month</th>\n",
       "    </tr>\n",
       "  </thead>\n",
       "  <tbody>\n",
       "    <tr>\n",
       "      <th>65</th>\n",
       "      <td>2022</td>\n",
       "      <td>14</td>\n",
       "      <td>Pantene</td>\n",
       "      <td>6.79</td>\n",
       "      <td>Yes</td>\n",
       "      <td>0.15</td>\n",
       "      <td>13118</td>\n",
       "      <td>89071.22</td>\n",
       "      <td>35287.42</td>\n",
       "      <td>12247</td>\n",
       "      <td>7.272901</td>\n",
       "      <td>2.881311</td>\n",
       "      <td>4.1</td>\n",
       "      <td>2022-04-04</td>\n",
       "      <td>2022-04-01</td>\n",
       "    </tr>\n",
       "    <tr>\n",
       "      <th>66</th>\n",
       "      <td>2022</td>\n",
       "      <td>15</td>\n",
       "      <td>Pantene</td>\n",
       "      <td>6.79</td>\n",
       "      <td>No</td>\n",
       "      <td>0.15</td>\n",
       "      <td>11477</td>\n",
       "      <td>77928.83</td>\n",
       "      <td>30873.13</td>\n",
       "      <td>10410</td>\n",
       "      <td>7.485959</td>\n",
       "      <td>2.965719</td>\n",
       "      <td>4.1</td>\n",
       "      <td>2022-04-11</td>\n",
       "      <td>2022-04-01</td>\n",
       "    </tr>\n",
       "    <tr>\n",
       "      <th>132</th>\n",
       "      <td>2022</td>\n",
       "      <td>14</td>\n",
       "      <td>Aussie</td>\n",
       "      <td>4.99</td>\n",
       "      <td>No</td>\n",
       "      <td>0.00</td>\n",
       "      <td>10767</td>\n",
       "      <td>53727.33</td>\n",
       "      <td>23579.73</td>\n",
       "      <td>10556</td>\n",
       "      <td>5.089743</td>\n",
       "      <td>2.233775</td>\n",
       "      <td>2.8</td>\n",
       "      <td>2022-04-04</td>\n",
       "      <td>2022-04-01</td>\n",
       "    </tr>\n",
       "    <tr>\n",
       "      <th>133</th>\n",
       "      <td>2022</td>\n",
       "      <td>15</td>\n",
       "      <td>Aussie</td>\n",
       "      <td>4.79</td>\n",
       "      <td>Yes</td>\n",
       "      <td>0.05</td>\n",
       "      <td>11529</td>\n",
       "      <td>55223.91</td>\n",
       "      <td>22942.71</td>\n",
       "      <td>11303</td>\n",
       "      <td>4.885775</td>\n",
       "      <td>2.029789</td>\n",
       "      <td>2.8</td>\n",
       "      <td>2022-04-11</td>\n",
       "      <td>2022-04-01</td>\n",
       "    </tr>\n",
       "  </tbody>\n",
       "</table>\n",
       "</div>"
      ],
      "text/plain": [
       "     Year  week  Product  Price On Flyer?  Discount  Units   Sales $  \\\n",
       "65   2022    14  Pantene   6.79       Yes      0.15  13118  89071.22   \n",
       "66   2022    15  Pantene   6.79        No      0.15  11477  77928.83   \n",
       "132  2022    14   Aussie   4.99        No      0.00  10767  53727.33   \n",
       "133  2022    15   Aussie   4.79       Yes      0.05  11529  55223.91   \n",
       "\n",
       "     Gross Margin $  Num_Transact  Sales/Transact  Margin/Transact  Cost  \\\n",
       "65         35287.42         12247        7.272901         2.881311   4.1   \n",
       "66         30873.13         10410        7.485959         2.965719   4.1   \n",
       "132        23579.73         10556        5.089743         2.233775   2.8   \n",
       "133        22942.71         11303        4.885775         2.029789   2.8   \n",
       "\n",
       "        Period      Month  \n",
       "65  2022-04-04 2022-04-01  \n",
       "66  2022-04-11 2022-04-01  \n",
       "132 2022-04-04 2022-04-01  \n",
       "133 2022-04-11 2022-04-01  "
      ]
     },
     "execution_count": 105,
     "metadata": {},
     "output_type": "execute_result"
    }
   ],
   "source": [
    "df_new.query(\"Month =='2022-04-01'\")"
   ]
  },
  {
   "cell_type": "markdown",
   "id": "4dc39bfc",
   "metadata": {},
   "source": [
    "The maximum discount on Aussie in the month which has the highest margin is:\n",
    "    \n",
    "- Either no discount at $4.99 per bottle. \n",
    "\n",
    "- Or 5% discount at $4.79 per bottle."
   ]
  },
  {
   "cell_type": "code",
   "execution_count": 106,
   "id": "55ddc562",
   "metadata": {},
   "outputs": [
    {
     "data": {
      "text/html": [
       "<div>\n",
       "<style scoped>\n",
       "    .dataframe tbody tr th:only-of-type {\n",
       "        vertical-align: middle;\n",
       "    }\n",
       "\n",
       "    .dataframe tbody tr th {\n",
       "        vertical-align: top;\n",
       "    }\n",
       "\n",
       "    .dataframe thead th {\n",
       "        text-align: right;\n",
       "    }\n",
       "</style>\n",
       "<table border=\"1\" class=\"dataframe\">\n",
       "  <thead>\n",
       "    <tr style=\"text-align: right;\">\n",
       "      <th></th>\n",
       "      <th>Discount</th>\n",
       "      <th>Price</th>\n",
       "      <th>Margin_avg</th>\n",
       "    </tr>\n",
       "  </thead>\n",
       "  <tbody>\n",
       "    <tr>\n",
       "      <th>0</th>\n",
       "      <td>0.00</td>\n",
       "      <td>4.99</td>\n",
       "      <td>23891.465172</td>\n",
       "    </tr>\n",
       "    <tr>\n",
       "      <th>1</th>\n",
       "      <td>0.05</td>\n",
       "      <td>4.79</td>\n",
       "      <td>22942.710000</td>\n",
       "    </tr>\n",
       "    <tr>\n",
       "      <th>2</th>\n",
       "      <td>0.10</td>\n",
       "      <td>4.49</td>\n",
       "      <td>21339.947228</td>\n",
       "    </tr>\n",
       "    <tr>\n",
       "      <th>3</th>\n",
       "      <td>0.15</td>\n",
       "      <td>4.29</td>\n",
       "      <td>23264.139503</td>\n",
       "    </tr>\n",
       "    <tr>\n",
       "      <th>4</th>\n",
       "      <td>0.20</td>\n",
       "      <td>3.99</td>\n",
       "      <td>26653.322500</td>\n",
       "    </tr>\n",
       "    <tr>\n",
       "      <th>5</th>\n",
       "      <td>0.30</td>\n",
       "      <td>3.49</td>\n",
       "      <td>24598.193333</td>\n",
       "    </tr>\n",
       "    <tr>\n",
       "      <th>6</th>\n",
       "      <td>0.35</td>\n",
       "      <td>3.29</td>\n",
       "      <td>22778.980000</td>\n",
       "    </tr>\n",
       "    <tr>\n",
       "      <th>7</th>\n",
       "      <td>0.40</td>\n",
       "      <td>2.99</td>\n",
       "      <td>10847.733333</td>\n",
       "    </tr>\n",
       "    <tr>\n",
       "      <th>8</th>\n",
       "      <td>0.50</td>\n",
       "      <td>2.49</td>\n",
       "      <td>-23932.000000</td>\n",
       "    </tr>\n",
       "  </tbody>\n",
       "</table>\n",
       "</div>"
      ],
      "text/plain": [
       "   Discount  Price    Margin_avg\n",
       "0      0.00   4.99  23891.465172\n",
       "1      0.05   4.79  22942.710000\n",
       "2      0.10   4.49  21339.947228\n",
       "3      0.15   4.29  23264.139503\n",
       "4      0.20   3.99  26653.322500\n",
       "5      0.30   3.49  24598.193333\n",
       "6      0.35   3.29  22778.980000\n",
       "7      0.40   2.99  10847.733333\n",
       "8      0.50   2.49 -23932.000000"
      ]
     },
     "execution_count": 106,
     "metadata": {},
     "output_type": "execute_result"
    }
   ],
   "source": [
    "df_Aussie_price_margin = pd.DataFrame(df_Aussie.groupby(['Discount','Price'])['Gross Margin $'].mean())\n",
    "df_Aussie_price_margin2 = df_Aussie_price_margin.rename(columns ={'Gross Margin $':'Margin_avg'})\n",
    "df_Aussie_price_margin3= df_Aussie_price_margin2.reset_index()\n",
    "df_Aussie_price_margin3"
   ]
  },
  {
   "cell_type": "code",
   "execution_count": 107,
   "id": "3f1f231c",
   "metadata": {},
   "outputs": [
    {
     "data": {
      "text/plain": [
       "Text(0.5, 1.0, 'Average Gross Margin of Aussie at different price')"
      ]
     },
     "execution_count": 107,
     "metadata": {},
     "output_type": "execute_result"
    },
    {
     "data": {
      "image/png": "[encoded data removed]",
      "text/plain": [
       "<Figure size 1152x360 with 1 Axes>"
      ]
     },
     "metadata": {
      "needs_background": "light"
     },
     "output_type": "display_data"
    }
   ],
   "source": [
    "import seaborn as sns\n",
    "import matplotlib.pyplot as plt\n",
    "fig, ax = plt.subplots(figsize=(16, 5))\n",
    "sns.barplot(x=df_Aussie_price_margin3['Price'],y = 'Margin_avg', data = df_Aussie_price_margin3)\n",
    "plt.title('Average Gross Margin of Aussie at different price')"
   ]
  },
  {
   "cell_type": "markdown",
   "id": "f6a21600",
   "metadata": {},
   "source": [
    "###### Conclusion: The gross margin is the highest when Aussie is sold at 3.99 which is 20% discount.\n",
    "When Aussie is sold at 2.99 which is 40% discount, it does not improve Margin."
   ]
  },
  {
   "cell_type": "code",
   "execution_count": null,
   "id": "fe1cb853",
   "metadata": {},
   "outputs": [],
   "source": []
  }
 ],
 "metadata": {
  "kernelspec": {
   "display_name": "Python 3 (ipykernel)",
   "language": "python",
   "name": "python3"
  },
  "language_info": {
   "codemirror_mode": {
    "name": "ipython",
    "version": 3
   },
   "file_extension": ".py",
   "mimetype": "text/x-python",
   "name": "python",
   "nbconvert_exporter": "python",
   "pygments_lexer": "ipython3",
   "version": "3.9.7"
  }
 },
 "nbformat": 4,
 "nbformat_minor": 5
}
